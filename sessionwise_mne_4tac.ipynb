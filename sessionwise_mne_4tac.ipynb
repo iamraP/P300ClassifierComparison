{
 "cells": [
  {
   "cell_type": "markdown",
   "id": "7cd5e172",
   "metadata": {},
   "source": [
    "#### Code for  adapted from https://github.com/lokinou/p3k_offline_analysis\n",
    "\n",
    "commit e273e9e42380d6c117feec1ef7ca00851b09092e (06.08.21)"
   ]
  },
  {
   "cell_type": "code",
   "execution_count": 1,
   "id": "36662544",
   "metadata": {},
   "outputs": [],
   "source": [
    "# uncomment the line wit qt below to obtain separate plots to save\n",
    "%matplotlib inline\n",
    "#%matplotlib qt\n",
    "#matplotlib.use('Qt5Agg')"
   ]
  },
  {
   "cell_type": "markdown",
   "id": "f74ddd95",
   "metadata": {
    "scrolled": true
   },
   "source": [
    "### Adaptaions:\n",
    "- microvolt/volt scaling in function\n",
    "- channel names are adjusted for the sessions with changed postions \n",
    "    since they were still plugged in the same positions to the pre-Amp they need to be called by the wrong names when looking for the EEG signal in the loadBCI2k function"
   ]
  },
  {
   "cell_type": "code",
   "execution_count": 2,
   "id": "8427f362",
   "metadata": {},
   "outputs": [],
   "source": [
    "from matplotlib import pyplot as plt\n",
    "import numpy as np\n",
    "import os\n",
    "import glob\n",
    "import mne\n",
    "import pandas as pd\n",
    "import itertools\n",
    "import re\n",
    "import matplotlib\n",
    "import pickle\n",
    "from pathlib import Path\n",
    "# LDA\n",
    "from sklearn import metrics\n",
    "from sklearn.discriminant_analysis import LinearDiscriminantAnalysis\n",
    "from sklearn.model_selection import KFold\n",
    "from sklearn.metrics import roc_auc_score\n",
    "from BCI2kReader import BCI2kReader as b2k\n",
    "from BCI2kReader import FileReader as f2k\n"
   ]
  },
  {
   "cell_type": "code",
   "execution_count": 20,
   "id": "2a4811de",
   "metadata": {},
   "outputs": [],
   "source": [
    "raws = []\n",
    "\n",
    "def extract_annotations(filename, verbose=False):\n",
    "    display_preprocessing_plots = False\n",
    "    file= b2k.BCI2kReader(filename)\n",
    "\n",
    "    if verbose:\n",
    "        print(file.states)\n",
    "    target_states = np.squeeze(file.states['StimulusType'])\n",
    "    stimulus_codes = np.squeeze(file.states['StimulusCode'])\n",
    "    if 'StimulusBegin' in file.states.keys():\n",
    "        stimulus_begin = np.squeeze(file.states['StimulusBegin'])\n",
    "    else:\n",
    "        stimulus_begin = np.squeeze(file.states['Flashing'])\n",
    "    \n",
    "    phase = np.squeeze(file.states['PhaseInSequence'])\n",
    "\n",
    "    fs = file.samplingrate\n",
    "\n",
    "    idx_targets = np.where(target_states)[0]\n",
    "    idx_codes = np.where(stimulus_codes>0)[0]\n",
    "    idx_begin = np.where(stimulus_begin>0)[0]\n",
    "\n",
    "\n",
    "    # In BCI2000 states are maintained over different samples, we search here the differences of when the codes are > 0\n",
    "    groups = np.split(idx_codes, np.where(np.diff(idx_codes) != 1)[0]+1)\n",
    "    # we take the first sample where a difference can be found\n",
    "    code_change_idx = np.array([g[0] for g in groups])\n",
    "    #[idx_codes[idx] for idx in code_change_idx]\n",
    "    print('nb stimuli={}'.format(len(code_change_idx)))\n",
    "\n",
    "    # we intersect the target index list with the code change to find the onset of targets and non-targets\n",
    "    target_idx=np.intersect1d(code_change_idx,idx_targets)\n",
    "    print('nb targets={}'.format(len(target_idx)))\n",
    "    non_target_idx= np.setdiff1d(code_change_idx,idx_targets)\n",
    "\n",
    "    # Translating into MNE Annotations \n",
    "    # define the annotations from the recovered stimuli (in seconds)\n",
    "    sample_lengh = 1/fs\n",
    "    onsets = code_change_idx * sample_lengh\n",
    "    onsets = np.repeat(onsets, 2)  # repeat onsets\n",
    "    # define the descriptio\n",
    "    description_targets = np.zeros(code_change_idx.shape, dtype=np.uint)\n",
    "    # index of targets in the list of stimuli onsets\n",
    "    description_targets[np.searchsorted(code_change_idx, target_idx)] = 1\n",
    "    description_codes = stimulus_codes[code_change_idx] + stimulus_padding  # start codes at 100 because 0 and 1 are used for target and nontarget\n",
    "    # merge code and target decriptions\n",
    "    description = np.zeros(description_targets.shape[0]*2, dtype=np.uint)\n",
    "    description[np.arange(description_targets.shape[0]*2, step=2)] = description_codes\n",
    "    description[np.arange(start=1, stop=(description_targets.shape[0]*2)+1, step=2)] = description_targets\n",
    "\n",
    "    if display_preprocessing_plots:\n",
    "        fig = plt.figure()\n",
    "        plt.plot(description[:100])\n",
    "        fig.suptitle('Targets(1) and non-targets(0) for 100 first stimuli')\n",
    "\n",
    "    if display_preprocessing_plots:\n",
    "        fig = plt.figure()\n",
    "        plt.plot(phase == 1)\n",
    "        fig.suptitle('Trial begin')\n",
    "\n",
    "    # extract trial begin markers  #  this method does not work since some stimuli are declared before phase==1\n",
    "    # let's think baclwards use the end markers instead\n",
    "    new_phase_continuous = np.where(phase == 1)[0]\n",
    "    groups = np.split(new_phase_continuous, np.where(np.diff(new_phase_continuous) != 1)[0]+1)\n",
    "    new_trial_idx = np.array([g[0] for g in groups]) if len(groups) > 1 else None\n",
    "    \n",
    "    \n",
    "    # extract trial end markers\n",
    "    new_phase_continuous = np.where(phase == 3)[0]\n",
    "    groups = np.split(new_phase_continuous, np.where(np.diff(new_phase_continuous) != 1)[0]+1)\n",
    "    end_of_trial_idx = np.array([g[-1] for g in groups]) # take the last index to integrate all post sequence duration\n",
    "    \n",
    "    # deduce trial begin markers  # \n",
    "    #new_trial_idx = np.zeros(end_of_trial_idx.size)\n",
    "    #new_trial_idx[1:] = end_of_trial_idx[1:]+1\n",
    "\n",
    "    print(new_trial_idx)\n",
    "    print(end_of_trial_idx)\n",
    "    \n",
    "    \n",
    "    if new_trial_idx is None:\n",
    "        print('WARNING: markers for begin trial (PhaseInSequence=1) missing (in old brain painting dev versions)!!!, using end of trial instead')\n",
    "        new_trial_idx = [0]\n",
    "        new_trial_idx.extend(end_of_trial_idx[0:-1])  # deduce the bounds from end of trial\n",
    "        new_trial_idx = np.array(new_trial_idx)  # convert to numpy\n",
    "        print(new_trial_idx)\n",
    "    \n",
    "    if new_trial_idx.shape[0] > end_of_trial_idx.shape[0]:\n",
    "        print('WARNING: no end of trial for the last trial (interrupted recording?), it will be ignored for offline accuracy calculation')\n",
    "        inter_trial_duration = end_of_trial_idx[0:len(new_trial_idx)] - new_trial_idx\n",
    "    else:\n",
    "        inter_trial_duration = end_of_trial_idx - new_trial_idx\n",
    "        \n",
    "    inter_trial_duration = inter_trial_duration * sample_lengh  # express in seconds\n",
    "\n",
    "\n",
    "    print(\"Extracted {} trials\".format(len(new_trial_idx)))\n",
    "\n",
    "    # set a non-zero duration for stimuli (or MNE ignores them)\n",
    "    duration = np.ones(onsets.shape) * sample_lengh\n",
    "\n",
    "\n",
    "    # merge phase in sequence events with stimuli onsets\n",
    "    onsets_phase = new_trial_idx * sample_lengh\n",
    "    onsets = np.concatenate((onsets, onsets_phase))\n",
    "    \n",
    "    duration = np.concatenate((duration, inter_trial_duration))\n",
    "    description = np.concatenate((description, np.ones(new_trial_idx.shape) * 10))  # concatenate trials markers=10\n",
    "    srt = np.argsort(onsets) # sort according to their timing\n",
    "    onsets=onsets[srt]\n",
    "    duration = duration[srt]\n",
    "    description = description[srt].astype(np.uint8)\n",
    "    inter_trial_duration\n",
    "    annotations = mne.Annotations(onset=onsets, duration=duration, description=description)\n",
    "\n",
    "    file.flush()\n",
    "    return annotations\n",
    "\n",
    "def load_bci2k(filename_list, verbose=False):\n",
    "    \"\"\"\n",
    "    return MNE raw, number of rows in the matrix\n",
    "    \"\"\"\n",
    "    raws = []\n",
    "    for fn in filename_list:\n",
    "        cname = None\n",
    "        with b2k.BCI2kReader(fn) as file:\n",
    "            \n",
    "            # Extract signals and states\n",
    "            print('Reading {}'.format(fn))\n",
    "            eeg_data = file.signals\n",
    "            states = file.states\n",
    "            fs = file.samplingrate\n",
    "            nb_chan = eeg_data.shape[0]\n",
    "            #file.purge()\n",
    "\n",
    "            # Extract channel names\n",
    "            reader = f2k.bcistream(fn)\n",
    "            if verbose:\n",
    "                print(reader.params)\n",
    "            # actualize the parameters by including the defined channel names\n",
    "            if len(reader.params['ChannelNames']):\n",
    "                if cname != reader.params['ChannelNames']:\n",
    "                    cname = reader.params['ChannelNames']\n",
    "                    print('Actualized channel names to {}'.format(cname))\n",
    "\n",
    "            if cname is None:\n",
    "                cname = [str(ch_n) for ch_n in list(range(nb_chan))]\n",
    "                \n",
    "            # extract the number of rows\n",
    "            nb_stim_rows = np.uint8(reader.params['NumMatrixRows'][0])\n",
    "            nb_stim_cols = np.uint8(reader.params['NumMatrixColumns'][0])\n",
    "            nb_seq = np.uint8(reader.params['NumberOfSequences'])\n",
    "\n",
    "            # convert states into annotations\n",
    "            info = mne.create_info(cname, fs, ch_types='eeg', verbose=None)\n",
    "            raw_array = mne.io.RawArray(eeg_data, info)\n",
    "            # Manually force the filename or mne complains\n",
    "            raw_array._filenames = [os.path.basename(fn)]\n",
    "            \n",
    "            # If the variance of the data is >1, it means the data is expressed in microvolts\n",
    "            # Since MNE uses Volt as a default value, we rescale microvolts to volt\n",
    "            if np.var(raw_array._data)>1:\n",
    "                raw_array._data = raw_array._data * 1.e-6\n",
    "                print('Rescaled signal to Volt (mean variance={})'.format(np.var(raw_array._data)))\n",
    "            \n",
    "            annotations = extract_annotations(fn, verbose= False)\n",
    "            raw_array.set_annotations(annotations)\n",
    "            raws.append(raw_array)\n",
    "    return raws, (nb_stim_rows, nb_stim_cols, nb_seq)\n",
    "\n",
    "#fn = [\"./data_sample/bci2000\\Heide_einsteinBP_calibration4S001R01.dat\"]\n",
    "\n"
   ]
  },
  {
   "cell_type": "markdown",
   "id": "c8c565b5",
   "metadata": {},
   "source": []
  },
  {
   "cell_type": "code",
   "execution_count": 23,
   "outputs": [],
   "source": [
    "mne.set_log_level(\"CRITICAL\")"
   ],
   "metadata": {
    "collapsed": false,
    "pycharm": {
     "name": "#%%\n"
    }
   }
  },
  {
   "cell_type": "code",
   "execution_count": 24,
   "id": "48a60107",
   "metadata": {
    "scrolled": false
   },
   "outputs": [
    {
     "name": "stderr",
     "output_type": "stream",
     "text": [
      "WARNING: failed to interpret \"auto\" as type int in parameter \"VisualizeSourceBufferSize\"\n",
      "WARNING: failed to interpret \"1/2s\" as type float in parameter \"PreSequenceDuration\"\n"
     ]
    },
    {
     "name": "stdout",
     "output_type": "stream",
     "text": [
      "Reading WT-tacCalib001\\WT-tacCalibS001R01.dat\n"
     ]
    },
    {
     "name": "stderr",
     "output_type": "stream",
     "text": [
      "WARNING: failed to interpret \"auto\" as type int in parameter \"VisualizeSourceBufferSize\"\n",
      "WARNING: failed to interpret \"1/2s\" as type float in parameter \"PreSequenceDuration\"\n",
      "WARNING: failed to interpret \"auto\" as type int in parameter \"VisualizeSourceBufferSize\"\n",
      "WARNING: failed to interpret \"1/2s\" as type float in parameter \"PreSequenceDuration\"\n"
     ]
    },
    {
     "name": "stdout",
     "output_type": "stream",
     "text": [
      "Actualized channel names to ['Fz', 'Fc1', 'Fc2', 'C3', 'Cz', 'C4', 'P3', 'Pz', 'P4', 'O1', 'Oz', 'O2']\n",
      "Rescaled signal to Volt (mean variance=2.5845430526843326e-10)\n"
     ]
    },
    {
     "name": "stderr",
     "output_type": "stream",
     "text": [
      "WARNING: failed to interpret \"auto\" as type int in parameter \"VisualizeSourceBufferSize\"\n",
      "WARNING: failed to interpret \"1/2s\" as type float in parameter \"PreSequenceDuration\"\n"
     ]
    },
    {
     "name": "stdout",
     "output_type": "stream",
     "text": [
      "nb stimuli=320\n",
      "nb targets=80\n",
      "[ 1024 14784 28544 42304 56064 69824 83584 97344]\n",
      "[ 14783  28543  42303  56063  69823  83583  97343 111103]\n",
      "Extracted 8 trials\n",
      "Reading WT-tacCalib001\\WT-tacCalibS001R05.dat\n"
     ]
    },
    {
     "name": "stderr",
     "output_type": "stream",
     "text": [
      "WARNING: failed to interpret \"auto\" as type int in parameter \"VisualizeSourceBufferSize\"\n",
      "WARNING: failed to interpret \"1/2s\" as type float in parameter \"PreSequenceDuration\"\n",
      "WARNING: failed to interpret \"auto\" as type int in parameter \"VisualizeSourceBufferSize\"\n",
      "WARNING: failed to interpret \"1/2s\" as type float in parameter \"PreSequenceDuration\"\n"
     ]
    },
    {
     "name": "stdout",
     "output_type": "stream",
     "text": [
      "Actualized channel names to ['Fz', 'Fc1', 'Fc2', 'C3', 'Cz', 'C4', 'P3', 'Pz', 'P4', 'O1', 'Oz', 'O2']\n",
      "Rescaled signal to Volt (mean variance=2.8952849062533285e-10)\n"
     ]
    },
    {
     "name": "stderr",
     "output_type": "stream",
     "text": [
      "WARNING: failed to interpret \"auto\" as type int in parameter \"VisualizeSourceBufferSize\"\n",
      "WARNING: failed to interpret \"1/2s\" as type float in parameter \"PreSequenceDuration\"\n"
     ]
    },
    {
     "name": "stdout",
     "output_type": "stream",
     "text": [
      "nb stimuli=320\n",
      "nb targets=80\n",
      "[ 1024 14784 28544 42304 56064 69824 83584 97344]\n",
      "[ 14783  28543  42303  56063  69823  83583  97343 111103]\n",
      "Extracted 8 trials\n",
      "Reading WT-tacCalib001\\WT-tacCalibS001R06.dat\n"
     ]
    },
    {
     "name": "stderr",
     "output_type": "stream",
     "text": [
      "WARNING: failed to interpret \"auto\" as type int in parameter \"VisualizeSourceBufferSize\"\n",
      "WARNING: failed to interpret \"1/2s\" as type float in parameter \"PreSequenceDuration\"\n",
      "WARNING: failed to interpret \"auto\" as type int in parameter \"VisualizeSourceBufferSize\"\n",
      "WARNING: failed to interpret \"1/2s\" as type float in parameter \"PreSequenceDuration\"\n"
     ]
    },
    {
     "name": "stdout",
     "output_type": "stream",
     "text": [
      "Actualized channel names to ['Fz', 'Fc1', 'Fc2', 'C3', 'Cz', 'C4', 'P3', 'Pz', 'P4', 'O1', 'Oz', 'O2']\n",
      "Rescaled signal to Volt (mean variance=4.396012221532711e-10)\n"
     ]
    },
    {
     "name": "stderr",
     "output_type": "stream",
     "text": [
      "WARNING: failed to interpret \"auto\" as type int in parameter \"VisualizeSourceBufferSize\"\n"
     ]
    },
    {
     "name": "stdout",
     "output_type": "stream",
     "text": [
      "nb stimuli=320\n",
      "nb targets=80\n",
      "[ 1024 14784 28544 42304 56064 69824 83584 97344]\n",
      "[ 14783  28543  42303  56063  69823  83583  97343 111103]\n",
      "Extracted 8 trials\n"
     ]
    },
    {
     "name": "stderr",
     "output_type": "stream",
     "text": [
      "WARNING: failed to interpret \"1/2s\" as type float in parameter \"PreSequenceDuration\"\n"
     ]
    },
    {
     "name": "stdout",
     "output_type": "stream",
     "text": [
      "Reading WT-tacCopy001\\WT-tacCopyS001R01.dat\n"
     ]
    },
    {
     "name": "stderr",
     "output_type": "stream",
     "text": [
      "WARNING: failed to interpret \"auto\" as type int in parameter \"VisualizeSourceBufferSize\"\n",
      "WARNING: failed to interpret \"1/2s\" as type float in parameter \"PreSequenceDuration\"\n",
      "WARNING: failed to interpret \"auto\" as type int in parameter \"VisualizeSourceBufferSize\"\n",
      "WARNING: failed to interpret \"1/2s\" as type float in parameter \"PreSequenceDuration\"\n"
     ]
    },
    {
     "name": "stdout",
     "output_type": "stream",
     "text": [
      "Actualized channel names to ['Fz', 'Fc1', 'Fc2', 'C3', 'Cz', 'C4', 'P3', 'Pz', 'P4', 'O1', 'Oz', 'O2']\n",
      "Rescaled signal to Volt (mean variance=3.517101356305439e-10)\n"
     ]
    },
    {
     "name": "stderr",
     "output_type": "stream",
     "text": [
      "WARNING: failed to interpret \"auto\" as type int in parameter \"VisualizeSourceBufferSize\"\n",
      "WARNING: failed to interpret \"1/2s\" as type float in parameter \"PreSequenceDuration\"\n"
     ]
    },
    {
     "name": "stdout",
     "output_type": "stream",
     "text": [
      "nb stimuli=192\n",
      "nb targets=48\n",
      "[ 1024 10304 19584 28864 38144 47424 56704 65984]\n",
      "[10303 19583 28863 38143 47423 56703 65983 75263]\n",
      "Extracted 8 trials\n",
      "Reading WT-tacCopy001\\WT-tacCopyS001R02.dat\n"
     ]
    },
    {
     "name": "stderr",
     "output_type": "stream",
     "text": [
      "WARNING: failed to interpret \"auto\" as type int in parameter \"VisualizeSourceBufferSize\"\n",
      "WARNING: failed to interpret \"1/2s\" as type float in parameter \"PreSequenceDuration\"\n",
      "WARNING: failed to interpret \"auto\" as type int in parameter \"VisualizeSourceBufferSize\"\n",
      "WARNING: failed to interpret \"1/2s\" as type float in parameter \"PreSequenceDuration\"\n"
     ]
    },
    {
     "name": "stdout",
     "output_type": "stream",
     "text": [
      "Actualized channel names to ['Fz', 'Fc1', 'Fc2', 'C3', 'Cz', 'C4', 'P3', 'Pz', 'P4', 'O1', 'Oz', 'O2']\n",
      "Rescaled signal to Volt (mean variance=4.388799820282272e-10)\n"
     ]
    },
    {
     "name": "stderr",
     "output_type": "stream",
     "text": [
      "WARNING: failed to interpret \"auto\" as type int in parameter \"VisualizeSourceBufferSize\"\n",
      "WARNING: failed to interpret \"1/2s\" as type float in parameter \"PreSequenceDuration\"\n"
     ]
    },
    {
     "name": "stdout",
     "output_type": "stream",
     "text": [
      "nb stimuli=256\n",
      "nb targets=64\n",
      "[ 1024 12800 24576 36352 48128 59904 71680 83456]\n",
      "[12799 24575 36351 48127 59903 71679 83455 95231]\n",
      "Extracted 8 trials\n",
      "Reading WT-tacCopy001\\WT-tacCopyS001R03.dat\n"
     ]
    },
    {
     "name": "stderr",
     "output_type": "stream",
     "text": [
      "WARNING: failed to interpret \"auto\" as type int in parameter \"VisualizeSourceBufferSize\"\n",
      "WARNING: failed to interpret \"1/2s\" as type float in parameter \"PreSequenceDuration\"\n",
      "WARNING: failed to interpret \"auto\" as type int in parameter \"VisualizeSourceBufferSize\"\n",
      "WARNING: failed to interpret \"1/2s\" as type float in parameter \"PreSequenceDuration\"\n"
     ]
    },
    {
     "name": "stdout",
     "output_type": "stream",
     "text": [
      "Actualized channel names to ['Fz', 'Fc1', 'Fc2', 'C3', 'Cz', 'C4', 'P3', 'Pz', 'P4', 'O1', 'Oz', 'O2']\n",
      "Rescaled signal to Volt (mean variance=3.3706543795515386e-10)\n"
     ]
    },
    {
     "name": "stderr",
     "output_type": "stream",
     "text": [
      "WARNING: failed to interpret \"auto\" as type int in parameter \"VisualizeSourceBufferSize\"\n",
      "WARNING: failed to interpret \"1/2s\" as type float in parameter \"PreSequenceDuration\"\n"
     ]
    },
    {
     "name": "stdout",
     "output_type": "stream",
     "text": [
      "nb stimuli=256\n",
      "nb targets=64\n",
      "[ 1024 12800 24576 36352 48128 59904 71680 83456]\n",
      "[12799 24575 36351 48127 59903 71679 83455 95231]\n",
      "Extracted 8 trials\n",
      "Reading WT-tacCalib002\\WT-tacCalibS002R01.dat\n"
     ]
    },
    {
     "name": "stderr",
     "output_type": "stream",
     "text": [
      "WARNING: failed to interpret \"auto\" as type int in parameter \"VisualizeSourceBufferSize\"\n",
      "WARNING: failed to interpret \"1/2s\" as type float in parameter \"PreSequenceDuration\"\n",
      "WARNING: failed to interpret \"auto\" as type int in parameter \"VisualizeSourceBufferSize\"\n",
      "WARNING: failed to interpret \"1/2s\" as type float in parameter \"PreSequenceDuration\"\n"
     ]
    },
    {
     "name": "stdout",
     "output_type": "stream",
     "text": [
      "Actualized channel names to ['Fz', 'Fc1', 'Fc2', 'C3', 'Cz', 'C4', 'P3', 'Pz', 'P4', 'O1', 'Oz', 'O2']\n",
      "Rescaled signal to Volt (mean variance=3.367903623015233e-10)\n"
     ]
    },
    {
     "name": "stderr",
     "output_type": "stream",
     "text": [
      "WARNING: failed to interpret \"auto\" as type int in parameter \"VisualizeSourceBufferSize\"\n",
      "WARNING: failed to interpret \"1/2s\" as type float in parameter \"PreSequenceDuration\"\n"
     ]
    },
    {
     "name": "stdout",
     "output_type": "stream",
     "text": [
      "nb stimuli=320\n",
      "nb targets=80\n",
      "[ 1024 14784 28544 42304 56064 69824 83584 97344]\n",
      "[ 14783  28543  42303  56063  69823  83583  97343 111103]\n",
      "Extracted 8 trials\n",
      "Reading WT-tacCalib002\\WT-tacCalibS002R02.dat\n"
     ]
    },
    {
     "name": "stderr",
     "output_type": "stream",
     "text": [
      "WARNING: failed to interpret \"auto\" as type int in parameter \"VisualizeSourceBufferSize\"\n",
      "WARNING: failed to interpret \"1/2s\" as type float in parameter \"PreSequenceDuration\"\n",
      "WARNING: failed to interpret \"auto\" as type int in parameter \"VisualizeSourceBufferSize\"\n",
      "WARNING: failed to interpret \"1/2s\" as type float in parameter \"PreSequenceDuration\"\n"
     ]
    },
    {
     "name": "stdout",
     "output_type": "stream",
     "text": [
      "Actualized channel names to ['Fz', 'Fc1', 'Fc2', 'C3', 'Cz', 'C4', 'P3', 'Pz', 'P4', 'O1', 'Oz', 'O2']\n",
      "Rescaled signal to Volt (mean variance=2.649959187170339e-10)\n"
     ]
    },
    {
     "name": "stderr",
     "output_type": "stream",
     "text": [
      "WARNING: failed to interpret \"auto\" as type int in parameter \"VisualizeSourceBufferSize\"\n",
      "WARNING: failed to interpret \"1/2s\" as type float in parameter \"PreSequenceDuration\"\n"
     ]
    },
    {
     "name": "stdout",
     "output_type": "stream",
     "text": [
      "nb stimuli=320\n",
      "nb targets=80\n",
      "[ 1024 14784 28544 42304 56064 69824 83584 97344]\n",
      "[ 14783  28543  42303  56063  69823  83583  97343 111103]\n",
      "Extracted 8 trials\n",
      "Reading WT-tacCalib002\\WT-tacCalibS002R03.dat\n"
     ]
    },
    {
     "name": "stderr",
     "output_type": "stream",
     "text": [
      "WARNING: failed to interpret \"auto\" as type int in parameter \"VisualizeSourceBufferSize\"\n",
      "WARNING: failed to interpret \"1/2s\" as type float in parameter \"PreSequenceDuration\"\n",
      "WARNING: failed to interpret \"auto\" as type int in parameter \"VisualizeSourceBufferSize\"\n",
      "WARNING: failed to interpret \"1/2s\" as type float in parameter \"PreSequenceDuration\"\n"
     ]
    },
    {
     "name": "stdout",
     "output_type": "stream",
     "text": [
      "Actualized channel names to ['Fz', 'Fc1', 'Fc2', 'C3', 'Cz', 'C4', 'P3', 'Pz', 'P4', 'O1', 'Oz', 'O2']\n",
      "Rescaled signal to Volt (mean variance=3.516374376360035e-10)\n",
      "nb stimuli=320\n",
      "nb targets=80\n",
      "[ 1024 14784 28544 42304 56064 69824 83584 97344]\n",
      "[ 14783  28543  42303  56063  69823  83583  97343 111103]\n",
      "Extracted 8 trials\n"
     ]
    },
    {
     "name": "stderr",
     "output_type": "stream",
     "text": [
      "WARNING: failed to interpret \"auto\" as type int in parameter \"VisualizeSourceBufferSize\"\n",
      "WARNING: failed to interpret \"1/2s\" as type float in parameter \"PreSequenceDuration\"\n"
     ]
    },
    {
     "name": "stdout",
     "output_type": "stream",
     "text": [
      "Reading WT-tacCopy002\\WT-tacCopyS002R01.dat\n"
     ]
    },
    {
     "name": "stderr",
     "output_type": "stream",
     "text": [
      "WARNING: failed to interpret \"auto\" as type int in parameter \"VisualizeSourceBufferSize\"\n",
      "WARNING: failed to interpret \"1/2s\" as type float in parameter \"PreSequenceDuration\"\n",
      "WARNING: failed to interpret \"auto\" as type int in parameter \"VisualizeSourceBufferSize\"\n",
      "WARNING: failed to interpret \"1/2s\" as type float in parameter \"PreSequenceDuration\"\n"
     ]
    },
    {
     "name": "stdout",
     "output_type": "stream",
     "text": [
      "Actualized channel names to ['Fz', 'Fc1', 'Fc2', 'C3', 'Cz', 'C4', 'P3', 'Pz', 'P4', 'O1', 'Oz', 'O2']\n",
      "Rescaled signal to Volt (mean variance=4.4253718880921204e-10)\n"
     ]
    },
    {
     "name": "stderr",
     "output_type": "stream",
     "text": [
      "WARNING: failed to interpret \"auto\" as type int in parameter \"VisualizeSourceBufferSize\"\n",
      "WARNING: failed to interpret \"1/2s\" as type float in parameter \"PreSequenceDuration\"\n"
     ]
    },
    {
     "name": "stdout",
     "output_type": "stream",
     "text": [
      "nb stimuli=256\n",
      "nb targets=64\n",
      "[ 1024 12800 24576 36352 48128 59904 71680 83456]\n",
      "[12799 24575 36351 48127 59903 71679 83455 95231]\n",
      "Extracted 8 trials\n",
      "Reading WT-tacCopy002\\WT-tacCopyS002R02.dat\n"
     ]
    },
    {
     "name": "stderr",
     "output_type": "stream",
     "text": [
      "WARNING: failed to interpret \"auto\" as type int in parameter \"VisualizeSourceBufferSize\"\n",
      "WARNING: failed to interpret \"1/2s\" as type float in parameter \"PreSequenceDuration\"\n",
      "WARNING: failed to interpret \"auto\" as type int in parameter \"VisualizeSourceBufferSize\"\n",
      "WARNING: failed to interpret \"1/2s\" as type float in parameter \"PreSequenceDuration\"\n"
     ]
    },
    {
     "name": "stdout",
     "output_type": "stream",
     "text": [
      "Actualized channel names to ['Fz', 'Fc1', 'Fc2', 'C3', 'Cz', 'C4', 'P3', 'Pz', 'P4', 'O1', 'Oz', 'O2']\n",
      "Rescaled signal to Volt (mean variance=4.696483052732529e-10)\n"
     ]
    },
    {
     "name": "stderr",
     "output_type": "stream",
     "text": [
      "WARNING: failed to interpret \"auto\" as type int in parameter \"VisualizeSourceBufferSize\"\n",
      "WARNING: failed to interpret \"1/2s\" as type float in parameter \"PreSequenceDuration\"\n"
     ]
    },
    {
     "name": "stdout",
     "output_type": "stream",
     "text": [
      "nb stimuli=256\n",
      "nb targets=64\n",
      "[ 1024 12800 24576 36352 48128 59904 71680 83456]\n",
      "[12799 24575 36351 48127 59903 71679 83455 95231]\n",
      "Extracted 8 trials\n",
      "Reading WT-tacCopy002\\WT-tacCopyS002R03.dat\n"
     ]
    },
    {
     "name": "stderr",
     "output_type": "stream",
     "text": [
      "WARNING: failed to interpret \"auto\" as type int in parameter \"VisualizeSourceBufferSize\"\n",
      "WARNING: failed to interpret \"1/2s\" as type float in parameter \"PreSequenceDuration\"\n",
      "WARNING: failed to interpret \"auto\" as type int in parameter \"VisualizeSourceBufferSize\"\n",
      "WARNING: failed to interpret \"1/2s\" as type float in parameter \"PreSequenceDuration\"\n"
     ]
    },
    {
     "name": "stdout",
     "output_type": "stream",
     "text": [
      "Actualized channel names to ['Fz', 'Fc1', 'Fc2', 'C3', 'Cz', 'C4', 'P3', 'Pz', 'P4', 'O1', 'Oz', 'O2']\n",
      "Rescaled signal to Volt (mean variance=3.8305440176065817e-10)\n"
     ]
    },
    {
     "name": "stderr",
     "output_type": "stream",
     "text": [
      "WARNING: failed to interpret \"auto\" as type int in parameter \"VisualizeSourceBufferSize\"\n",
      "WARNING: failed to interpret \"1/2s\" as type float in parameter \"PreSequenceDuration\"\n"
     ]
    },
    {
     "name": "stdout",
     "output_type": "stream",
     "text": [
      "nb stimuli=256\n",
      "nb targets=64\n",
      "[ 1024 12800 24576 36352 48128 59904 71680 83456]\n",
      "[12799 24575 36351 48127 59903 71679 83455 95231]\n",
      "Extracted 8 trials\n",
      "Reading WT-tacCalib003\\WT-tacCalibS003R01.dat\n"
     ]
    },
    {
     "name": "stderr",
     "output_type": "stream",
     "text": [
      "WARNING: failed to interpret \"auto\" as type int in parameter \"VisualizeSourceBufferSize\"\n",
      "WARNING: failed to interpret \"1/2s\" as type float in parameter \"PreSequenceDuration\"\n",
      "WARNING: failed to interpret \"auto\" as type int in parameter \"VisualizeSourceBufferSize\"\n",
      "WARNING: failed to interpret \"1/2s\" as type float in parameter \"PreSequenceDuration\"\n"
     ]
    },
    {
     "name": "stdout",
     "output_type": "stream",
     "text": [
      "Actualized channel names to ['Fz', 'Fc1', 'Fc2', 'C3', 'Cz', 'C4', 'P3', 'Pz', 'P4', 'O1', 'Oz', 'O2']\n",
      "Rescaled signal to Volt (mean variance=1.755529543750408e-10)\n"
     ]
    },
    {
     "name": "stderr",
     "output_type": "stream",
     "text": [
      "WARNING: failed to interpret \"auto\" as type int in parameter \"VisualizeSourceBufferSize\"\n",
      "WARNING: failed to interpret \"1/2s\" as type float in parameter \"PreSequenceDuration\"\n"
     ]
    },
    {
     "name": "stdout",
     "output_type": "stream",
     "text": [
      "nb stimuli=320\n",
      "nb targets=80\n",
      "[ 1024 14784 28544 42304 56064 69824 83584 97344]\n",
      "[ 14783  28543  42303  56063  69823  83583  97343 111103]\n",
      "Extracted 8 trials\n",
      "Reading WT-tacCalib003\\WT-tacCalibS003R02.dat\n"
     ]
    },
    {
     "name": "stderr",
     "output_type": "stream",
     "text": [
      "WARNING: failed to interpret \"auto\" as type int in parameter \"VisualizeSourceBufferSize\"\n",
      "WARNING: failed to interpret \"1/2s\" as type float in parameter \"PreSequenceDuration\"\n",
      "WARNING: failed to interpret \"auto\" as type int in parameter \"VisualizeSourceBufferSize\"\n",
      "WARNING: failed to interpret \"1/2s\" as type float in parameter \"PreSequenceDuration\"\n"
     ]
    },
    {
     "name": "stdout",
     "output_type": "stream",
     "text": [
      "Actualized channel names to ['Fz', 'Fc1', 'Fc2', 'C3', 'Cz', 'C4', 'P3', 'Pz', 'P4', 'O1', 'Oz', 'O2']\n",
      "Rescaled signal to Volt (mean variance=2.410928343960601e-10)\n"
     ]
    },
    {
     "name": "stderr",
     "output_type": "stream",
     "text": [
      "WARNING: failed to interpret \"auto\" as type int in parameter \"VisualizeSourceBufferSize\"\n",
      "WARNING: failed to interpret \"1/2s\" as type float in parameter \"PreSequenceDuration\"\n"
     ]
    },
    {
     "name": "stdout",
     "output_type": "stream",
     "text": [
      "nb stimuli=320\n",
      "nb targets=80\n",
      "[ 1024 14784 28544 42304 56064 69824 83584 97344]\n",
      "[ 14783  28543  42303  56063  69823  83583  97343 111103]\n",
      "Extracted 8 trials\n",
      "Reading WT-tacCalib003\\WT-tacCalibS003R03.dat\n"
     ]
    },
    {
     "name": "stderr",
     "output_type": "stream",
     "text": [
      "WARNING: failed to interpret \"auto\" as type int in parameter \"VisualizeSourceBufferSize\"\n",
      "WARNING: failed to interpret \"1/2s\" as type float in parameter \"PreSequenceDuration\"\n",
      "WARNING: failed to interpret \"auto\" as type int in parameter \"VisualizeSourceBufferSize\"\n",
      "WARNING: failed to interpret \"1/2s\" as type float in parameter \"PreSequenceDuration\"\n"
     ]
    },
    {
     "name": "stdout",
     "output_type": "stream",
     "text": [
      "Actualized channel names to ['Fz', 'Fc1', 'Fc2', 'C3', 'Cz', 'C4', 'P3', 'Pz', 'P4', 'O1', 'Oz', 'O2']\n",
      "Rescaled signal to Volt (mean variance=1.6816491627573646e-10)\n",
      "nb stimuli=320\n",
      "nb targets=80\n",
      "[ 1024 14784 28544 42304 56064 69824 83584 97344]\n",
      "[ 14783  28543  42303  56063  69823  83583  97343 111103]\n",
      "Extracted 8 trials\n"
     ]
    },
    {
     "name": "stderr",
     "output_type": "stream",
     "text": [
      "WARNING: failed to interpret \"auto\" as type int in parameter \"VisualizeSourceBufferSize\"\n",
      "WARNING: failed to interpret \"1/2s\" as type float in parameter \"PreSequenceDuration\"\n"
     ]
    },
    {
     "name": "stdout",
     "output_type": "stream",
     "text": [
      "Reading WT-tacCopy003\\WT-tacCopyS003R01.dat\n"
     ]
    },
    {
     "name": "stderr",
     "output_type": "stream",
     "text": [
      "WARNING: failed to interpret \"auto\" as type int in parameter \"VisualizeSourceBufferSize\"\n",
      "WARNING: failed to interpret \"1/2s\" as type float in parameter \"PreSequenceDuration\"\n",
      "WARNING: failed to interpret \"auto\" as type int in parameter \"VisualizeSourceBufferSize\"\n",
      "WARNING: failed to interpret \"1/2s\" as type float in parameter \"PreSequenceDuration\"\n"
     ]
    },
    {
     "name": "stdout",
     "output_type": "stream",
     "text": [
      "Actualized channel names to ['Fz', 'Fc1', 'Fc2', 'C3', 'Cz', 'C4', 'P3', 'Pz', 'P4', 'O1', 'Oz', 'O2']\n",
      "Rescaled signal to Volt (mean variance=4.2849886141455004e-10)\n"
     ]
    },
    {
     "name": "stderr",
     "output_type": "stream",
     "text": [
      "WARNING: failed to interpret \"auto\" as type int in parameter \"VisualizeSourceBufferSize\"\n",
      "WARNING: failed to interpret \"1/2s\" as type float in parameter \"PreSequenceDuration\"\n"
     ]
    },
    {
     "name": "stdout",
     "output_type": "stream",
     "text": [
      "nb stimuli=256\n",
      "nb targets=64\n",
      "[ 1024 12800 24576 36352 48128 59904 71680 83456]\n",
      "[12799 24575 36351 48127 59903 71679 83455 95231]\n",
      "Extracted 8 trials\n",
      "Reading WT-tacCopy003\\WT-tacCopyS003R02.dat\n"
     ]
    },
    {
     "name": "stderr",
     "output_type": "stream",
     "text": [
      "WARNING: failed to interpret \"auto\" as type int in parameter \"VisualizeSourceBufferSize\"\n",
      "WARNING: failed to interpret \"1/2s\" as type float in parameter \"PreSequenceDuration\"\n",
      "WARNING: failed to interpret \"auto\" as type int in parameter \"VisualizeSourceBufferSize\"\n",
      "WARNING: failed to interpret \"1/2s\" as type float in parameter \"PreSequenceDuration\"\n"
     ]
    },
    {
     "name": "stdout",
     "output_type": "stream",
     "text": [
      "Actualized channel names to ['Fz', 'Fc1', 'Fc2', 'C3', 'Cz', 'C4', 'P3', 'Pz', 'P4', 'O1', 'Oz', 'O2']\n",
      "Rescaled signal to Volt (mean variance=3.79854905350212e-10)\n"
     ]
    },
    {
     "name": "stderr",
     "output_type": "stream",
     "text": [
      "WARNING: failed to interpret \"auto\" as type int in parameter \"VisualizeSourceBufferSize\"\n",
      "WARNING: failed to interpret \"1/2s\" as type float in parameter \"PreSequenceDuration\"\n"
     ]
    },
    {
     "name": "stdout",
     "output_type": "stream",
     "text": [
      "nb stimuli=256\n",
      "nb targets=64\n",
      "[ 1024 12800 24576 36352 48128 59904 71680 83456]\n",
      "[12799 24575 36351 48127 59903 71679 83455 95231]\n",
      "Extracted 8 trials\n",
      "Reading WT-tacCopy003\\WT-tacCopyS003R03.dat\n"
     ]
    },
    {
     "name": "stderr",
     "output_type": "stream",
     "text": [
      "WARNING: failed to interpret \"auto\" as type int in parameter \"VisualizeSourceBufferSize\"\n",
      "WARNING: failed to interpret \"1/2s\" as type float in parameter \"PreSequenceDuration\"\n",
      "WARNING: failed to interpret \"auto\" as type int in parameter \"VisualizeSourceBufferSize\"\n",
      "WARNING: failed to interpret \"1/2s\" as type float in parameter \"PreSequenceDuration\"\n"
     ]
    },
    {
     "name": "stdout",
     "output_type": "stream",
     "text": [
      "Actualized channel names to ['Fz', 'Fc1', 'Fc2', 'C3', 'Cz', 'C4', 'P3', 'Pz', 'P4', 'O1', 'Oz', 'O2']\n",
      "Rescaled signal to Volt (mean variance=4.220285146443833e-10)\n",
      "nb stimuli=256\n",
      "nb targets=64\n",
      "[ 1024 12800 24576 36352 48128 59904 71680 83456]\n",
      "[12799 24575 36351 48127 59903 71679 83455 95231]\n",
      "Extracted 8 trials\n"
     ]
    },
    {
     "name": "stderr",
     "output_type": "stream",
     "text": [
      "WARNING: failed to interpret \"auto\" as type int in parameter \"VisualizeSourceBufferSize\"\n",
      "WARNING: failed to interpret \"1/2s\" as type float in parameter \"PreSequenceDuration\"\n"
     ]
    },
    {
     "name": "stdout",
     "output_type": "stream",
     "text": [
      "Reading WT-tacCalib004\\WT-tacCalibS004R01.dat\n"
     ]
    },
    {
     "name": "stderr",
     "output_type": "stream",
     "text": [
      "WARNING: failed to interpret \"auto\" as type int in parameter \"VisualizeSourceBufferSize\"\n",
      "WARNING: failed to interpret \"1/2s\" as type float in parameter \"PreSequenceDuration\"\n",
      "WARNING: failed to interpret \"auto\" as type int in parameter \"VisualizeSourceBufferSize\"\n",
      "WARNING: failed to interpret \"1/2s\" as type float in parameter \"PreSequenceDuration\"\n"
     ]
    },
    {
     "name": "stdout",
     "output_type": "stream",
     "text": [
      "Actualized channel names to ['Fz', 'Fc1', 'Fc2', 'C3', 'Cz', 'C4', 'P3', 'Pz', 'P4', 'O1', 'Oz', 'O2']\n",
      "Rescaled signal to Volt (mean variance=1.3425323174107248e-09)\n"
     ]
    },
    {
     "name": "stderr",
     "output_type": "stream",
     "text": [
      "WARNING: failed to interpret \"auto\" as type int in parameter \"VisualizeSourceBufferSize\"\n",
      "WARNING: failed to interpret \"1/2s\" as type float in parameter \"PreSequenceDuration\"\n"
     ]
    },
    {
     "name": "stdout",
     "output_type": "stream",
     "text": [
      "nb stimuli=320\n",
      "nb targets=80\n",
      "[ 1024 14784 28544 42304 56064 69824 83584 97344]\n",
      "[ 14783  28543  42303  56063  69823  83583  97343 111103]\n",
      "Extracted 8 trials\n",
      "Reading WT-tacCalib004\\WT-tacCalibS004R02.dat\n"
     ]
    },
    {
     "name": "stderr",
     "output_type": "stream",
     "text": [
      "WARNING: failed to interpret \"auto\" as type int in parameter \"VisualizeSourceBufferSize\"\n",
      "WARNING: failed to interpret \"1/2s\" as type float in parameter \"PreSequenceDuration\"\n",
      "WARNING: failed to interpret \"auto\" as type int in parameter \"VisualizeSourceBufferSize\"\n",
      "WARNING: failed to interpret \"1/2s\" as type float in parameter \"PreSequenceDuration\"\n"
     ]
    },
    {
     "name": "stdout",
     "output_type": "stream",
     "text": [
      "Actualized channel names to ['Fz', 'Fc1', 'Fc2', 'C3', 'Cz', 'C4', 'P3', 'Pz', 'P4', 'O1', 'Oz', 'O2']\n",
      "Rescaled signal to Volt (mean variance=7.856971770294537e-10)\n"
     ]
    },
    {
     "name": "stderr",
     "output_type": "stream",
     "text": [
      "WARNING: failed to interpret \"auto\" as type int in parameter \"VisualizeSourceBufferSize\"\n",
      "WARNING: failed to interpret \"1/2s\" as type float in parameter \"PreSequenceDuration\"\n"
     ]
    },
    {
     "name": "stdout",
     "output_type": "stream",
     "text": [
      "nb stimuli=320\n",
      "nb targets=80\n",
      "[ 1024 14784 28544 42304 56064 69824 83584 97344]\n",
      "[ 14783  28543  42303  56063  69823  83583  97343 111103]\n",
      "Extracted 8 trials\n",
      "Reading WT-tacCalib004\\WT-tacCalibS004R03.dat\n"
     ]
    },
    {
     "name": "stderr",
     "output_type": "stream",
     "text": [
      "WARNING: failed to interpret \"auto\" as type int in parameter \"VisualizeSourceBufferSize\"\n",
      "WARNING: failed to interpret \"1/2s\" as type float in parameter \"PreSequenceDuration\"\n",
      "WARNING: failed to interpret \"auto\" as type int in parameter \"VisualizeSourceBufferSize\"\n",
      "WARNING: failed to interpret \"1/2s\" as type float in parameter \"PreSequenceDuration\"\n"
     ]
    },
    {
     "name": "stdout",
     "output_type": "stream",
     "text": [
      "Actualized channel names to ['Fz', 'Fc1', 'Fc2', 'C3', 'Cz', 'C4', 'P3', 'Pz', 'P4', 'O1', 'Oz', 'O2']\n",
      "Rescaled signal to Volt (mean variance=2.3979929376958104e-09)\n",
      "nb stimuli=320\n",
      "nb targets=80\n",
      "[ 1024 14784 28544 42304 56064 69824 83584 97344]\n",
      "[ 14783  28543  42303  56063  69823  83583  97343 111103]\n",
      "Extracted 8 trials\n"
     ]
    },
    {
     "name": "stderr",
     "output_type": "stream",
     "text": [
      "WARNING: failed to interpret \"auto\" as type int in parameter \"VisualizeSourceBufferSize\"\n",
      "WARNING: failed to interpret \"1/2s\" as type float in parameter \"PreSequenceDuration\"\n"
     ]
    },
    {
     "name": "stdout",
     "output_type": "stream",
     "text": [
      "Reading WT-tacCopy004\\WT-tacCopyS004R01.dat\n"
     ]
    },
    {
     "name": "stderr",
     "output_type": "stream",
     "text": [
      "WARNING: failed to interpret \"auto\" as type int in parameter \"VisualizeSourceBufferSize\"\n",
      "WARNING: failed to interpret \"1/2s\" as type float in parameter \"PreSequenceDuration\"\n",
      "WARNING: failed to interpret \"auto\" as type int in parameter \"VisualizeSourceBufferSize\"\n",
      "WARNING: failed to interpret \"1/2s\" as type float in parameter \"PreSequenceDuration\"\n"
     ]
    },
    {
     "name": "stdout",
     "output_type": "stream",
     "text": [
      "Actualized channel names to ['Fz', 'Fc1', 'Fc2', 'C3', 'Cz', 'C4', 'P3', 'Pz', 'P4', 'O1', 'Oz', 'O2']\n",
      "Rescaled signal to Volt (mean variance=8.719544404191452e-10)\n"
     ]
    },
    {
     "name": "stderr",
     "output_type": "stream",
     "text": [
      "WARNING: failed to interpret \"auto\" as type int in parameter \"VisualizeSourceBufferSize\"\n",
      "WARNING: failed to interpret \"1/2s\" as type float in parameter \"PreSequenceDuration\"\n"
     ]
    },
    {
     "name": "stdout",
     "output_type": "stream",
     "text": [
      "nb stimuli=256\n",
      "nb targets=64\n",
      "[ 1024 12800 24576 36352 48128 59904 71680 83456]\n",
      "[12799 24575 36351 48127 59903 71679 83455 95231]\n",
      "Extracted 8 trials\n",
      "Reading WT-tacCopy004\\WT-tacCopyS004R02.dat\n"
     ]
    },
    {
     "name": "stderr",
     "output_type": "stream",
     "text": [
      "WARNING: failed to interpret \"auto\" as type int in parameter \"VisualizeSourceBufferSize\"\n",
      "WARNING: failed to interpret \"1/2s\" as type float in parameter \"PreSequenceDuration\"\n",
      "WARNING: failed to interpret \"auto\" as type int in parameter \"VisualizeSourceBufferSize\"\n",
      "WARNING: failed to interpret \"1/2s\" as type float in parameter \"PreSequenceDuration\"\n"
     ]
    },
    {
     "name": "stdout",
     "output_type": "stream",
     "text": [
      "Actualized channel names to ['Fz', 'Fc1', 'Fc2', 'C3', 'Cz', 'C4', 'P3', 'Pz', 'P4', 'O1', 'Oz', 'O2']\n",
      "Rescaled signal to Volt (mean variance=9.499773148837687e-10)\n"
     ]
    },
    {
     "name": "stderr",
     "output_type": "stream",
     "text": [
      "WARNING: failed to interpret \"auto\" as type int in parameter \"VisualizeSourceBufferSize\"\n",
      "WARNING: failed to interpret \"1/2s\" as type float in parameter \"PreSequenceDuration\"\n"
     ]
    },
    {
     "name": "stdout",
     "output_type": "stream",
     "text": [
      "nb stimuli=256\n",
      "nb targets=64\n",
      "[ 1024 12800 24576 36352 48128 59904 71680 83456]\n",
      "[12799 24575 36351 48127 59903 71679 83455 95231]\n",
      "Extracted 8 trials\n",
      "Reading WT-tacCopy004\\WT-tacCopyS004R03.dat\n"
     ]
    },
    {
     "name": "stderr",
     "output_type": "stream",
     "text": [
      "WARNING: failed to interpret \"auto\" as type int in parameter \"VisualizeSourceBufferSize\"\n",
      "WARNING: failed to interpret \"1/2s\" as type float in parameter \"PreSequenceDuration\"\n",
      "WARNING: failed to interpret \"auto\" as type int in parameter \"VisualizeSourceBufferSize\"\n",
      "WARNING: failed to interpret \"1/2s\" as type float in parameter \"PreSequenceDuration\"\n"
     ]
    },
    {
     "name": "stdout",
     "output_type": "stream",
     "text": [
      "Actualized channel names to ['Fz', 'Fc1', 'Fc2', 'C3', 'Cz', 'C4', 'P3', 'Pz', 'P4', 'O1', 'Oz', 'O2']\n",
      "Rescaled signal to Volt (mean variance=1.0868457417245672e-09)\n"
     ]
    },
    {
     "name": "stderr",
     "output_type": "stream",
     "text": [
      "WARNING: failed to interpret \"auto\" as type int in parameter \"VisualizeSourceBufferSize\"\n",
      "WARNING: failed to interpret \"1/2s\" as type float in parameter \"PreSequenceDuration\"\n"
     ]
    },
    {
     "name": "stdout",
     "output_type": "stream",
     "text": [
      "nb stimuli=256\n",
      "nb targets=64\n",
      "[ 1024 12800 24576 36352 48128 59904 71680 83456]\n",
      "[12799 24575 36351 48127 59903 71679 83455 95231]\n",
      "Extracted 8 trials\n",
      "Reading WT-tacCalib005\\WT-tacCalibS005R01.dat\n"
     ]
    },
    {
     "name": "stderr",
     "output_type": "stream",
     "text": [
      "WARNING: failed to interpret \"auto\" as type int in parameter \"VisualizeSourceBufferSize\"\n",
      "WARNING: failed to interpret \"1/2s\" as type float in parameter \"PreSequenceDuration\"\n",
      "WARNING: failed to interpret \"auto\" as type int in parameter \"VisualizeSourceBufferSize\"\n",
      "WARNING: failed to interpret \"1/2s\" as type float in parameter \"PreSequenceDuration\"\n"
     ]
    },
    {
     "name": "stdout",
     "output_type": "stream",
     "text": [
      "Actualized channel names to ['Fz', 'Fc1', 'Fc2', 'C3', 'Cz', 'C4', 'P3', 'Pz', 'P4', 'O1', 'Oz', 'O2']\n",
      "Rescaled signal to Volt (mean variance=6.93856527387959e-09)\n"
     ]
    },
    {
     "name": "stderr",
     "output_type": "stream",
     "text": [
      "WARNING: failed to interpret \"auto\" as type int in parameter \"VisualizeSourceBufferSize\"\n",
      "WARNING: failed to interpret \"1/2s\" as type float in parameter \"PreSequenceDuration\"\n"
     ]
    },
    {
     "name": "stdout",
     "output_type": "stream",
     "text": [
      "nb stimuli=320\n",
      "nb targets=80\n",
      "[ 1024 14784 28544 42304 56064 69824 83584 97344]\n",
      "[ 14783  28543  42303  56063  69823  83583  97343 111103]\n",
      "Extracted 8 trials\n",
      "Reading WT-tacCalib005\\WT-tacCalibS005R02.dat\n"
     ]
    },
    {
     "name": "stderr",
     "output_type": "stream",
     "text": [
      "WARNING: failed to interpret \"auto\" as type int in parameter \"VisualizeSourceBufferSize\"\n",
      "WARNING: failed to interpret \"1/2s\" as type float in parameter \"PreSequenceDuration\"\n",
      "WARNING: failed to interpret \"auto\" as type int in parameter \"VisualizeSourceBufferSize\"\n",
      "WARNING: failed to interpret \"1/2s\" as type float in parameter \"PreSequenceDuration\"\n"
     ]
    },
    {
     "name": "stdout",
     "output_type": "stream",
     "text": [
      "Actualized channel names to ['Fz', 'Fc1', 'Fc2', 'C3', 'Cz', 'C4', 'P3', 'Pz', 'P4', 'O1', 'Oz', 'O2']\n",
      "Rescaled signal to Volt (mean variance=6.786300267355255e-09)\n"
     ]
    },
    {
     "name": "stderr",
     "output_type": "stream",
     "text": [
      "WARNING: failed to interpret \"auto\" as type int in parameter \"VisualizeSourceBufferSize\"\n",
      "WARNING: failed to interpret \"1/2s\" as type float in parameter \"PreSequenceDuration\"\n"
     ]
    },
    {
     "name": "stdout",
     "output_type": "stream",
     "text": [
      "nb stimuli=320\n",
      "nb targets=80\n",
      "[ 1024 14784 28544 42304 56064 69824 83584 97344]\n",
      "[ 14783  28543  42303  56063  69823  83583  97343 111103]\n",
      "Extracted 8 trials\n",
      "Reading WT-tacCalib005\\WT-tacCalibS005R03.dat\n"
     ]
    },
    {
     "name": "stderr",
     "output_type": "stream",
     "text": [
      "WARNING: failed to interpret \"auto\" as type int in parameter \"VisualizeSourceBufferSize\"\n",
      "WARNING: failed to interpret \"1/2s\" as type float in parameter \"PreSequenceDuration\"\n",
      "WARNING: failed to interpret \"auto\" as type int in parameter \"VisualizeSourceBufferSize\"\n",
      "WARNING: failed to interpret \"1/2s\" as type float in parameter \"PreSequenceDuration\"\n"
     ]
    },
    {
     "name": "stdout",
     "output_type": "stream",
     "text": [
      "Actualized channel names to ['Fz', 'Fc1', 'Fc2', 'C3', 'Cz', 'C4', 'P3', 'Pz', 'P4', 'O1', 'Oz', 'O2']\n",
      "Rescaled signal to Volt (mean variance=7.001116276870179e-09)\n",
      "nb stimuli=320\n",
      "nb targets=80\n",
      "[ 1024 14784 28544 42304 56064 69824 83584 97344]\n",
      "[ 14783  28543  42303  56063  69823  83583  97343 111103]\n",
      "Extracted 8 trials\n"
     ]
    },
    {
     "name": "stderr",
     "output_type": "stream",
     "text": [
      "WARNING: failed to interpret \"auto\" as type int in parameter \"VisualizeSourceBufferSize\"\n",
      "WARNING: failed to interpret \"1/2s\" as type float in parameter \"PreSequenceDuration\"\n"
     ]
    },
    {
     "name": "stdout",
     "output_type": "stream",
     "text": [
      "Reading WT-tacCopy005\\WT-tacCopyS005R01.dat\n"
     ]
    },
    {
     "name": "stderr",
     "output_type": "stream",
     "text": [
      "WARNING: failed to interpret \"auto\" as type int in parameter \"VisualizeSourceBufferSize\"\n",
      "WARNING: failed to interpret \"1/2s\" as type float in parameter \"PreSequenceDuration\"\n",
      "WARNING: failed to interpret \"auto\" as type int in parameter \"VisualizeSourceBufferSize\"\n",
      "WARNING: failed to interpret \"1/2s\" as type float in parameter \"PreSequenceDuration\"\n"
     ]
    },
    {
     "name": "stdout",
     "output_type": "stream",
     "text": [
      "Actualized channel names to ['Fz', 'Fc1', 'Fc2', 'C3', 'Cz', 'C4', 'P3', 'Pz', 'P4', 'O1', 'Oz', 'O2']\n",
      "Rescaled signal to Volt (mean variance=8.563307653643287e-09)\n"
     ]
    },
    {
     "name": "stderr",
     "output_type": "stream",
     "text": [
      "WARNING: failed to interpret \"auto\" as type int in parameter \"VisualizeSourceBufferSize\"\n",
      "WARNING: failed to interpret \"1/2s\" as type float in parameter \"PreSequenceDuration\"\n"
     ]
    },
    {
     "name": "stdout",
     "output_type": "stream",
     "text": [
      "nb stimuli=256\n",
      "nb targets=64\n",
      "[ 1024 12800 24576 36352 48128 59904 71680 83456]\n",
      "[12799 24575 36351 48127 59903 71679 83455 95231]\n",
      "Extracted 8 trials\n",
      "Reading WT-tacCopy005\\WT-tacCopyS005R02.dat\n"
     ]
    },
    {
     "name": "stderr",
     "output_type": "stream",
     "text": [
      "WARNING: failed to interpret \"auto\" as type int in parameter \"VisualizeSourceBufferSize\"\n",
      "WARNING: failed to interpret \"1/2s\" as type float in parameter \"PreSequenceDuration\"\n",
      "WARNING: failed to interpret \"auto\" as type int in parameter \"VisualizeSourceBufferSize\"\n",
      "WARNING: failed to interpret \"1/2s\" as type float in parameter \"PreSequenceDuration\"\n"
     ]
    },
    {
     "name": "stdout",
     "output_type": "stream",
     "text": [
      "Actualized channel names to ['Fz', 'Fc1', 'Fc2', 'C3', 'Cz', 'C4', 'P3', 'Pz', 'P4', 'O1', 'Oz', 'O2']\n",
      "Rescaled signal to Volt (mean variance=8.434872736418585e-09)\n"
     ]
    },
    {
     "name": "stderr",
     "output_type": "stream",
     "text": [
      "WARNING: failed to interpret \"auto\" as type int in parameter \"VisualizeSourceBufferSize\"\n",
      "WARNING: failed to interpret \"1/2s\" as type float in parameter \"PreSequenceDuration\"\n"
     ]
    },
    {
     "name": "stdout",
     "output_type": "stream",
     "text": [
      "nb stimuli=256\n",
      "nb targets=64\n",
      "[ 1024 12800 24576 36352 48128 59904 71680 83456]\n",
      "[12799 24575 36351 48127 59903 71679 83455 95231]\n",
      "Extracted 8 trials\n",
      "Reading WT-tacCopy005\\WT-tacCopyS005R03.dat\n"
     ]
    },
    {
     "name": "stderr",
     "output_type": "stream",
     "text": [
      "WARNING: failed to interpret \"auto\" as type int in parameter \"VisualizeSourceBufferSize\"\n",
      "WARNING: failed to interpret \"1/2s\" as type float in parameter \"PreSequenceDuration\"\n",
      "WARNING: failed to interpret \"auto\" as type int in parameter \"VisualizeSourceBufferSize\"\n",
      "WARNING: failed to interpret \"1/2s\" as type float in parameter \"PreSequenceDuration\"\n"
     ]
    },
    {
     "name": "stdout",
     "output_type": "stream",
     "text": [
      "Actualized channel names to ['Fz', 'Fc1', 'Fc2', 'C3', 'Cz', 'C4', 'P3', 'Pz', 'P4', 'O1', 'Oz', 'O2']\n",
      "Rescaled signal to Volt (mean variance=8.938403574475322e-09)\n"
     ]
    },
    {
     "name": "stderr",
     "output_type": "stream",
     "text": [
      "WARNING: failed to interpret \"auto\" as type int in parameter \"VisualizeSourceBufferSize\"\n"
     ]
    },
    {
     "name": "stdout",
     "output_type": "stream",
     "text": [
      "nb stimuli=256\n",
      "nb targets=64\n",
      "[ 1024 12800 24576 36352 48128 59904 71680 83456]\n",
      "[12799 24575 36351 48127 59903 71679 83455 95231]\n",
      "Extracted 8 trials\n"
     ]
    },
    {
     "name": "stderr",
     "output_type": "stream",
     "text": [
      "WARNING: failed to interpret \"1/2s\" as type float in parameter \"PreSequenceDuration\"\n"
     ]
    },
    {
     "name": "stdout",
     "output_type": "stream",
     "text": [
      "Reading WT-tacCalib006\\WT-tacCalibS006R02.dat\n"
     ]
    },
    {
     "name": "stderr",
     "output_type": "stream",
     "text": [
      "WARNING: failed to interpret \"auto\" as type int in parameter \"VisualizeSourceBufferSize\"\n",
      "WARNING: failed to interpret \"1/2s\" as type float in parameter \"PreSequenceDuration\"\n",
      "WARNING: failed to interpret \"auto\" as type int in parameter \"VisualizeSourceBufferSize\"\n",
      "WARNING: failed to interpret \"1/2s\" as type float in parameter \"PreSequenceDuration\"\n"
     ]
    },
    {
     "name": "stdout",
     "output_type": "stream",
     "text": [
      "Actualized channel names to ['Fz', 'Fc1', 'Fc2', 'C3', 'Cz', 'C4', 'P3', 'Pz', 'P4', 'O1', 'Oz', 'O2']\n",
      "Rescaled signal to Volt (mean variance=2.713375898753973e-10)\n"
     ]
    },
    {
     "name": "stderr",
     "output_type": "stream",
     "text": [
      "WARNING: failed to interpret \"auto\" as type int in parameter \"VisualizeSourceBufferSize\"\n",
      "WARNING: failed to interpret \"1/2s\" as type float in parameter \"PreSequenceDuration\"\n"
     ]
    },
    {
     "name": "stdout",
     "output_type": "stream",
     "text": [
      "nb stimuli=320\n",
      "nb targets=80\n",
      "[ 1024 14784 28544 42304 56064 69824 83584 97344]\n",
      "[ 14783  28543  42303  56063  69823  83583  97343 111103]\n",
      "Extracted 8 trials\n",
      "Reading WT-tacCalib006\\WT-tacCalibS006R03.dat\n"
     ]
    },
    {
     "name": "stderr",
     "output_type": "stream",
     "text": [
      "WARNING: failed to interpret \"auto\" as type int in parameter \"VisualizeSourceBufferSize\"\n",
      "WARNING: failed to interpret \"1/2s\" as type float in parameter \"PreSequenceDuration\"\n",
      "WARNING: failed to interpret \"auto\" as type int in parameter \"VisualizeSourceBufferSize\"\n",
      "WARNING: failed to interpret \"1/2s\" as type float in parameter \"PreSequenceDuration\"\n"
     ]
    },
    {
     "name": "stdout",
     "output_type": "stream",
     "text": [
      "Actualized channel names to ['Fz', 'Fc1', 'Fc2', 'C3', 'Cz', 'C4', 'P3', 'Pz', 'P4', 'O1', 'Oz', 'O2']\n",
      "Rescaled signal to Volt (mean variance=2.2913334500963466e-10)\n"
     ]
    },
    {
     "name": "stderr",
     "output_type": "stream",
     "text": [
      "WARNING: failed to interpret \"auto\" as type int in parameter \"VisualizeSourceBufferSize\"\n",
      "WARNING: failed to interpret \"1/2s\" as type float in parameter \"PreSequenceDuration\"\n"
     ]
    },
    {
     "name": "stdout",
     "output_type": "stream",
     "text": [
      "nb stimuli=320\n",
      "nb targets=80\n",
      "[ 1024 14784 28544 42304 56064 69824 83584 97344]\n",
      "[ 14783  28543  42303  56063  69823  83583  97343 111103]\n",
      "Extracted 8 trials\n",
      "Reading WT-tacCalib006\\WT-tacCalibS006R04.dat\n"
     ]
    },
    {
     "name": "stderr",
     "output_type": "stream",
     "text": [
      "WARNING: failed to interpret \"auto\" as type int in parameter \"VisualizeSourceBufferSize\"\n",
      "WARNING: failed to interpret \"1/2s\" as type float in parameter \"PreSequenceDuration\"\n",
      "WARNING: failed to interpret \"auto\" as type int in parameter \"VisualizeSourceBufferSize\"\n",
      "WARNING: failed to interpret \"1/2s\" as type float in parameter \"PreSequenceDuration\"\n"
     ]
    },
    {
     "name": "stdout",
     "output_type": "stream",
     "text": [
      "Actualized channel names to ['Fz', 'Fc1', 'Fc2', 'C3', 'Cz', 'C4', 'P3', 'Pz', 'P4', 'O1', 'Oz', 'O2']\n",
      "Rescaled signal to Volt (mean variance=1.5528231141563978e-10)\n",
      "nb stimuli=320\n",
      "nb targets=80\n",
      "[ 1024 14784 28544 42304 56064 69824 83584 97344]\n",
      "[ 14783  28543  42303  56063  69823  83583  97343 111103]\n",
      "Extracted 8 trials\n"
     ]
    },
    {
     "name": "stderr",
     "output_type": "stream",
     "text": [
      "WARNING: failed to interpret \"auto\" as type int in parameter \"VisualizeSourceBufferSize\"\n",
      "WARNING: failed to interpret \"1/2s\" as type float in parameter \"PreSequenceDuration\"\n"
     ]
    },
    {
     "name": "stdout",
     "output_type": "stream",
     "text": [
      "Reading WT-tacCopy006\\WT-tacCopyS006R01.dat\n"
     ]
    },
    {
     "name": "stderr",
     "output_type": "stream",
     "text": [
      "WARNING: failed to interpret \"auto\" as type int in parameter \"VisualizeSourceBufferSize\"\n",
      "WARNING: failed to interpret \"1/2s\" as type float in parameter \"PreSequenceDuration\"\n",
      "WARNING: failed to interpret \"auto\" as type int in parameter \"VisualizeSourceBufferSize\"\n",
      "WARNING: failed to interpret \"1/2s\" as type float in parameter \"PreSequenceDuration\"\n"
     ]
    },
    {
     "name": "stdout",
     "output_type": "stream",
     "text": [
      "Actualized channel names to ['Fz', 'Fc1', 'Fc2', 'C3', 'Cz', 'C4', 'P3', 'Pz', 'P4', 'O1', 'Oz', 'O2']\n",
      "Rescaled signal to Volt (mean variance=3.017281100678464e-10)\n"
     ]
    },
    {
     "name": "stderr",
     "output_type": "stream",
     "text": [
      "WARNING: failed to interpret \"auto\" as type int in parameter \"VisualizeSourceBufferSize\"\n",
      "WARNING: failed to interpret \"1/2s\" as type float in parameter \"PreSequenceDuration\"\n"
     ]
    },
    {
     "name": "stdout",
     "output_type": "stream",
     "text": [
      "nb stimuli=256\n",
      "nb targets=64\n",
      "[ 1024 12800 24576 36352 48128 59904 71680 83456]\n",
      "[12799 24575 36351 48127 59903 71679 83455 95231]\n",
      "Extracted 8 trials\n",
      "Reading WT-tacCopy006\\WT-tacCopyS006R02.dat\n"
     ]
    },
    {
     "name": "stderr",
     "output_type": "stream",
     "text": [
      "WARNING: failed to interpret \"auto\" as type int in parameter \"VisualizeSourceBufferSize\"\n",
      "WARNING: failed to interpret \"1/2s\" as type float in parameter \"PreSequenceDuration\"\n",
      "WARNING: failed to interpret \"auto\" as type int in parameter \"VisualizeSourceBufferSize\"\n",
      "WARNING: failed to interpret \"1/2s\" as type float in parameter \"PreSequenceDuration\"\n"
     ]
    },
    {
     "name": "stdout",
     "output_type": "stream",
     "text": [
      "Actualized channel names to ['Fz', 'Fc1', 'Fc2', 'C3', 'Cz', 'C4', 'P3', 'Pz', 'P4', 'O1', 'Oz', 'O2']\n",
      "Rescaled signal to Volt (mean variance=3.6028518935892834e-10)\n"
     ]
    },
    {
     "name": "stderr",
     "output_type": "stream",
     "text": [
      "WARNING: failed to interpret \"auto\" as type int in parameter \"VisualizeSourceBufferSize\"\n",
      "WARNING: failed to interpret \"1/2s\" as type float in parameter \"PreSequenceDuration\"\n"
     ]
    },
    {
     "name": "stdout",
     "output_type": "stream",
     "text": [
      "nb stimuli=256\n",
      "nb targets=64\n",
      "[ 1024 12800 24576 36352 48128 59904 71680 83456]\n",
      "[12799 24575 36351 48127 59903 71679 83455 95231]\n",
      "Extracted 8 trials\n",
      "Reading WT-tacCopy006\\WT-tacCopyS006R03.dat\n"
     ]
    },
    {
     "name": "stderr",
     "output_type": "stream",
     "text": [
      "WARNING: failed to interpret \"auto\" as type int in parameter \"VisualizeSourceBufferSize\"\n",
      "WARNING: failed to interpret \"1/2s\" as type float in parameter \"PreSequenceDuration\"\n",
      "WARNING: failed to interpret \"auto\" as type int in parameter \"VisualizeSourceBufferSize\"\n",
      "WARNING: failed to interpret \"1/2s\" as type float in parameter \"PreSequenceDuration\"\n"
     ]
    },
    {
     "name": "stdout",
     "output_type": "stream",
     "text": [
      "Actualized channel names to ['Fz', 'Fc1', 'Fc2', 'C3', 'Cz', 'C4', 'P3', 'Pz', 'P4', 'O1', 'Oz', 'O2']\n",
      "Rescaled signal to Volt (mean variance=3.186441148734518e-10)\n"
     ]
    },
    {
     "name": "stderr",
     "output_type": "stream",
     "text": [
      "WARNING: failed to interpret \"auto\" as type int in parameter \"VisualizeSourceBufferSize\"\n"
     ]
    },
    {
     "name": "stdout",
     "output_type": "stream",
     "text": [
      "nb stimuli=256\n",
      "nb targets=64\n",
      "[ 1024 12800 24576 36352 48128 59904 71680 83456]\n",
      "[12799 24575 36351 48127 59903 71679 83455 95231]\n",
      "Extracted 8 trials\n"
     ]
    },
    {
     "name": "stderr",
     "output_type": "stream",
     "text": [
      "WARNING: failed to interpret \"1/2s\" as type float in parameter \"PreSequenceDuration\"\n"
     ]
    },
    {
     "name": "stdout",
     "output_type": "stream",
     "text": [
      "Reading WT-tacCalib007\\WT-tacCalibS007R01.dat\n"
     ]
    },
    {
     "name": "stderr",
     "output_type": "stream",
     "text": [
      "WARNING: failed to interpret \"auto\" as type int in parameter \"VisualizeSourceBufferSize\"\n",
      "WARNING: failed to interpret \"1/2s\" as type float in parameter \"PreSequenceDuration\"\n",
      "WARNING: failed to interpret \"auto\" as type int in parameter \"VisualizeSourceBufferSize\"\n",
      "WARNING: failed to interpret \"1/2s\" as type float in parameter \"PreSequenceDuration\"\n"
     ]
    },
    {
     "name": "stdout",
     "output_type": "stream",
     "text": [
      "Actualized channel names to ['Fz', 'Fc1', 'Fc2', 'C3', 'Cz', 'C4', 'P3', 'Pz', 'P4', 'O1', 'Oz', 'O2']\n",
      "Rescaled signal to Volt (mean variance=3.7872630864830137e-10)\n"
     ]
    },
    {
     "name": "stderr",
     "output_type": "stream",
     "text": [
      "WARNING: failed to interpret \"auto\" as type int in parameter \"VisualizeSourceBufferSize\"\n",
      "WARNING: failed to interpret \"1/2s\" as type float in parameter \"PreSequenceDuration\"\n"
     ]
    },
    {
     "name": "stdout",
     "output_type": "stream",
     "text": [
      "nb stimuli=320\n",
      "nb targets=80\n",
      "[ 1024 14784 28544 42304 56064 69824 83584 97344]\n",
      "[ 14783  28543  42303  56063  69823  83583  97343 111103]\n",
      "Extracted 8 trials\n",
      "Reading WT-tacCalib007\\WT-tacCalibS007R02.dat\n"
     ]
    },
    {
     "name": "stderr",
     "output_type": "stream",
     "text": [
      "WARNING: failed to interpret \"auto\" as type int in parameter \"VisualizeSourceBufferSize\"\n",
      "WARNING: failed to interpret \"1/2s\" as type float in parameter \"PreSequenceDuration\"\n",
      "WARNING: failed to interpret \"auto\" as type int in parameter \"VisualizeSourceBufferSize\"\n",
      "WARNING: failed to interpret \"1/2s\" as type float in parameter \"PreSequenceDuration\"\n"
     ]
    },
    {
     "name": "stdout",
     "output_type": "stream",
     "text": [
      "Actualized channel names to ['Fz', 'Fc1', 'Fc2', 'C3', 'Cz', 'C4', 'P3', 'Pz', 'P4', 'O1', 'Oz', 'O2']\n",
      "Rescaled signal to Volt (mean variance=3.284459851844461e-10)\n"
     ]
    },
    {
     "name": "stderr",
     "output_type": "stream",
     "text": [
      "WARNING: failed to interpret \"auto\" as type int in parameter \"VisualizeSourceBufferSize\"\n",
      "WARNING: failed to interpret \"1/2s\" as type float in parameter \"PreSequenceDuration\"\n"
     ]
    },
    {
     "name": "stdout",
     "output_type": "stream",
     "text": [
      "nb stimuli=320\n",
      "nb targets=80\n",
      "[ 1024 14784 28544 42304 56064 69824 83584 97344]\n",
      "[ 14783  28543  42303  56063  69823  83583  97343 111103]\n",
      "Extracted 8 trials\n",
      "Reading WT-tacCalib007\\WT-tacCalibS007R03.dat\n"
     ]
    },
    {
     "name": "stderr",
     "output_type": "stream",
     "text": [
      "WARNING: failed to interpret \"auto\" as type int in parameter \"VisualizeSourceBufferSize\"\n",
      "WARNING: failed to interpret \"1/2s\" as type float in parameter \"PreSequenceDuration\"\n",
      "WARNING: failed to interpret \"auto\" as type int in parameter \"VisualizeSourceBufferSize\"\n",
      "WARNING: failed to interpret \"1/2s\" as type float in parameter \"PreSequenceDuration\"\n"
     ]
    },
    {
     "name": "stdout",
     "output_type": "stream",
     "text": [
      "Actualized channel names to ['Fz', 'Fc1', 'Fc2', 'C3', 'Cz', 'C4', 'P3', 'Pz', 'P4', 'O1', 'Oz', 'O2']\n",
      "Rescaled signal to Volt (mean variance=2.1741283588272221e-10)\n",
      "nb stimuli=320\n",
      "nb targets=80\n",
      "[ 1024 14784 28544 42304 56064 69824 83584 97344]\n",
      "[ 14783  28543  42303  56063  69823  83583  97343 111103]\n",
      "Extracted 8 trials\n"
     ]
    },
    {
     "name": "stderr",
     "output_type": "stream",
     "text": [
      "WARNING: failed to interpret \"auto\" as type int in parameter \"VisualizeSourceBufferSize\"\n",
      "WARNING: failed to interpret \"1/2s\" as type float in parameter \"PreSequenceDuration\"\n"
     ]
    },
    {
     "name": "stdout",
     "output_type": "stream",
     "text": [
      "Reading WT-tacCopy007\\WT-tacCopyS007R01.dat\n"
     ]
    },
    {
     "name": "stderr",
     "output_type": "stream",
     "text": [
      "WARNING: failed to interpret \"auto\" as type int in parameter \"VisualizeSourceBufferSize\"\n",
      "WARNING: failed to interpret \"1/2s\" as type float in parameter \"PreSequenceDuration\"\n",
      "WARNING: failed to interpret \"auto\" as type int in parameter \"VisualizeSourceBufferSize\"\n",
      "WARNING: failed to interpret \"1/2s\" as type float in parameter \"PreSequenceDuration\"\n"
     ]
    },
    {
     "name": "stdout",
     "output_type": "stream",
     "text": [
      "Actualized channel names to ['Fz', 'Fc1', 'Fc2', 'C3', 'Cz', 'C4', 'P3', 'Pz', 'P4', 'O1', 'Oz', 'O2']\n",
      "Rescaled signal to Volt (mean variance=4.954179774075403e-10)\n"
     ]
    },
    {
     "name": "stderr",
     "output_type": "stream",
     "text": [
      "WARNING: failed to interpret \"auto\" as type int in parameter \"VisualizeSourceBufferSize\"\n",
      "WARNING: failed to interpret \"1/2s\" as type float in parameter \"PreSequenceDuration\"\n"
     ]
    },
    {
     "name": "stdout",
     "output_type": "stream",
     "text": [
      "nb stimuli=256\n",
      "nb targets=64\n",
      "[ 1024 12800 24576 36352 48128 59904 71680 83456]\n",
      "[12799 24575 36351 48127 59903 71679 83455 95231]\n",
      "Extracted 8 trials\n",
      "Reading WT-tacCopy007\\WT-tacCopyS007R02.dat\n"
     ]
    },
    {
     "name": "stderr",
     "output_type": "stream",
     "text": [
      "WARNING: failed to interpret \"auto\" as type int in parameter \"VisualizeSourceBufferSize\"\n",
      "WARNING: failed to interpret \"1/2s\" as type float in parameter \"PreSequenceDuration\"\n",
      "WARNING: failed to interpret \"auto\" as type int in parameter \"VisualizeSourceBufferSize\"\n",
      "WARNING: failed to interpret \"1/2s\" as type float in parameter \"PreSequenceDuration\"\n"
     ]
    },
    {
     "name": "stdout",
     "output_type": "stream",
     "text": [
      "Actualized channel names to ['Fz', 'Fc1', 'Fc2', 'C3', 'Cz', 'C4', 'P3', 'Pz', 'P4', 'O1', 'Oz', 'O2']\n",
      "Rescaled signal to Volt (mean variance=4.0904756179073527e-10)\n"
     ]
    },
    {
     "name": "stderr",
     "output_type": "stream",
     "text": [
      "WARNING: failed to interpret \"auto\" as type int in parameter \"VisualizeSourceBufferSize\"\n",
      "WARNING: failed to interpret \"1/2s\" as type float in parameter \"PreSequenceDuration\"\n"
     ]
    },
    {
     "name": "stdout",
     "output_type": "stream",
     "text": [
      "nb stimuli=256\n",
      "nb targets=64\n",
      "[ 1024 12800 24576 36352 48128 59904 71680 83456]\n",
      "[12799 24575 36351 48127 59903 71679 83455 95231]\n",
      "Extracted 8 trials\n",
      "Reading WT-tacCopy007\\WT-tacCopyS007R03.dat\n"
     ]
    },
    {
     "name": "stderr",
     "output_type": "stream",
     "text": [
      "WARNING: failed to interpret \"auto\" as type int in parameter \"VisualizeSourceBufferSize\"\n",
      "WARNING: failed to interpret \"1/2s\" as type float in parameter \"PreSequenceDuration\"\n",
      "WARNING: failed to interpret \"auto\" as type int in parameter \"VisualizeSourceBufferSize\"\n",
      "WARNING: failed to interpret \"1/2s\" as type float in parameter \"PreSequenceDuration\"\n"
     ]
    },
    {
     "name": "stdout",
     "output_type": "stream",
     "text": [
      "Actualized channel names to ['Fz', 'Fc1', 'Fc2', 'C3', 'Cz', 'C4', 'P3', 'Pz', 'P4', 'O1', 'Oz', 'O2']\n",
      "Rescaled signal to Volt (mean variance=5.656532912706161e-10)\n"
     ]
    },
    {
     "name": "stderr",
     "output_type": "stream",
     "text": [
      "WARNING: failed to interpret \"auto\" as type int in parameter \"VisualizeSourceBufferSize\"\n",
      "WARNING: failed to interpret \"1/2s\" as type float in parameter \"PreSequenceDuration\"\n"
     ]
    },
    {
     "name": "stdout",
     "output_type": "stream",
     "text": [
      "nb stimuli=256\n",
      "nb targets=64\n",
      "[ 1024 12800 24576 36352 48128 59904 71680 83456]\n",
      "[12799 24575 36351 48127 59903 71679 83455 95231]\n",
      "Extracted 8 trials\n",
      "Reading WT-tacCalib008\\WT-tacCalibS008R01.dat\n"
     ]
    },
    {
     "name": "stderr",
     "output_type": "stream",
     "text": [
      "WARNING: failed to interpret \"auto\" as type int in parameter \"VisualizeSourceBufferSize\"\n",
      "WARNING: failed to interpret \"1/2s\" as type float in parameter \"PreSequenceDuration\"\n",
      "WARNING: failed to interpret \"auto\" as type int in parameter \"VisualizeSourceBufferSize\"\n",
      "WARNING: failed to interpret \"1/2s\" as type float in parameter \"PreSequenceDuration\"\n"
     ]
    },
    {
     "name": "stdout",
     "output_type": "stream",
     "text": [
      "Actualized channel names to ['Fz', 'Fc1', 'Fc2', 'C3', 'Cz', 'C4', 'P3', 'Pz', 'P4', 'O1', 'Oz', 'O2']\n",
      "Rescaled signal to Volt (mean variance=2.2837666277894245e-10)\n"
     ]
    },
    {
     "name": "stderr",
     "output_type": "stream",
     "text": [
      "WARNING: failed to interpret \"auto\" as type int in parameter \"VisualizeSourceBufferSize\"\n",
      "WARNING: failed to interpret \"1/2s\" as type float in parameter \"PreSequenceDuration\"\n"
     ]
    },
    {
     "name": "stdout",
     "output_type": "stream",
     "text": [
      "nb stimuli=320\n",
      "nb targets=80\n",
      "[ 1024 14784 28544 42304 56064 69824 83584 97344]\n",
      "[ 14783  28543  42303  56063  69823  83583  97343 111103]\n",
      "Extracted 8 trials\n",
      "Reading WT-tacCalib008\\WT-tacCalibS008R02.dat\n"
     ]
    },
    {
     "name": "stderr",
     "output_type": "stream",
     "text": [
      "WARNING: failed to interpret \"auto\" as type int in parameter \"VisualizeSourceBufferSize\"\n",
      "WARNING: failed to interpret \"1/2s\" as type float in parameter \"PreSequenceDuration\"\n",
      "WARNING: failed to interpret \"auto\" as type int in parameter \"VisualizeSourceBufferSize\"\n",
      "WARNING: failed to interpret \"1/2s\" as type float in parameter \"PreSequenceDuration\"\n"
     ]
    },
    {
     "name": "stdout",
     "output_type": "stream",
     "text": [
      "Actualized channel names to ['Fz', 'Fc1', 'Fc2', 'C3', 'Cz', 'C4', 'P3', 'Pz', 'P4', 'O1', 'Oz', 'O2']\n",
      "Rescaled signal to Volt (mean variance=1.3464950405259307e-10)\n"
     ]
    },
    {
     "name": "stderr",
     "output_type": "stream",
     "text": [
      "WARNING: failed to interpret \"auto\" as type int in parameter \"VisualizeSourceBufferSize\"\n",
      "WARNING: failed to interpret \"1/2s\" as type float in parameter \"PreSequenceDuration\"\n"
     ]
    },
    {
     "name": "stdout",
     "output_type": "stream",
     "text": [
      "nb stimuli=320\n",
      "nb targets=80\n",
      "[ 1024 14784 28544 42304 56064 69824 83584 97344]\n",
      "[ 14783  28543  42303  56063  69823  83583  97343 111103]\n",
      "Extracted 8 trials\n",
      "Reading WT-tacCalib008\\WT-tacCalibS008R03.dat\n"
     ]
    },
    {
     "name": "stderr",
     "output_type": "stream",
     "text": [
      "WARNING: failed to interpret \"auto\" as type int in parameter \"VisualizeSourceBufferSize\"\n",
      "WARNING: failed to interpret \"1/2s\" as type float in parameter \"PreSequenceDuration\"\n",
      "WARNING: failed to interpret \"auto\" as type int in parameter \"VisualizeSourceBufferSize\"\n",
      "WARNING: failed to interpret \"1/2s\" as type float in parameter \"PreSequenceDuration\"\n"
     ]
    },
    {
     "name": "stdout",
     "output_type": "stream",
     "text": [
      "Actualized channel names to ['Fz', 'Fc1', 'Fc2', 'C3', 'Cz', 'C4', 'P3', 'Pz', 'P4', 'O1', 'Oz', 'O2']\n",
      "Rescaled signal to Volt (mean variance=1.8707106661647216e-10)\n",
      "nb stimuli=320\n",
      "nb targets=80\n",
      "[ 1024 14784 28544 42304 56064 69824 83584 97344]\n",
      "[ 14783  28543  42303  56063  69823  83583  97343 111103]\n",
      "Extracted 8 trials\n"
     ]
    },
    {
     "name": "stderr",
     "output_type": "stream",
     "text": [
      "WARNING: failed to interpret \"auto\" as type int in parameter \"VisualizeSourceBufferSize\"\n",
      "WARNING: failed to interpret \"1/2s\" as type float in parameter \"PreSequenceDuration\"\n"
     ]
    },
    {
     "name": "stdout",
     "output_type": "stream",
     "text": [
      "Reading WT-tacCopy008\\WT-tacCopyS008R01.dat\n"
     ]
    },
    {
     "name": "stderr",
     "output_type": "stream",
     "text": [
      "WARNING: failed to interpret \"auto\" as type int in parameter \"VisualizeSourceBufferSize\"\n",
      "WARNING: failed to interpret \"1/2s\" as type float in parameter \"PreSequenceDuration\"\n",
      "WARNING: failed to interpret \"auto\" as type int in parameter \"VisualizeSourceBufferSize\"\n",
      "WARNING: failed to interpret \"1/2s\" as type float in parameter \"PreSequenceDuration\"\n"
     ]
    },
    {
     "name": "stdout",
     "output_type": "stream",
     "text": [
      "Actualized channel names to ['Fz', 'Fc1', 'Fc2', 'C3', 'Cz', 'C4', 'P3', 'Pz', 'P4', 'O1', 'Oz', 'O2']\n",
      "Rescaled signal to Volt (mean variance=3.6656624823845075e-10)\n"
     ]
    },
    {
     "name": "stderr",
     "output_type": "stream",
     "text": [
      "WARNING: failed to interpret \"auto\" as type int in parameter \"VisualizeSourceBufferSize\"\n",
      "WARNING: failed to interpret \"1/2s\" as type float in parameter \"PreSequenceDuration\"\n"
     ]
    },
    {
     "name": "stdout",
     "output_type": "stream",
     "text": [
      "nb stimuli=256\n",
      "nb targets=64\n",
      "[ 1024 12800 24576 36352 48128 59904 71680 83456]\n",
      "[12799 24575 36351 48127 59903 71679 83455 95231]\n",
      "Extracted 8 trials\n",
      "Reading WT-tacCopy008\\WT-tacCopyS008R02.dat\n"
     ]
    },
    {
     "name": "stderr",
     "output_type": "stream",
     "text": [
      "WARNING: failed to interpret \"auto\" as type int in parameter \"VisualizeSourceBufferSize\"\n",
      "WARNING: failed to interpret \"1/2s\" as type float in parameter \"PreSequenceDuration\"\n",
      "WARNING: failed to interpret \"auto\" as type int in parameter \"VisualizeSourceBufferSize\"\n",
      "WARNING: failed to interpret \"1/2s\" as type float in parameter \"PreSequenceDuration\"\n"
     ]
    },
    {
     "name": "stdout",
     "output_type": "stream",
     "text": [
      "Actualized channel names to ['Fz', 'Fc1', 'Fc2', 'C3', 'Cz', 'C4', 'P3', 'Pz', 'P4', 'O1', 'Oz', 'O2']\n",
      "Rescaled signal to Volt (mean variance=3.3062008238839136e-10)\n"
     ]
    },
    {
     "name": "stderr",
     "output_type": "stream",
     "text": [
      "WARNING: failed to interpret \"auto\" as type int in parameter \"VisualizeSourceBufferSize\"\n",
      "WARNING: failed to interpret \"1/2s\" as type float in parameter \"PreSequenceDuration\"\n"
     ]
    },
    {
     "name": "stdout",
     "output_type": "stream",
     "text": [
      "nb stimuli=256\n",
      "nb targets=64\n",
      "[ 1024 12800 24576 36352 48128 59904 71680 83456]\n",
      "[12799 24575 36351 48127 59903 71679 83455 95231]\n",
      "Extracted 8 trials\n",
      "Reading WT-tacCopy008\\WT-tacCopyS008R03.dat\n"
     ]
    },
    {
     "name": "stderr",
     "output_type": "stream",
     "text": [
      "WARNING: failed to interpret \"auto\" as type int in parameter \"VisualizeSourceBufferSize\"\n",
      "WARNING: failed to interpret \"1/2s\" as type float in parameter \"PreSequenceDuration\"\n",
      "WARNING: failed to interpret \"auto\" as type int in parameter \"VisualizeSourceBufferSize\"\n",
      "WARNING: failed to interpret \"1/2s\" as type float in parameter \"PreSequenceDuration\"\n"
     ]
    },
    {
     "name": "stdout",
     "output_type": "stream",
     "text": [
      "Actualized channel names to ['Fz', 'Fc1', 'Fc2', 'C3', 'Cz', 'C4', 'P3', 'Pz', 'P4', 'O1', 'Oz', 'O2']\n",
      "Rescaled signal to Volt (mean variance=3.7462579098887203e-10)\n"
     ]
    },
    {
     "name": "stderr",
     "output_type": "stream",
     "text": [
      "WARNING: failed to interpret \"auto\" as type int in parameter \"VisualizeSourceBufferSize\"\n",
      "WARNING: failed to interpret \"1/2s\" as type float in parameter \"PreSequenceDuration\"\n"
     ]
    },
    {
     "name": "stdout",
     "output_type": "stream",
     "text": [
      "nb stimuli=256\n",
      "nb targets=64\n",
      "[ 1024 12800 24576 36352 48128 59904 71680 83456]\n",
      "[12799 24575 36351 48127 59903 71679 83455 95231]\n",
      "Extracted 8 trials\n",
      "Reading WT-tacCalib009\\WT-tacCalibS009R03.dat\n"
     ]
    },
    {
     "name": "stderr",
     "output_type": "stream",
     "text": [
      "WARNING: failed to interpret \"auto\" as type int in parameter \"VisualizeSourceBufferSize\"\n",
      "WARNING: failed to interpret \"1/2s\" as type float in parameter \"PreSequenceDuration\"\n",
      "WARNING: failed to interpret \"auto\" as type int in parameter \"VisualizeSourceBufferSize\"\n",
      "WARNING: failed to interpret \"1/2s\" as type float in parameter \"PreSequenceDuration\"\n"
     ]
    },
    {
     "name": "stdout",
     "output_type": "stream",
     "text": [
      "Actualized channel names to ['Fz', 'Fc1', 'Fc2', 'C3', 'Cz', 'C4', 'P3', 'Pz', 'P4', 'O1', 'Oz', 'O2']\n",
      "Rescaled signal to Volt (mean variance=1.5117073385439246e-10)\n"
     ]
    },
    {
     "name": "stderr",
     "output_type": "stream",
     "text": [
      "WARNING: failed to interpret \"auto\" as type int in parameter \"VisualizeSourceBufferSize\"\n",
      "WARNING: failed to interpret \"1/2s\" as type float in parameter \"PreSequenceDuration\"\n"
     ]
    },
    {
     "name": "stdout",
     "output_type": "stream",
     "text": [
      "nb stimuli=320\n",
      "nb targets=80\n",
      "[ 1024 14784 28544 42304 56064 69824 83584 97344]\n",
      "[ 14783  28543  42303  56063  69823  83583  97343 111103]\n",
      "Extracted 8 trials\n",
      "Reading WT-tacCalib009\\WT-tacCalibS009R04.dat\n"
     ]
    },
    {
     "name": "stderr",
     "output_type": "stream",
     "text": [
      "WARNING: failed to interpret \"auto\" as type int in parameter \"VisualizeSourceBufferSize\"\n",
      "WARNING: failed to interpret \"1/2s\" as type float in parameter \"PreSequenceDuration\"\n",
      "WARNING: failed to interpret \"auto\" as type int in parameter \"VisualizeSourceBufferSize\"\n",
      "WARNING: failed to interpret \"1/2s\" as type float in parameter \"PreSequenceDuration\"\n"
     ]
    },
    {
     "name": "stdout",
     "output_type": "stream",
     "text": [
      "Actualized channel names to ['Fz', 'Fc1', 'Fc2', 'C3', 'Cz', 'C4', 'P3', 'Pz', 'P4', 'O1', 'Oz', 'O2']\n",
      "Rescaled signal to Volt (mean variance=1.1358748489198004e-10)\n"
     ]
    },
    {
     "name": "stderr",
     "output_type": "stream",
     "text": [
      "WARNING: failed to interpret \"auto\" as type int in parameter \"VisualizeSourceBufferSize\"\n",
      "WARNING: failed to interpret \"1/2s\" as type float in parameter \"PreSequenceDuration\"\n"
     ]
    },
    {
     "name": "stdout",
     "output_type": "stream",
     "text": [
      "nb stimuli=320\n",
      "nb targets=80\n",
      "[ 1024 14784 28544 42304 56064 69824 83584 97344]\n",
      "[ 14783  28543  42303  56063  69823  83583  97343 111103]\n",
      "Extracted 8 trials\n",
      "Reading WT-tacCalib009\\WT-tacCalibS009R05.dat\n"
     ]
    },
    {
     "name": "stderr",
     "output_type": "stream",
     "text": [
      "WARNING: failed to interpret \"auto\" as type int in parameter \"VisualizeSourceBufferSize\"\n",
      "WARNING: failed to interpret \"1/2s\" as type float in parameter \"PreSequenceDuration\"\n",
      "WARNING: failed to interpret \"auto\" as type int in parameter \"VisualizeSourceBufferSize\"\n",
      "WARNING: failed to interpret \"1/2s\" as type float in parameter \"PreSequenceDuration\"\n"
     ]
    },
    {
     "name": "stdout",
     "output_type": "stream",
     "text": [
      "Actualized channel names to ['Fz', 'Fc1', 'Fc2', 'C3', 'Cz', 'C4', 'P3', 'Pz', 'P4', 'O1', 'Oz', 'O2']\n",
      "Rescaled signal to Volt (mean variance=1.351219247015914e-10)\n",
      "nb stimuli=320\n",
      "nb targets=80\n",
      "[ 1024 14784 28544 42304 56064 69824 83584 97344]\n",
      "[ 14783  28543  42303  56063  69823  83583  97343 111103]\n",
      "Extracted 8 trials\n"
     ]
    },
    {
     "name": "stderr",
     "output_type": "stream",
     "text": [
      "WARNING: failed to interpret \"auto\" as type int in parameter \"VisualizeSourceBufferSize\"\n",
      "WARNING: failed to interpret \"1/2s\" as type float in parameter \"PreSequenceDuration\"\n"
     ]
    },
    {
     "name": "stdout",
     "output_type": "stream",
     "text": [
      "ATTENTION__________________________________ Something wrong with session 9\n",
      "Reading WT-tacCopy009\\WT-tacCopyS009R04.dat\n"
     ]
    },
    {
     "name": "stderr",
     "output_type": "stream",
     "text": [
      "WARNING: failed to interpret \"auto\" as type int in parameter \"VisualizeSourceBufferSize\"\n",
      "WARNING: failed to interpret \"1/2s\" as type float in parameter \"PreSequenceDuration\"\n",
      "WARNING: failed to interpret \"auto\" as type int in parameter \"VisualizeSourceBufferSize\"\n",
      "WARNING: failed to interpret \"1/2s\" as type float in parameter \"PreSequenceDuration\"\n"
     ]
    },
    {
     "name": "stdout",
     "output_type": "stream",
     "text": [
      "Actualized channel names to ['Fz', 'Fc1', 'Fc2', 'C3', 'Cz', 'C4', 'P3', 'Pz', 'P4', 'O1', 'Oz', 'O2']\n",
      "Rescaled signal to Volt (mean variance=4.944232026718647e-10)\n"
     ]
    },
    {
     "name": "stderr",
     "output_type": "stream",
     "text": [
      "WARNING: failed to interpret \"auto\" as type int in parameter \"VisualizeSourceBufferSize\"\n",
      "WARNING: failed to interpret \"1/2s\" as type float in parameter \"PreSequenceDuration\"\n"
     ]
    },
    {
     "name": "stdout",
     "output_type": "stream",
     "text": [
      "nb stimuli=256\n",
      "nb targets=64\n",
      "[ 1024 12800 24576 36352 48128 59904 71680 83456]\n",
      "[12799 24575 36351 48127 59903 71679 83455 95231]\n",
      "Extracted 8 trials\n",
      "Reading WT-tacCopy009\\WT-tacCopyS009R05.dat\n"
     ]
    },
    {
     "name": "stderr",
     "output_type": "stream",
     "text": [
      "WARNING: failed to interpret \"auto\" as type int in parameter \"VisualizeSourceBufferSize\"\n",
      "WARNING: failed to interpret \"1/2s\" as type float in parameter \"PreSequenceDuration\"\n",
      "WARNING: failed to interpret \"auto\" as type int in parameter \"VisualizeSourceBufferSize\"\n",
      "WARNING: failed to interpret \"1/2s\" as type float in parameter \"PreSequenceDuration\"\n"
     ]
    },
    {
     "name": "stdout",
     "output_type": "stream",
     "text": [
      "Actualized channel names to ['Fz', 'Fc1', 'Fc2', 'C3', 'Cz', 'C4', 'P3', 'Pz', 'P4', 'O1', 'Oz', 'O2']\n",
      "Rescaled signal to Volt (mean variance=4.792018174944122e-10)\n",
      "nb stimuli=256\n",
      "nb targets=64\n",
      "[ 1024 12800 24576 36352 48128 59904 71680 83456]\n",
      "[12799 24575 36351 48127 59903 71679 83455 95231]\n",
      "Extracted 8 trials\n"
     ]
    },
    {
     "name": "stderr",
     "output_type": "stream",
     "text": [
      "WARNING: failed to interpret \"auto\" as type int in parameter \"VisualizeSourceBufferSize\"\n",
      "WARNING: failed to interpret \"1/2s\" as type float in parameter \"PreSequenceDuration\"\n"
     ]
    },
    {
     "name": "stdout",
     "output_type": "stream",
     "text": [
      "Reading WT-tacCalib010\\WT-tacCalibS010R01.dat\n"
     ]
    },
    {
     "name": "stderr",
     "output_type": "stream",
     "text": [
      "WARNING: failed to interpret \"auto\" as type int in parameter \"VisualizeSourceBufferSize\"\n",
      "WARNING: failed to interpret \"1/2s\" as type float in parameter \"PreSequenceDuration\"\n",
      "WARNING: failed to interpret \"auto\" as type int in parameter \"VisualizeSourceBufferSize\"\n",
      "WARNING: failed to interpret \"1/2s\" as type float in parameter \"PreSequenceDuration\"\n"
     ]
    },
    {
     "name": "stdout",
     "output_type": "stream",
     "text": [
      "Actualized channel names to ['Fz', 'Fc1', 'Fc2', 'C3', 'Cz', 'C4', 'P3', 'Pz', 'P4', 'O1', 'Oz', 'O2']\n",
      "Rescaled signal to Volt (mean variance=2.8003526631643064e-10)\n"
     ]
    },
    {
     "name": "stderr",
     "output_type": "stream",
     "text": [
      "WARNING: failed to interpret \"auto\" as type int in parameter \"VisualizeSourceBufferSize\"\n",
      "WARNING: failed to interpret \"1/2s\" as type float in parameter \"PreSequenceDuration\"\n"
     ]
    },
    {
     "name": "stdout",
     "output_type": "stream",
     "text": [
      "nb stimuli=320\n",
      "nb targets=80\n",
      "[ 1024 14784 28544 42304 56064 69824 83584 97344]\n",
      "[ 14783  28543  42303  56063  69823  83583  97343 111103]\n",
      "Extracted 8 trials\n",
      "Reading WT-tacCalib010\\WT-tacCalibS010R05.dat\n"
     ]
    },
    {
     "name": "stderr",
     "output_type": "stream",
     "text": [
      "WARNING: failed to interpret \"auto\" as type int in parameter \"VisualizeSourceBufferSize\"\n",
      "WARNING: failed to interpret \"1/2s\" as type float in parameter \"PreSequenceDuration\"\n",
      "WARNING: failed to interpret \"auto\" as type int in parameter \"VisualizeSourceBufferSize\"\n",
      "WARNING: failed to interpret \"1/2s\" as type float in parameter \"PreSequenceDuration\"\n"
     ]
    },
    {
     "name": "stdout",
     "output_type": "stream",
     "text": [
      "Actualized channel names to ['Fz', 'Fc1', 'Fc2', 'C3', 'Cz', 'C4', 'P3', 'Pz', 'P4', 'O1', 'Oz', 'O2']\n",
      "Rescaled signal to Volt (mean variance=2.550761639702498e-10)\n"
     ]
    },
    {
     "name": "stderr",
     "output_type": "stream",
     "text": [
      "WARNING: failed to interpret \"auto\" as type int in parameter \"VisualizeSourceBufferSize\"\n",
      "WARNING: failed to interpret \"1/2s\" as type float in parameter \"PreSequenceDuration\"\n"
     ]
    },
    {
     "name": "stdout",
     "output_type": "stream",
     "text": [
      "nb stimuli=320\n",
      "nb targets=80\n",
      "[ 1024 14784 28544 42304 56064 69824 83584 97344]\n",
      "[ 14783  28543  42303  56063  69823  83583  97343 111103]\n",
      "Extracted 8 trials\n",
      "Reading WT-tacCalib010\\WT-tacCalibS010R06.dat\n"
     ]
    },
    {
     "name": "stderr",
     "output_type": "stream",
     "text": [
      "WARNING: failed to interpret \"auto\" as type int in parameter \"VisualizeSourceBufferSize\"\n",
      "WARNING: failed to interpret \"1/2s\" as type float in parameter \"PreSequenceDuration\"\n",
      "WARNING: failed to interpret \"auto\" as type int in parameter \"VisualizeSourceBufferSize\"\n",
      "WARNING: failed to interpret \"1/2s\" as type float in parameter \"PreSequenceDuration\"\n"
     ]
    },
    {
     "name": "stdout",
     "output_type": "stream",
     "text": [
      "Actualized channel names to ['Fz', 'Fc1', 'Fc2', 'C3', 'Cz', 'C4', 'P3', 'Pz', 'P4', 'O1', 'Oz', 'O2']\n",
      "Rescaled signal to Volt (mean variance=3.3006762739251735e-10)\n"
     ]
    },
    {
     "name": "stderr",
     "output_type": "stream",
     "text": [
      "WARNING: failed to interpret \"auto\" as type int in parameter \"VisualizeSourceBufferSize\"\n"
     ]
    },
    {
     "name": "stdout",
     "output_type": "stream",
     "text": [
      "nb stimuli=320\n",
      "nb targets=80\n",
      "[ 1024 14784 28544 42304 56064 69824 83584 97344]\n",
      "[ 14783  28543  42303  56063  69823  83583  97343 111103]\n",
      "Extracted 8 trials\n"
     ]
    },
    {
     "name": "stderr",
     "output_type": "stream",
     "text": [
      "WARNING: failed to interpret \"1/2s\" as type float in parameter \"PreSequenceDuration\"\n"
     ]
    },
    {
     "name": "stdout",
     "output_type": "stream",
     "text": [
      "Reading WT-tacCopy010\\WT-tacCopyS010R01.dat\n"
     ]
    },
    {
     "name": "stderr",
     "output_type": "stream",
     "text": [
      "WARNING: failed to interpret \"auto\" as type int in parameter \"VisualizeSourceBufferSize\"\n",
      "WARNING: failed to interpret \"1/2s\" as type float in parameter \"PreSequenceDuration\"\n",
      "WARNING: failed to interpret \"auto\" as type int in parameter \"VisualizeSourceBufferSize\"\n",
      "WARNING: failed to interpret \"1/2s\" as type float in parameter \"PreSequenceDuration\"\n"
     ]
    },
    {
     "name": "stdout",
     "output_type": "stream",
     "text": [
      "Actualized channel names to ['Fz', 'Fc1', 'Fc2', 'C3', 'Cz', 'C4', 'P3', 'Pz', 'P4', 'O1', 'Oz', 'O2']\n",
      "Rescaled signal to Volt (mean variance=5.125585695305328e-10)\n"
     ]
    },
    {
     "name": "stderr",
     "output_type": "stream",
     "text": [
      "WARNING: failed to interpret \"auto\" as type int in parameter \"VisualizeSourceBufferSize\"\n",
      "WARNING: failed to interpret \"1/2s\" as type float in parameter \"PreSequenceDuration\"\n"
     ]
    },
    {
     "name": "stdout",
     "output_type": "stream",
     "text": [
      "nb stimuli=256\n",
      "nb targets=64\n",
      "[ 1024 12800 24576 36352 48128 59904 71680 83456]\n",
      "[12799 24575 36351 48127 59903 71679 83455 95231]\n",
      "Extracted 8 trials\n",
      "Reading WT-tacCopy010\\WT-tacCopyS010R02.dat\n"
     ]
    },
    {
     "name": "stderr",
     "output_type": "stream",
     "text": [
      "WARNING: failed to interpret \"auto\" as type int in parameter \"VisualizeSourceBufferSize\"\n",
      "WARNING: failed to interpret \"1/2s\" as type float in parameter \"PreSequenceDuration\"\n",
      "WARNING: failed to interpret \"auto\" as type int in parameter \"VisualizeSourceBufferSize\"\n",
      "WARNING: failed to interpret \"1/2s\" as type float in parameter \"PreSequenceDuration\"\n"
     ]
    },
    {
     "name": "stdout",
     "output_type": "stream",
     "text": [
      "Actualized channel names to ['Fz', 'Fc1', 'Fc2', 'C3', 'Cz', 'C4', 'P3', 'Pz', 'P4', 'O1', 'Oz', 'O2']\n",
      "Rescaled signal to Volt (mean variance=6.128219091431766e-10)\n"
     ]
    },
    {
     "name": "stderr",
     "output_type": "stream",
     "text": [
      "WARNING: failed to interpret \"auto\" as type int in parameter \"VisualizeSourceBufferSize\"\n",
      "WARNING: failed to interpret \"1/2s\" as type float in parameter \"PreSequenceDuration\"\n"
     ]
    },
    {
     "name": "stdout",
     "output_type": "stream",
     "text": [
      "nb stimuli=256\n",
      "nb targets=64\n",
      "[ 1024 12800 24576 36352 48128 59904 71680 83456]\n",
      "[12799 24575 36351 48127 59903 71679 83455 95231]\n",
      "Extracted 8 trials\n",
      "Reading WT-tacCopy010\\WT-tacCopyS010R03.dat\n"
     ]
    },
    {
     "name": "stderr",
     "output_type": "stream",
     "text": [
      "WARNING: failed to interpret \"auto\" as type int in parameter \"VisualizeSourceBufferSize\"\n",
      "WARNING: failed to interpret \"1/2s\" as type float in parameter \"PreSequenceDuration\"\n",
      "WARNING: failed to interpret \"auto\" as type int in parameter \"VisualizeSourceBufferSize\"\n",
      "WARNING: failed to interpret \"1/2s\" as type float in parameter \"PreSequenceDuration\"\n"
     ]
    },
    {
     "name": "stdout",
     "output_type": "stream",
     "text": [
      "Actualized channel names to ['Fz', 'Fc1', 'Fc2', 'C3', 'Cz', 'C4', 'P3', 'Pz', 'P4', 'O1', 'Oz', 'O2']\n",
      "Rescaled signal to Volt (mean variance=5.516020119988193e-10)\n"
     ]
    },
    {
     "name": "stderr",
     "output_type": "stream",
     "text": [
      "WARNING: failed to interpret \"auto\" as type int in parameter \"VisualizeSourceBufferSize\"\n"
     ]
    },
    {
     "name": "stdout",
     "output_type": "stream",
     "text": [
      "nb stimuli=256\n",
      "nb targets=64\n",
      "[ 1024 12800 24576 36352 48128 59904 71680 83456]\n",
      "[12799 24575 36351 48127 59903 71679 83455 95231]\n",
      "Extracted 8 trials\n"
     ]
    },
    {
     "name": "stderr",
     "output_type": "stream",
     "text": [
      "WARNING: failed to interpret \"1/2s\" as type float in parameter \"PreSequenceDuration\"\n"
     ]
    },
    {
     "name": "stdout",
     "output_type": "stream",
     "text": [
      "Reading WT-tacCalib011\\WT-tacCalibS011R01.dat\n"
     ]
    },
    {
     "name": "stderr",
     "output_type": "stream",
     "text": [
      "WARNING: failed to interpret \"auto\" as type int in parameter \"VisualizeSourceBufferSize\"\n",
      "WARNING: failed to interpret \"1/2s\" as type float in parameter \"PreSequenceDuration\"\n",
      "WARNING: failed to interpret \"auto\" as type int in parameter \"VisualizeSourceBufferSize\"\n",
      "WARNING: failed to interpret \"1/2s\" as type float in parameter \"PreSequenceDuration\"\n"
     ]
    },
    {
     "name": "stdout",
     "output_type": "stream",
     "text": [
      "Actualized channel names to ['Fz', 'Fc1', 'Fc2', 'C3', 'Cz', 'C4', 'P3', 'Pz', 'P4', 'O1', 'Oz', 'O2']\n",
      "Rescaled signal to Volt (mean variance=2.9290897242328287e-10)\n"
     ]
    },
    {
     "name": "stderr",
     "output_type": "stream",
     "text": [
      "WARNING: failed to interpret \"auto\" as type int in parameter \"VisualizeSourceBufferSize\"\n",
      "WARNING: failed to interpret \"1/2s\" as type float in parameter \"PreSequenceDuration\"\n"
     ]
    },
    {
     "name": "stdout",
     "output_type": "stream",
     "text": [
      "nb stimuli=320\n",
      "nb targets=80\n",
      "[ 1024 14784 28544 42304 56064 69824 83584 97344]\n",
      "[ 14783  28543  42303  56063  69823  83583  97343 111103]\n",
      "Extracted 8 trials\n",
      "Reading WT-tacCalib011\\WT-tacCalibS011R02.dat\n"
     ]
    },
    {
     "name": "stderr",
     "output_type": "stream",
     "text": [
      "WARNING: failed to interpret \"auto\" as type int in parameter \"VisualizeSourceBufferSize\"\n",
      "WARNING: failed to interpret \"1/2s\" as type float in parameter \"PreSequenceDuration\"\n",
      "WARNING: failed to interpret \"auto\" as type int in parameter \"VisualizeSourceBufferSize\"\n",
      "WARNING: failed to interpret \"1/2s\" as type float in parameter \"PreSequenceDuration\"\n"
     ]
    },
    {
     "name": "stdout",
     "output_type": "stream",
     "text": [
      "Actualized channel names to ['Fz', 'Fc1', 'Fc2', 'C3', 'Cz', 'C4', 'P3', 'Pz', 'P4', 'O1', 'Oz', 'O2']\n",
      "Rescaled signal to Volt (mean variance=3.314596938541718e-10)\n"
     ]
    },
    {
     "name": "stderr",
     "output_type": "stream",
     "text": [
      "WARNING: failed to interpret \"auto\" as type int in parameter \"VisualizeSourceBufferSize\"\n",
      "WARNING: failed to interpret \"1/2s\" as type float in parameter \"PreSequenceDuration\"\n"
     ]
    },
    {
     "name": "stdout",
     "output_type": "stream",
     "text": [
      "nb stimuli=320\n",
      "nb targets=80\n",
      "[ 1024 14784 28544 42304 56064 69824 83584 97344]\n",
      "[ 14783  28543  42303  56063  69823  83583  97343 111103]\n",
      "Extracted 8 trials\n",
      "Reading WT-tacCalib011\\WT-tacCalibS011R03.dat\n"
     ]
    },
    {
     "name": "stderr",
     "output_type": "stream",
     "text": [
      "WARNING: failed to interpret \"auto\" as type int in parameter \"VisualizeSourceBufferSize\"\n",
      "WARNING: failed to interpret \"1/2s\" as type float in parameter \"PreSequenceDuration\"\n",
      "WARNING: failed to interpret \"auto\" as type int in parameter \"VisualizeSourceBufferSize\"\n",
      "WARNING: failed to interpret \"1/2s\" as type float in parameter \"PreSequenceDuration\"\n"
     ]
    },
    {
     "name": "stdout",
     "output_type": "stream",
     "text": [
      "Actualized channel names to ['Fz', 'Fc1', 'Fc2', 'C3', 'Cz', 'C4', 'P3', 'Pz', 'P4', 'O1', 'Oz', 'O2']\n",
      "Rescaled signal to Volt (mean variance=2.312518445078841e-10)\n"
     ]
    },
    {
     "name": "stderr",
     "output_type": "stream",
     "text": [
      "WARNING: failed to interpret \"auto\" as type int in parameter \"VisualizeSourceBufferSize\"\n"
     ]
    },
    {
     "name": "stdout",
     "output_type": "stream",
     "text": [
      "nb stimuli=320\n",
      "nb targets=80\n",
      "[ 1024 14784 28544 42304 56064 69824 83584 97344]\n",
      "[ 14783  28543  42303  56063  69823  83583  97343 111103]\n",
      "Extracted 8 trials\n"
     ]
    },
    {
     "name": "stderr",
     "output_type": "stream",
     "text": [
      "WARNING: failed to interpret \"1/2s\" as type float in parameter \"PreSequenceDuration\"\n"
     ]
    },
    {
     "name": "stdout",
     "output_type": "stream",
     "text": [
      "Reading WT-tacCopy011\\WT-tacCopyS011R01.dat\n"
     ]
    },
    {
     "name": "stderr",
     "output_type": "stream",
     "text": [
      "WARNING: failed to interpret \"auto\" as type int in parameter \"VisualizeSourceBufferSize\"\n",
      "WARNING: failed to interpret \"1/2s\" as type float in parameter \"PreSequenceDuration\"\n",
      "WARNING: failed to interpret \"auto\" as type int in parameter \"VisualizeSourceBufferSize\"\n",
      "WARNING: failed to interpret \"1/2s\" as type float in parameter \"PreSequenceDuration\"\n"
     ]
    },
    {
     "name": "stdout",
     "output_type": "stream",
     "text": [
      "Actualized channel names to ['Fz', 'Fc1', 'Fc2', 'C3', 'Cz', 'C4', 'P3', 'Pz', 'P4', 'O1', 'Oz', 'O2']\n",
      "Rescaled signal to Volt (mean variance=4.565148928961956e-10)\n"
     ]
    },
    {
     "name": "stderr",
     "output_type": "stream",
     "text": [
      "WARNING: failed to interpret \"auto\" as type int in parameter \"VisualizeSourceBufferSize\"\n",
      "WARNING: failed to interpret \"1/2s\" as type float in parameter \"PreSequenceDuration\"\n"
     ]
    },
    {
     "name": "stdout",
     "output_type": "stream",
     "text": [
      "nb stimuli=256\n",
      "nb targets=64\n",
      "[ 1024 12800 24576 36352 48128 59904 71680 83456]\n",
      "[12799 24575 36351 48127 59903 71679 83455 95231]\n",
      "Extracted 8 trials\n",
      "Reading WT-tacCopy011\\WT-tacCopyS011R02.dat\n"
     ]
    },
    {
     "name": "stderr",
     "output_type": "stream",
     "text": [
      "WARNING: failed to interpret \"auto\" as type int in parameter \"VisualizeSourceBufferSize\"\n",
      "WARNING: failed to interpret \"1/2s\" as type float in parameter \"PreSequenceDuration\"\n",
      "WARNING: failed to interpret \"auto\" as type int in parameter \"VisualizeSourceBufferSize\"\n",
      "WARNING: failed to interpret \"1/2s\" as type float in parameter \"PreSequenceDuration\"\n"
     ]
    },
    {
     "name": "stdout",
     "output_type": "stream",
     "text": [
      "Actualized channel names to ['Fz', 'Fc1', 'Fc2', 'C3', 'Cz', 'C4', 'P3', 'Pz', 'P4', 'O1', 'Oz', 'O2']\n",
      "Rescaled signal to Volt (mean variance=4.287240711007014e-10)\n"
     ]
    },
    {
     "name": "stderr",
     "output_type": "stream",
     "text": [
      "WARNING: failed to interpret \"auto\" as type int in parameter \"VisualizeSourceBufferSize\"\n",
      "WARNING: failed to interpret \"1/2s\" as type float in parameter \"PreSequenceDuration\"\n"
     ]
    },
    {
     "name": "stdout",
     "output_type": "stream",
     "text": [
      "nb stimuli=256\n",
      "nb targets=64\n",
      "[ 1024 12800 24576 36352 48128 59904 71680 83456]\n",
      "[12799 24575 36351 48127 59903 71679 83455 95231]\n",
      "Extracted 8 trials\n",
      "Reading WT-tacCopy011\\WT-tacCopyS011R03.dat\n"
     ]
    },
    {
     "name": "stderr",
     "output_type": "stream",
     "text": [
      "WARNING: failed to interpret \"auto\" as type int in parameter \"VisualizeSourceBufferSize\"\n",
      "WARNING: failed to interpret \"1/2s\" as type float in parameter \"PreSequenceDuration\"\n",
      "WARNING: failed to interpret \"auto\" as type int in parameter \"VisualizeSourceBufferSize\"\n",
      "WARNING: failed to interpret \"1/2s\" as type float in parameter \"PreSequenceDuration\"\n"
     ]
    },
    {
     "name": "stdout",
     "output_type": "stream",
     "text": [
      "Actualized channel names to ['Fz', 'Fc1', 'Fc2', 'C3', 'Cz', 'C4', 'P3', 'Pz', 'P4', 'O1', 'Oz', 'O2']\n",
      "Rescaled signal to Volt (mean variance=3.963648256904923e-10)\n"
     ]
    },
    {
     "name": "stderr",
     "output_type": "stream",
     "text": [
      "WARNING: failed to interpret \"auto\" as type int in parameter \"VisualizeSourceBufferSize\"\n",
      "WARNING: failed to interpret \"1/2s\" as type float in parameter \"PreSequenceDuration\"\n"
     ]
    },
    {
     "name": "stdout",
     "output_type": "stream",
     "text": [
      "nb stimuli=256\n",
      "nb targets=64\n",
      "[ 1024 12800 24576 36352 48128 59904 71680 83456]\n",
      "[12799 24575 36351 48127 59903 71679 83455 95231]\n",
      "Extracted 8 trials\n",
      "Reading WT-tacCalib012\\WT-tacCalibS012R02.dat\n"
     ]
    },
    {
     "name": "stderr",
     "output_type": "stream",
     "text": [
      "WARNING: failed to interpret \"auto\" as type int in parameter \"VisualizeSourceBufferSize\"\n",
      "WARNING: failed to interpret \"1/2s\" as type float in parameter \"PreSequenceDuration\"\n",
      "WARNING: failed to interpret \"auto\" as type int in parameter \"VisualizeSourceBufferSize\"\n",
      "WARNING: failed to interpret \"1/2s\" as type float in parameter \"PreSequenceDuration\"\n"
     ]
    },
    {
     "name": "stdout",
     "output_type": "stream",
     "text": [
      "Actualized channel names to ['Fz', 'Fc1', 'Fc2', 'C3', 'Cz', 'C4', 'P3', 'Pz', 'P4', 'O1', 'Oz', 'O2']\n",
      "Rescaled signal to Volt (mean variance=1.4996735604235875e-10)\n"
     ]
    },
    {
     "name": "stderr",
     "output_type": "stream",
     "text": [
      "WARNING: failed to interpret \"auto\" as type int in parameter \"VisualizeSourceBufferSize\"\n",
      "WARNING: failed to interpret \"1/2s\" as type float in parameter \"PreSequenceDuration\"\n"
     ]
    },
    {
     "name": "stdout",
     "output_type": "stream",
     "text": [
      "nb stimuli=320\n",
      "nb targets=80\n",
      "[ 1024 14784 28544 42304 56064 69824 83584 97344]\n",
      "[ 14783  28543  42303  56063  69823  83583  97343 111103]\n",
      "Extracted 8 trials\n",
      "Reading WT-tacCalib012\\WT-tacCalibS012R03.dat\n"
     ]
    },
    {
     "name": "stderr",
     "output_type": "stream",
     "text": [
      "WARNING: failed to interpret \"auto\" as type int in parameter \"VisualizeSourceBufferSize\"\n",
      "WARNING: failed to interpret \"1/2s\" as type float in parameter \"PreSequenceDuration\"\n",
      "WARNING: failed to interpret \"auto\" as type int in parameter \"VisualizeSourceBufferSize\"\n",
      "WARNING: failed to interpret \"1/2s\" as type float in parameter \"PreSequenceDuration\"\n"
     ]
    },
    {
     "name": "stdout",
     "output_type": "stream",
     "text": [
      "Actualized channel names to ['Fz', 'Fc1', 'Fc2', 'C3', 'Cz', 'C4', 'P3', 'Pz', 'P4', 'O1', 'Oz', 'O2']\n",
      "Rescaled signal to Volt (mean variance=1.10192554690517e-10)\n"
     ]
    },
    {
     "name": "stderr",
     "output_type": "stream",
     "text": [
      "WARNING: failed to interpret \"auto\" as type int in parameter \"VisualizeSourceBufferSize\"\n",
      "WARNING: failed to interpret \"1/2s\" as type float in parameter \"PreSequenceDuration\"\n"
     ]
    },
    {
     "name": "stdout",
     "output_type": "stream",
     "text": [
      "nb stimuli=320\n",
      "nb targets=80\n",
      "[ 1024 14784 28544 42304 56064 69824 83584 97344]\n",
      "[ 14783  28543  42303  56063  69823  83583  97343 111103]\n",
      "Extracted 8 trials\n",
      "Reading WT-tacCalib012\\WT-tacCalibS012R04.dat\n"
     ]
    },
    {
     "name": "stderr",
     "output_type": "stream",
     "text": [
      "WARNING: failed to interpret \"auto\" as type int in parameter \"VisualizeSourceBufferSize\"\n",
      "WARNING: failed to interpret \"1/2s\" as type float in parameter \"PreSequenceDuration\"\n",
      "WARNING: failed to interpret \"auto\" as type int in parameter \"VisualizeSourceBufferSize\"\n",
      "WARNING: failed to interpret \"1/2s\" as type float in parameter \"PreSequenceDuration\"\n"
     ]
    },
    {
     "name": "stdout",
     "output_type": "stream",
     "text": [
      "Actualized channel names to ['Fz', 'Fc1', 'Fc2', 'C3', 'Cz', 'C4', 'P3', 'Pz', 'P4', 'O1', 'Oz', 'O2']\n",
      "Rescaled signal to Volt (mean variance=1.563373084922757e-10)\n"
     ]
    },
    {
     "name": "stderr",
     "output_type": "stream",
     "text": [
      "WARNING: failed to interpret \"auto\" as type int in parameter \"VisualizeSourceBufferSize\"\n"
     ]
    },
    {
     "name": "stdout",
     "output_type": "stream",
     "text": [
      "nb stimuli=320\n",
      "nb targets=80\n",
      "[ 1024 14784 28544 42304 56064 69824 83584 97344]\n",
      "[ 14783  28543  42303  56063  69823  83583  97343 111103]\n",
      "Extracted 8 trials\n"
     ]
    },
    {
     "name": "stderr",
     "output_type": "stream",
     "text": [
      "WARNING: failed to interpret \"1/2s\" as type float in parameter \"PreSequenceDuration\"\n"
     ]
    },
    {
     "name": "stdout",
     "output_type": "stream",
     "text": [
      "Reading WT-tacCopy012\\WT-tacCopyS012R01.dat\n"
     ]
    },
    {
     "name": "stderr",
     "output_type": "stream",
     "text": [
      "WARNING: failed to interpret \"auto\" as type int in parameter \"VisualizeSourceBufferSize\"\n",
      "WARNING: failed to interpret \"1/2s\" as type float in parameter \"PreSequenceDuration\"\n",
      "WARNING: failed to interpret \"auto\" as type int in parameter \"VisualizeSourceBufferSize\"\n",
      "WARNING: failed to interpret \"1/2s\" as type float in parameter \"PreSequenceDuration\"\n"
     ]
    },
    {
     "name": "stdout",
     "output_type": "stream",
     "text": [
      "Actualized channel names to ['Fz', 'Fc1', 'Fc2', 'C3', 'Cz', 'C4', 'P3', 'Pz', 'P4', 'O1', 'Oz', 'O2']\n",
      "Rescaled signal to Volt (mean variance=2.845788834557722e-10)\n"
     ]
    },
    {
     "name": "stderr",
     "output_type": "stream",
     "text": [
      "WARNING: failed to interpret \"auto\" as type int in parameter \"VisualizeSourceBufferSize\"\n",
      "WARNING: failed to interpret \"1/2s\" as type float in parameter \"PreSequenceDuration\"\n"
     ]
    },
    {
     "name": "stdout",
     "output_type": "stream",
     "text": [
      "nb stimuli=256\n",
      "nb targets=64\n",
      "[ 1024 12800 24576 36352 48128 59904 71680 83456]\n",
      "[12799 24575 36351 48127 59903 71679 83455 95231]\n",
      "Extracted 8 trials\n",
      "Reading WT-tacCopy012\\WT-tacCopyS012R02.dat\n"
     ]
    },
    {
     "name": "stderr",
     "output_type": "stream",
     "text": [
      "WARNING: failed to interpret \"auto\" as type int in parameter \"VisualizeSourceBufferSize\"\n",
      "WARNING: failed to interpret \"1/2s\" as type float in parameter \"PreSequenceDuration\"\n",
      "WARNING: failed to interpret \"auto\" as type int in parameter \"VisualizeSourceBufferSize\"\n",
      "WARNING: failed to interpret \"1/2s\" as type float in parameter \"PreSequenceDuration\"\n"
     ]
    },
    {
     "name": "stdout",
     "output_type": "stream",
     "text": [
      "Actualized channel names to ['Fz', 'Fc1', 'Fc2', 'C3', 'Cz', 'C4', 'P3', 'Pz', 'P4', 'O1', 'Oz', 'O2']\n",
      "Rescaled signal to Volt (mean variance=2.7990426074080997e-10)\n"
     ]
    },
    {
     "name": "stderr",
     "output_type": "stream",
     "text": [
      "WARNING: failed to interpret \"auto\" as type int in parameter \"VisualizeSourceBufferSize\"\n",
      "WARNING: failed to interpret \"1/2s\" as type float in parameter \"PreSequenceDuration\"\n"
     ]
    },
    {
     "name": "stdout",
     "output_type": "stream",
     "text": [
      "nb stimuli=256\n",
      "nb targets=64\n",
      "[ 1024 12800 24576 36352 48128 59904 71680 83456]\n",
      "[12799 24575 36351 48127 59903 71679 83455 95231]\n",
      "Extracted 8 trials\n",
      "Reading WT-tacCopy012\\WT-tacCopyS012R03.dat\n"
     ]
    },
    {
     "name": "stderr",
     "output_type": "stream",
     "text": [
      "WARNING: failed to interpret \"auto\" as type int in parameter \"VisualizeSourceBufferSize\"\n",
      "WARNING: failed to interpret \"1/2s\" as type float in parameter \"PreSequenceDuration\"\n",
      "WARNING: failed to interpret \"auto\" as type int in parameter \"VisualizeSourceBufferSize\"\n",
      "WARNING: failed to interpret \"1/2s\" as type float in parameter \"PreSequenceDuration\"\n"
     ]
    },
    {
     "name": "stdout",
     "output_type": "stream",
     "text": [
      "Actualized channel names to ['Fz', 'Fc1', 'Fc2', 'C3', 'Cz', 'C4', 'P3', 'Pz', 'P4', 'O1', 'Oz', 'O2']\n",
      "Rescaled signal to Volt (mean variance=2.9353103574416934e-10)\n"
     ]
    },
    {
     "name": "stderr",
     "output_type": "stream",
     "text": [
      "WARNING: failed to interpret \"auto\" as type int in parameter \"VisualizeSourceBufferSize\"\n",
      "WARNING: failed to interpret \"1/2s\" as type float in parameter \"PreSequenceDuration\"\n"
     ]
    },
    {
     "name": "stdout",
     "output_type": "stream",
     "text": [
      "nb stimuli=256\n",
      "nb targets=64\n",
      "[ 1024 12800 24576 36352 48128 59904 71680 83456]\n",
      "[12799 24575 36351 48127 59903 71679 83455 95231]\n",
      "Extracted 8 trials\n",
      "Reading WT-tacCalib013\\WT-tacCalibS013R01.dat\n"
     ]
    },
    {
     "name": "stderr",
     "output_type": "stream",
     "text": [
      "WARNING: failed to interpret \"auto\" as type int in parameter \"VisualizeSourceBufferSize\"\n",
      "WARNING: failed to interpret \"1/2s\" as type float in parameter \"PreSequenceDuration\"\n",
      "WARNING: failed to interpret \"auto\" as type int in parameter \"VisualizeSourceBufferSize\"\n",
      "WARNING: failed to interpret \"1/2s\" as type float in parameter \"PreSequenceDuration\"\n"
     ]
    },
    {
     "name": "stdout",
     "output_type": "stream",
     "text": [
      "Actualized channel names to ['Fz', 'Fc1', 'Fc2', 'C3', 'Cz', 'C4', 'P3', 'Pz', 'P4', 'O1', 'Oz', 'O2']\n",
      "Rescaled signal to Volt (mean variance=2.001301930313817e-10)\n"
     ]
    },
    {
     "name": "stderr",
     "output_type": "stream",
     "text": [
      "WARNING: failed to interpret \"auto\" as type int in parameter \"VisualizeSourceBufferSize\"\n",
      "WARNING: failed to interpret \"1/2s\" as type float in parameter \"PreSequenceDuration\"\n"
     ]
    },
    {
     "name": "stdout",
     "output_type": "stream",
     "text": [
      "nb stimuli=320\n",
      "nb targets=80\n",
      "[ 1024 14784 28544 42304 56064 69824 83584 97344]\n",
      "[ 14783  28543  42303  56063  69823  83583  97343 111103]\n",
      "Extracted 8 trials\n",
      "Reading WT-tacCalib013\\WT-tacCalibS013R02.dat\n"
     ]
    },
    {
     "name": "stderr",
     "output_type": "stream",
     "text": [
      "WARNING: failed to interpret \"auto\" as type int in parameter \"VisualizeSourceBufferSize\"\n",
      "WARNING: failed to interpret \"1/2s\" as type float in parameter \"PreSequenceDuration\"\n",
      "WARNING: failed to interpret \"auto\" as type int in parameter \"VisualizeSourceBufferSize\"\n",
      "WARNING: failed to interpret \"1/2s\" as type float in parameter \"PreSequenceDuration\"\n"
     ]
    },
    {
     "name": "stdout",
     "output_type": "stream",
     "text": [
      "Actualized channel names to ['Fz', 'Fc1', 'Fc2', 'C3', 'Cz', 'C4', 'P3', 'Pz', 'P4', 'O1', 'Oz', 'O2']\n",
      "Rescaled signal to Volt (mean variance=2.739396941221452e-10)\n"
     ]
    },
    {
     "name": "stderr",
     "output_type": "stream",
     "text": [
      "WARNING: failed to interpret \"auto\" as type int in parameter \"VisualizeSourceBufferSize\"\n",
      "WARNING: failed to interpret \"1/2s\" as type float in parameter \"PreSequenceDuration\"\n"
     ]
    },
    {
     "name": "stdout",
     "output_type": "stream",
     "text": [
      "nb stimuli=320\n",
      "nb targets=80\n",
      "[ 1024 14784 28544 42304 56064 69824 83584 97344]\n",
      "[ 14783  28543  42303  56063  69823  83583  97343 111103]\n",
      "Extracted 8 trials\n",
      "Reading WT-tacCalib013\\WT-tacCalibS013R03.dat\n"
     ]
    },
    {
     "name": "stderr",
     "output_type": "stream",
     "text": [
      "WARNING: failed to interpret \"auto\" as type int in parameter \"VisualizeSourceBufferSize\"\n",
      "WARNING: failed to interpret \"1/2s\" as type float in parameter \"PreSequenceDuration\"\n",
      "WARNING: failed to interpret \"auto\" as type int in parameter \"VisualizeSourceBufferSize\"\n",
      "WARNING: failed to interpret \"1/2s\" as type float in parameter \"PreSequenceDuration\"\n"
     ]
    },
    {
     "name": "stdout",
     "output_type": "stream",
     "text": [
      "Actualized channel names to ['Fz', 'Fc1', 'Fc2', 'C3', 'Cz', 'C4', 'P3', 'Pz', 'P4', 'O1', 'Oz', 'O2']\n",
      "Rescaled signal to Volt (mean variance=2.887771743630778e-10)\n"
     ]
    },
    {
     "name": "stderr",
     "output_type": "stream",
     "text": [
      "WARNING: failed to interpret \"auto\" as type int in parameter \"VisualizeSourceBufferSize\"\n"
     ]
    },
    {
     "name": "stdout",
     "output_type": "stream",
     "text": [
      "nb stimuli=320\n",
      "nb targets=80\n",
      "[ 1024 14784 28544 42304 56064 69824 83584 97344]\n",
      "[ 14783  28543  42303  56063  69823  83583  97343 111103]\n",
      "Extracted 8 trials\n"
     ]
    },
    {
     "name": "stderr",
     "output_type": "stream",
     "text": [
      "WARNING: failed to interpret \"1/2s\" as type float in parameter \"PreSequenceDuration\"\n"
     ]
    },
    {
     "name": "stdout",
     "output_type": "stream",
     "text": [
      "Reading WT-tacCopy013\\WT-tacCopyS013R01.dat\n"
     ]
    },
    {
     "name": "stderr",
     "output_type": "stream",
     "text": [
      "WARNING: failed to interpret \"auto\" as type int in parameter \"VisualizeSourceBufferSize\"\n",
      "WARNING: failed to interpret \"1/2s\" as type float in parameter \"PreSequenceDuration\"\n",
      "WARNING: failed to interpret \"auto\" as type int in parameter \"VisualizeSourceBufferSize\"\n",
      "WARNING: failed to interpret \"1/2s\" as type float in parameter \"PreSequenceDuration\"\n"
     ]
    },
    {
     "name": "stdout",
     "output_type": "stream",
     "text": [
      "Actualized channel names to ['Fz', 'Fc1', 'Fc2', 'C3', 'Cz', 'C4', 'P3', 'Pz', 'P4', 'O1', 'Oz', 'O2']\n",
      "Rescaled signal to Volt (mean variance=5.26717977408216e-10)\n"
     ]
    },
    {
     "name": "stderr",
     "output_type": "stream",
     "text": [
      "WARNING: failed to interpret \"auto\" as type int in parameter \"VisualizeSourceBufferSize\"\n",
      "WARNING: failed to interpret \"1/2s\" as type float in parameter \"PreSequenceDuration\"\n"
     ]
    },
    {
     "name": "stdout",
     "output_type": "stream",
     "text": [
      "nb stimuli=256\n",
      "nb targets=64\n",
      "[ 1024 12800 24576 36352 48128 59904 71680 83456]\n",
      "[12799 24575 36351 48127 59903 71679 83455 95231]\n",
      "Extracted 8 trials\n",
      "Reading WT-tacCopy013\\WT-tacCopyS013R02.dat\n"
     ]
    },
    {
     "name": "stderr",
     "output_type": "stream",
     "text": [
      "WARNING: failed to interpret \"auto\" as type int in parameter \"VisualizeSourceBufferSize\"\n",
      "WARNING: failed to interpret \"1/2s\" as type float in parameter \"PreSequenceDuration\"\n",
      "WARNING: failed to interpret \"auto\" as type int in parameter \"VisualizeSourceBufferSize\"\n",
      "WARNING: failed to interpret \"1/2s\" as type float in parameter \"PreSequenceDuration\"\n"
     ]
    },
    {
     "name": "stdout",
     "output_type": "stream",
     "text": [
      "Actualized channel names to ['Fz', 'Fc1', 'Fc2', 'C3', 'Cz', 'C4', 'P3', 'Pz', 'P4', 'O1', 'Oz', 'O2']\n",
      "Rescaled signal to Volt (mean variance=5.129462299376485e-10)\n"
     ]
    },
    {
     "name": "stderr",
     "output_type": "stream",
     "text": [
      "WARNING: failed to interpret \"auto\" as type int in parameter \"VisualizeSourceBufferSize\"\n",
      "WARNING: failed to interpret \"1/2s\" as type float in parameter \"PreSequenceDuration\"\n"
     ]
    },
    {
     "name": "stdout",
     "output_type": "stream",
     "text": [
      "nb stimuli=256\n",
      "nb targets=64\n",
      "[ 1024 12800 24576 36352 48128 59904 71680 83456]\n",
      "[12799 24575 36351 48127 59903 71679 83455 95231]\n",
      "Extracted 8 trials\n",
      "Reading WT-tacCopy013\\WT-tacCopyS013R03.dat\n"
     ]
    },
    {
     "name": "stderr",
     "output_type": "stream",
     "text": [
      "WARNING: failed to interpret \"auto\" as type int in parameter \"VisualizeSourceBufferSize\"\n",
      "WARNING: failed to interpret \"1/2s\" as type float in parameter \"PreSequenceDuration\"\n",
      "WARNING: failed to interpret \"auto\" as type int in parameter \"VisualizeSourceBufferSize\"\n",
      "WARNING: failed to interpret \"1/2s\" as type float in parameter \"PreSequenceDuration\"\n"
     ]
    },
    {
     "name": "stdout",
     "output_type": "stream",
     "text": [
      "Actualized channel names to ['Fz', 'Fc1', 'Fc2', 'C3', 'Cz', 'C4', 'P3', 'Pz', 'P4', 'O1', 'Oz', 'O2']\n",
      "Rescaled signal to Volt (mean variance=5.220021103256104e-10)\n"
     ]
    },
    {
     "name": "stderr",
     "output_type": "stream",
     "text": [
      "WARNING: failed to interpret \"auto\" as type int in parameter \"VisualizeSourceBufferSize\"\n",
      "WARNING: failed to interpret \"1/2s\" as type float in parameter \"PreSequenceDuration\"\n"
     ]
    },
    {
     "name": "stdout",
     "output_type": "stream",
     "text": [
      "nb stimuli=256\n",
      "nb targets=64\n",
      "[ 1024 12800 24576 36352 48128 59904 71680 83456]\n",
      "[12799 24575 36351 48127 59903 71679 83455 95231]\n",
      "Extracted 8 trials\n",
      "Reading WT-tacCalib014\\WT-tacCalibS014R01.dat\n"
     ]
    },
    {
     "name": "stderr",
     "output_type": "stream",
     "text": [
      "WARNING: failed to interpret \"auto\" as type int in parameter \"VisualizeSourceBufferSize\"\n",
      "WARNING: failed to interpret \"1/2s\" as type float in parameter \"PreSequenceDuration\"\n",
      "WARNING: failed to interpret \"auto\" as type int in parameter \"VisualizeSourceBufferSize\"\n",
      "WARNING: failed to interpret \"1/2s\" as type float in parameter \"PreSequenceDuration\"\n"
     ]
    },
    {
     "name": "stdout",
     "output_type": "stream",
     "text": [
      "Actualized channel names to ['Fz', 'Fc1', 'Fc2', 'C3', 'Cz', 'C4', 'P3', 'Pz', 'P4', 'O1', 'Oz', 'O2']\n",
      "Rescaled signal to Volt (mean variance=2.658834840024324e-10)\n"
     ]
    },
    {
     "name": "stderr",
     "output_type": "stream",
     "text": [
      "WARNING: failed to interpret \"auto\" as type int in parameter \"VisualizeSourceBufferSize\"\n",
      "WARNING: failed to interpret \"1/2s\" as type float in parameter \"PreSequenceDuration\"\n"
     ]
    },
    {
     "name": "stdout",
     "output_type": "stream",
     "text": [
      "nb stimuli=320\n",
      "nb targets=80\n",
      "[ 1024 14784 28544 42304 56064 69824 83584 97344]\n",
      "[ 14783  28543  42303  56063  69823  83583  97343 111103]\n",
      "Extracted 8 trials\n",
      "Reading WT-tacCalib014\\WT-tacCalibS014R02.dat\n"
     ]
    },
    {
     "name": "stderr",
     "output_type": "stream",
     "text": [
      "WARNING: failed to interpret \"auto\" as type int in parameter \"VisualizeSourceBufferSize\"\n",
      "WARNING: failed to interpret \"1/2s\" as type float in parameter \"PreSequenceDuration\"\n",
      "WARNING: failed to interpret \"auto\" as type int in parameter \"VisualizeSourceBufferSize\"\n",
      "WARNING: failed to interpret \"1/2s\" as type float in parameter \"PreSequenceDuration\"\n"
     ]
    },
    {
     "name": "stdout",
     "output_type": "stream",
     "text": [
      "Actualized channel names to ['Fz', 'Fc1', 'Fc2', 'C3', 'Cz', 'C4', 'P3', 'Pz', 'P4', 'O1', 'Oz', 'O2']\n",
      "Rescaled signal to Volt (mean variance=2.7795653715633734e-10)\n"
     ]
    },
    {
     "name": "stderr",
     "output_type": "stream",
     "text": [
      "WARNING: failed to interpret \"auto\" as type int in parameter \"VisualizeSourceBufferSize\"\n",
      "WARNING: failed to interpret \"1/2s\" as type float in parameter \"PreSequenceDuration\"\n"
     ]
    },
    {
     "name": "stdout",
     "output_type": "stream",
     "text": [
      "nb stimuli=320\n",
      "nb targets=80\n",
      "[ 1024 14784 28544 42304 56064 69824 83584 97344]\n",
      "[ 14783  28543  42303  56063  69823  83583  97343 111103]\n",
      "Extracted 8 trials\n",
      "Reading WT-tacCalib014\\WT-tacCalibS014R03.dat\n"
     ]
    },
    {
     "name": "stderr",
     "output_type": "stream",
     "text": [
      "WARNING: failed to interpret \"auto\" as type int in parameter \"VisualizeSourceBufferSize\"\n",
      "WARNING: failed to interpret \"1/2s\" as type float in parameter \"PreSequenceDuration\"\n",
      "WARNING: failed to interpret \"auto\" as type int in parameter \"VisualizeSourceBufferSize\"\n",
      "WARNING: failed to interpret \"1/2s\" as type float in parameter \"PreSequenceDuration\"\n"
     ]
    },
    {
     "name": "stdout",
     "output_type": "stream",
     "text": [
      "Actualized channel names to ['Fz', 'Fc1', 'Fc2', 'C3', 'Cz', 'C4', 'P3', 'Pz', 'P4', 'O1', 'Oz', 'O2']\n",
      "Rescaled signal to Volt (mean variance=3.7967313612479823e-10)\n",
      "nb stimuli=320\n",
      "nb targets=80\n",
      "[ 1024 14784 28544 42304 56064 69824 83584 97344]\n",
      "[ 14783  28543  42303  56063  69823  83583  97343 111103]\n",
      "Extracted 8 trials\n"
     ]
    },
    {
     "name": "stderr",
     "output_type": "stream",
     "text": [
      "WARNING: failed to interpret \"auto\" as type int in parameter \"VisualizeSourceBufferSize\"\n",
      "WARNING: failed to interpret \"1/2s\" as type float in parameter \"PreSequenceDuration\"\n"
     ]
    },
    {
     "name": "stdout",
     "output_type": "stream",
     "text": [
      "Reading WT-tacCopy014\\WT-tacCopyS014R01.dat\n"
     ]
    },
    {
     "name": "stderr",
     "output_type": "stream",
     "text": [
      "WARNING: failed to interpret \"auto\" as type int in parameter \"VisualizeSourceBufferSize\"\n",
      "WARNING: failed to interpret \"1/2s\" as type float in parameter \"PreSequenceDuration\"\n",
      "WARNING: failed to interpret \"auto\" as type int in parameter \"VisualizeSourceBufferSize\"\n",
      "WARNING: failed to interpret \"1/2s\" as type float in parameter \"PreSequenceDuration\"\n"
     ]
    },
    {
     "name": "stdout",
     "output_type": "stream",
     "text": [
      "Actualized channel names to ['Fz', 'Fc1', 'Fc2', 'C3', 'Cz', 'C4', 'P3', 'Pz', 'P4', 'O1', 'Oz', 'O2']\n",
      "Rescaled signal to Volt (mean variance=2.360322558541124e-10)\n"
     ]
    },
    {
     "name": "stderr",
     "output_type": "stream",
     "text": [
      "WARNING: failed to interpret \"auto\" as type int in parameter \"VisualizeSourceBufferSize\"\n",
      "WARNING: failed to interpret \"1/2s\" as type float in parameter \"PreSequenceDuration\"\n"
     ]
    },
    {
     "name": "stdout",
     "output_type": "stream",
     "text": [
      "nb stimuli=256\n",
      "nb targets=64\n",
      "[ 1024 12800 24576 36352 48128 59904 71680 83456]\n",
      "[12799 24575 36351 48127 59903 71679 83455 95231]\n",
      "Extracted 8 trials\n",
      "Reading WT-tacCopy014\\WT-tacCopyS014R02.dat\n"
     ]
    },
    {
     "name": "stderr",
     "output_type": "stream",
     "text": [
      "WARNING: failed to interpret \"auto\" as type int in parameter \"VisualizeSourceBufferSize\"\n",
      "WARNING: failed to interpret \"1/2s\" as type float in parameter \"PreSequenceDuration\"\n",
      "WARNING: failed to interpret \"auto\" as type int in parameter \"VisualizeSourceBufferSize\"\n",
      "WARNING: failed to interpret \"1/2s\" as type float in parameter \"PreSequenceDuration\"\n"
     ]
    },
    {
     "name": "stdout",
     "output_type": "stream",
     "text": [
      "Actualized channel names to ['Fz', 'Fc1', 'Fc2', 'C3', 'Cz', 'C4', 'P3', 'Pz', 'P4', 'O1', 'Oz', 'O2']\n",
      "Rescaled signal to Volt (mean variance=3.642698388619025e-10)\n"
     ]
    },
    {
     "name": "stderr",
     "output_type": "stream",
     "text": [
      "WARNING: failed to interpret \"auto\" as type int in parameter \"VisualizeSourceBufferSize\"\n",
      "WARNING: failed to interpret \"1/2s\" as type float in parameter \"PreSequenceDuration\"\n"
     ]
    },
    {
     "name": "stdout",
     "output_type": "stream",
     "text": [
      "nb stimuli=256\n",
      "nb targets=64\n",
      "[ 1024 12800 24576 36352 48128 59904 71680 83456]\n",
      "[12799 24575 36351 48127 59903 71679 83455 95231]\n",
      "Extracted 8 trials\n",
      "Reading WT-tacCopy014\\WT-tacCopyS014R03.dat\n"
     ]
    },
    {
     "name": "stderr",
     "output_type": "stream",
     "text": [
      "WARNING: failed to interpret \"auto\" as type int in parameter \"VisualizeSourceBufferSize\"\n",
      "WARNING: failed to interpret \"1/2s\" as type float in parameter \"PreSequenceDuration\"\n",
      "WARNING: failed to interpret \"auto\" as type int in parameter \"VisualizeSourceBufferSize\"\n",
      "WARNING: failed to interpret \"1/2s\" as type float in parameter \"PreSequenceDuration\"\n"
     ]
    },
    {
     "name": "stdout",
     "output_type": "stream",
     "text": [
      "Actualized channel names to ['Fz', 'Fc1', 'Fc2', 'C3', 'Cz', 'C4', 'P3', 'Pz', 'P4', 'O1', 'Oz', 'O2']\n",
      "Rescaled signal to Volt (mean variance=3.4366697410868733e-10)\n"
     ]
    },
    {
     "name": "stderr",
     "output_type": "stream",
     "text": [
      "WARNING: failed to interpret \"auto\" as type int in parameter \"VisualizeSourceBufferSize\"\n"
     ]
    },
    {
     "name": "stdout",
     "output_type": "stream",
     "text": [
      "nb stimuli=256\n",
      "nb targets=64\n",
      "[ 1024 12800 24576 36352 48128 59904 71680 83456]\n",
      "[12799 24575 36351 48127 59903 71679 83455 95231]\n",
      "Extracted 8 trials\n"
     ]
    },
    {
     "name": "stderr",
     "output_type": "stream",
     "text": [
      "WARNING: failed to interpret \"1/2s\" as type float in parameter \"PreSequenceDuration\"\n"
     ]
    },
    {
     "name": "stdout",
     "output_type": "stream",
     "text": [
      "Reading WT-tacCalib015\\WT-tacCalibS015R01.dat\n"
     ]
    },
    {
     "name": "stderr",
     "output_type": "stream",
     "text": [
      "WARNING: failed to interpret \"auto\" as type int in parameter \"VisualizeSourceBufferSize\"\n",
      "WARNING: failed to interpret \"1/2s\" as type float in parameter \"PreSequenceDuration\"\n",
      "WARNING: failed to interpret \"auto\" as type int in parameter \"VisualizeSourceBufferSize\"\n",
      "WARNING: failed to interpret \"1/2s\" as type float in parameter \"PreSequenceDuration\"\n"
     ]
    },
    {
     "name": "stdout",
     "output_type": "stream",
     "text": [
      "Actualized channel names to ['Fz', 'Fc1', 'Fc2', 'C3', 'Cz', 'C4', 'P3', 'Pz', 'P4', 'O1', 'Oz', 'O2']\n",
      "Rescaled signal to Volt (mean variance=2.4800073180295256e-10)\n"
     ]
    },
    {
     "name": "stderr",
     "output_type": "stream",
     "text": [
      "WARNING: failed to interpret \"auto\" as type int in parameter \"VisualizeSourceBufferSize\"\n",
      "WARNING: failed to interpret \"1/2s\" as type float in parameter \"PreSequenceDuration\"\n"
     ]
    },
    {
     "name": "stdout",
     "output_type": "stream",
     "text": [
      "nb stimuli=320\n",
      "nb targets=80\n",
      "[ 1024 14784 28544 42304 56064 69824 83584 97344]\n",
      "[ 14783  28543  42303  56063  69823  83583  97343 111103]\n",
      "Extracted 8 trials\n",
      "Reading WT-tacCalib015\\WT-tacCalibS015R02.dat\n"
     ]
    },
    {
     "name": "stderr",
     "output_type": "stream",
     "text": [
      "WARNING: failed to interpret \"auto\" as type int in parameter \"VisualizeSourceBufferSize\"\n",
      "WARNING: failed to interpret \"1/2s\" as type float in parameter \"PreSequenceDuration\"\n",
      "WARNING: failed to interpret \"auto\" as type int in parameter \"VisualizeSourceBufferSize\"\n",
      "WARNING: failed to interpret \"1/2s\" as type float in parameter \"PreSequenceDuration\"\n"
     ]
    },
    {
     "name": "stdout",
     "output_type": "stream",
     "text": [
      "Actualized channel names to ['Fz', 'Fc1', 'Fc2', 'C3', 'Cz', 'C4', 'P3', 'Pz', 'P4', 'O1', 'Oz', 'O2']\n",
      "Rescaled signal to Volt (mean variance=2.3126824109810306e-10)\n"
     ]
    },
    {
     "name": "stderr",
     "output_type": "stream",
     "text": [
      "WARNING: failed to interpret \"auto\" as type int in parameter \"VisualizeSourceBufferSize\"\n",
      "WARNING: failed to interpret \"1/2s\" as type float in parameter \"PreSequenceDuration\"\n"
     ]
    },
    {
     "name": "stdout",
     "output_type": "stream",
     "text": [
      "nb stimuli=320\n",
      "nb targets=80\n",
      "[ 1024 14784 28544 42304 56064 69824 83584 97344]\n",
      "[ 14783  28543  42303  56063  69823  83583  97343 111103]\n",
      "Extracted 8 trials\n",
      "Reading WT-tacCalib015\\WT-tacCalibS015R03.dat\n"
     ]
    },
    {
     "name": "stderr",
     "output_type": "stream",
     "text": [
      "WARNING: failed to interpret \"auto\" as type int in parameter \"VisualizeSourceBufferSize\"\n",
      "WARNING: failed to interpret \"1/2s\" as type float in parameter \"PreSequenceDuration\"\n",
      "WARNING: failed to interpret \"auto\" as type int in parameter \"VisualizeSourceBufferSize\"\n",
      "WARNING: failed to interpret \"1/2s\" as type float in parameter \"PreSequenceDuration\"\n"
     ]
    },
    {
     "name": "stdout",
     "output_type": "stream",
     "text": [
      "Actualized channel names to ['Fz', 'Fc1', 'Fc2', 'C3', 'Cz', 'C4', 'P3', 'Pz', 'P4', 'O1', 'Oz', 'O2']\n",
      "Rescaled signal to Volt (mean variance=1.893976828083704e-10)\n",
      "nb stimuli=320\n",
      "nb targets=80\n",
      "[ 1024 14784 28544 42304 56064 69824 83584 97344]\n",
      "[ 14783  28543  42303  56063  69823  83583  97343 111103]\n",
      "Extracted 8 trials\n"
     ]
    },
    {
     "name": "stderr",
     "output_type": "stream",
     "text": [
      "WARNING: failed to interpret \"auto\" as type int in parameter \"VisualizeSourceBufferSize\"\n",
      "WARNING: failed to interpret \"1/2s\" as type float in parameter \"PreSequenceDuration\"\n"
     ]
    },
    {
     "name": "stdout",
     "output_type": "stream",
     "text": [
      "Reading WT-tacCopy015\\WT-tacCopyS015R01.dat\n"
     ]
    },
    {
     "name": "stderr",
     "output_type": "stream",
     "text": [
      "WARNING: failed to interpret \"auto\" as type int in parameter \"VisualizeSourceBufferSize\"\n",
      "WARNING: failed to interpret \"1/2s\" as type float in parameter \"PreSequenceDuration\"\n",
      "WARNING: failed to interpret \"auto\" as type int in parameter \"VisualizeSourceBufferSize\"\n",
      "WARNING: failed to interpret \"1/2s\" as type float in parameter \"PreSequenceDuration\"\n"
     ]
    },
    {
     "name": "stdout",
     "output_type": "stream",
     "text": [
      "Actualized channel names to ['Fz', 'Fc1', 'Fc2', 'C3', 'Cz', 'C4', 'P3', 'Pz', 'P4', 'O1', 'Oz', 'O2']\n",
      "Rescaled signal to Volt (mean variance=3.8680697276640875e-10)\n"
     ]
    },
    {
     "name": "stderr",
     "output_type": "stream",
     "text": [
      "WARNING: failed to interpret \"auto\" as type int in parameter \"VisualizeSourceBufferSize\"\n",
      "WARNING: failed to interpret \"1/2s\" as type float in parameter \"PreSequenceDuration\"\n"
     ]
    },
    {
     "name": "stdout",
     "output_type": "stream",
     "text": [
      "nb stimuli=256\n",
      "nb targets=64\n",
      "[ 1024 12800 24576 36352 48128 59904 71680 83456]\n",
      "[12799 24575 36351 48127 59903 71679 83455 95231]\n",
      "Extracted 8 trials\n",
      "Reading WT-tacCopy015\\WT-tacCopyS015R02.dat\n"
     ]
    },
    {
     "name": "stderr",
     "output_type": "stream",
     "text": [
      "WARNING: failed to interpret \"auto\" as type int in parameter \"VisualizeSourceBufferSize\"\n",
      "WARNING: failed to interpret \"1/2s\" as type float in parameter \"PreSequenceDuration\"\n",
      "WARNING: failed to interpret \"auto\" as type int in parameter \"VisualizeSourceBufferSize\"\n",
      "WARNING: failed to interpret \"1/2s\" as type float in parameter \"PreSequenceDuration\"\n"
     ]
    },
    {
     "name": "stdout",
     "output_type": "stream",
     "text": [
      "Actualized channel names to ['Fz', 'Fc1', 'Fc2', 'C3', 'Cz', 'C4', 'P3', 'Pz', 'P4', 'O1', 'Oz', 'O2']\n",
      "Rescaled signal to Volt (mean variance=3.800563755483956e-10)\n"
     ]
    },
    {
     "name": "stderr",
     "output_type": "stream",
     "text": [
      "WARNING: failed to interpret \"auto\" as type int in parameter \"VisualizeSourceBufferSize\"\n",
      "WARNING: failed to interpret \"1/2s\" as type float in parameter \"PreSequenceDuration\"\n"
     ]
    },
    {
     "name": "stdout",
     "output_type": "stream",
     "text": [
      "nb stimuli=256\n",
      "nb targets=64\n",
      "[ 1024 12800 24576 36352 48128 59904 71680 83456]\n",
      "[12799 24575 36351 48127 59903 71679 83455 95231]\n",
      "Extracted 8 trials\n",
      "Reading WT-tacCopy015\\WT-tacCopyS015R03.dat\n"
     ]
    },
    {
     "name": "stderr",
     "output_type": "stream",
     "text": [
      "WARNING: failed to interpret \"auto\" as type int in parameter \"VisualizeSourceBufferSize\"\n",
      "WARNING: failed to interpret \"1/2s\" as type float in parameter \"PreSequenceDuration\"\n",
      "WARNING: failed to interpret \"auto\" as type int in parameter \"VisualizeSourceBufferSize\"\n",
      "WARNING: failed to interpret \"1/2s\" as type float in parameter \"PreSequenceDuration\"\n"
     ]
    },
    {
     "name": "stdout",
     "output_type": "stream",
     "text": [
      "Actualized channel names to ['Fz', 'Fc1', 'Fc2', 'C3', 'Cz', 'C4', 'P3', 'Pz', 'P4', 'O1', 'Oz', 'O2']\n",
      "Rescaled signal to Volt (mean variance=4.0017781309354e-10)\n"
     ]
    },
    {
     "name": "stderr",
     "output_type": "stream",
     "text": [
      "WARNING: failed to interpret \"auto\" as type int in parameter \"VisualizeSourceBufferSize\"\n",
      "WARNING: failed to interpret \"1/2s\" as type float in parameter \"PreSequenceDuration\"\n"
     ]
    },
    {
     "name": "stdout",
     "output_type": "stream",
     "text": [
      "nb stimuli=256\n",
      "nb targets=64\n",
      "[ 1024 12800 24576 36352 48128 59904 71680 83456]\n",
      "[12799 24575 36351 48127 59903 71679 83455 95231]\n",
      "Extracted 8 trials\n",
      "Reading WT-tacCalib016\\WT-tacCalibS016R01.dat\n"
     ]
    },
    {
     "name": "stderr",
     "output_type": "stream",
     "text": [
      "WARNING: failed to interpret \"auto\" as type int in parameter \"VisualizeSourceBufferSize\"\n",
      "WARNING: failed to interpret \"1/2s\" as type float in parameter \"PreSequenceDuration\"\n",
      "WARNING: failed to interpret \"auto\" as type int in parameter \"VisualizeSourceBufferSize\"\n",
      "WARNING: failed to interpret \"1/2s\" as type float in parameter \"PreSequenceDuration\"\n"
     ]
    },
    {
     "name": "stdout",
     "output_type": "stream",
     "text": [
      "Actualized channel names to ['Fz', 'Fc1', 'Fc2', 'C3', 'Cz', 'C4', 'P3', 'Pz', 'P4', 'O1', 'Oz', 'O2']\n",
      "Rescaled signal to Volt (mean variance=2.695392161315084e-10)\n"
     ]
    },
    {
     "name": "stderr",
     "output_type": "stream",
     "text": [
      "WARNING: failed to interpret \"auto\" as type int in parameter \"VisualizeSourceBufferSize\"\n",
      "WARNING: failed to interpret \"1/2s\" as type float in parameter \"PreSequenceDuration\"\n"
     ]
    },
    {
     "name": "stdout",
     "output_type": "stream",
     "text": [
      "nb stimuli=320\n",
      "nb targets=80\n",
      "[ 1024 14784 28544 42304 56064 69824 83584 97344]\n",
      "[ 14783  28543  42303  56063  69823  83583  97343 111103]\n",
      "Extracted 8 trials\n",
      "Reading WT-tacCalib016\\WT-tacCalibS016R02.dat\n"
     ]
    },
    {
     "name": "stderr",
     "output_type": "stream",
     "text": [
      "WARNING: failed to interpret \"auto\" as type int in parameter \"VisualizeSourceBufferSize\"\n",
      "WARNING: failed to interpret \"1/2s\" as type float in parameter \"PreSequenceDuration\"\n",
      "WARNING: failed to interpret \"auto\" as type int in parameter \"VisualizeSourceBufferSize\"\n",
      "WARNING: failed to interpret \"1/2s\" as type float in parameter \"PreSequenceDuration\"\n"
     ]
    },
    {
     "name": "stdout",
     "output_type": "stream",
     "text": [
      "Actualized channel names to ['Fz', 'Fc1', 'Fc2', 'C3', 'Cz', 'C4', 'P3', 'Pz', 'P4', 'O1', 'Oz', 'O2']\n",
      "Rescaled signal to Volt (mean variance=1.9850597608216204e-10)\n"
     ]
    },
    {
     "name": "stderr",
     "output_type": "stream",
     "text": [
      "WARNING: failed to interpret \"auto\" as type int in parameter \"VisualizeSourceBufferSize\"\n",
      "WARNING: failed to interpret \"1/2s\" as type float in parameter \"PreSequenceDuration\"\n"
     ]
    },
    {
     "name": "stdout",
     "output_type": "stream",
     "text": [
      "nb stimuli=320\n",
      "nb targets=80\n",
      "[ 1024 14784 28544 42304 56064 69824 83584 97344]\n",
      "[ 14783  28543  42303  56063  69823  83583  97343 111103]\n",
      "Extracted 8 trials\n",
      "Reading WT-tacCalib016\\WT-tacCalibS016R03.dat\n"
     ]
    },
    {
     "name": "stderr",
     "output_type": "stream",
     "text": [
      "WARNING: failed to interpret \"auto\" as type int in parameter \"VisualizeSourceBufferSize\"\n",
      "WARNING: failed to interpret \"1/2s\" as type float in parameter \"PreSequenceDuration\"\n",
      "WARNING: failed to interpret \"auto\" as type int in parameter \"VisualizeSourceBufferSize\"\n",
      "WARNING: failed to interpret \"1/2s\" as type float in parameter \"PreSequenceDuration\"\n"
     ]
    },
    {
     "name": "stdout",
     "output_type": "stream",
     "text": [
      "Actualized channel names to ['Fz', 'Fc1', 'Fc2', 'C3', 'Cz', 'C4', 'P3', 'Pz', 'P4', 'O1', 'Oz', 'O2']\n",
      "Rescaled signal to Volt (mean variance=5.442505616453754e-10)\n"
     ]
    },
    {
     "name": "stderr",
     "output_type": "stream",
     "text": [
      "WARNING: failed to interpret \"auto\" as type int in parameter \"VisualizeSourceBufferSize\"\n"
     ]
    },
    {
     "name": "stdout",
     "output_type": "stream",
     "text": [
      "nb stimuli=320\n",
      "nb targets=80\n",
      "[ 1024 14784 28544 42304 56064 69824 83584 97344]\n",
      "[ 14783  28543  42303  56063  69823  83583  97343 111103]\n",
      "Extracted 8 trials\n"
     ]
    },
    {
     "name": "stderr",
     "output_type": "stream",
     "text": [
      "WARNING: failed to interpret \"1/2s\" as type float in parameter \"PreSequenceDuration\"\n"
     ]
    },
    {
     "name": "stdout",
     "output_type": "stream",
     "text": [
      "Reading WT-tacCopy016\\WT-tacCopyS016R01.dat\n"
     ]
    },
    {
     "name": "stderr",
     "output_type": "stream",
     "text": [
      "WARNING: failed to interpret \"auto\" as type int in parameter \"VisualizeSourceBufferSize\"\n",
      "WARNING: failed to interpret \"1/2s\" as type float in parameter \"PreSequenceDuration\"\n",
      "WARNING: failed to interpret \"auto\" as type int in parameter \"VisualizeSourceBufferSize\"\n",
      "WARNING: failed to interpret \"1/2s\" as type float in parameter \"PreSequenceDuration\"\n"
     ]
    },
    {
     "name": "stdout",
     "output_type": "stream",
     "text": [
      "Actualized channel names to ['Fz', 'Fc1', 'Fc2', 'C3', 'Cz', 'C4', 'P3', 'Pz', 'P4', 'O1', 'Oz', 'O2']\n",
      "Rescaled signal to Volt (mean variance=4.3071566173319153e-10)\n"
     ]
    },
    {
     "name": "stderr",
     "output_type": "stream",
     "text": [
      "WARNING: failed to interpret \"auto\" as type int in parameter \"VisualizeSourceBufferSize\"\n",
      "WARNING: failed to interpret \"1/2s\" as type float in parameter \"PreSequenceDuration\"\n"
     ]
    },
    {
     "name": "stdout",
     "output_type": "stream",
     "text": [
      "nb stimuli=256\n",
      "nb targets=64\n",
      "[ 1024 12800 24576 36352 48128 59904 71680 83456]\n",
      "[12799 24575 36351 48127 59903 71679 83455 95231]\n",
      "Extracted 8 trials\n",
      "Reading WT-tacCopy016\\WT-tacCopyS016R02.dat\n"
     ]
    },
    {
     "name": "stderr",
     "output_type": "stream",
     "text": [
      "WARNING: failed to interpret \"auto\" as type int in parameter \"VisualizeSourceBufferSize\"\n",
      "WARNING: failed to interpret \"1/2s\" as type float in parameter \"PreSequenceDuration\"\n",
      "WARNING: failed to interpret \"auto\" as type int in parameter \"VisualizeSourceBufferSize\"\n",
      "WARNING: failed to interpret \"1/2s\" as type float in parameter \"PreSequenceDuration\"\n"
     ]
    },
    {
     "name": "stdout",
     "output_type": "stream",
     "text": [
      "Actualized channel names to ['Fz', 'Fc1', 'Fc2', 'C3', 'Cz', 'C4', 'P3', 'Pz', 'P4', 'O1', 'Oz', 'O2']\n",
      "Rescaled signal to Volt (mean variance=4.4259305335108455e-10)\n"
     ]
    },
    {
     "name": "stderr",
     "output_type": "stream",
     "text": [
      "WARNING: failed to interpret \"auto\" as type int in parameter \"VisualizeSourceBufferSize\"\n",
      "WARNING: failed to interpret \"1/2s\" as type float in parameter \"PreSequenceDuration\"\n"
     ]
    },
    {
     "name": "stdout",
     "output_type": "stream",
     "text": [
      "nb stimuli=256\n",
      "nb targets=64\n",
      "[ 1024 12800 24576 36352 48128 59904 71680 83456]\n",
      "[12799 24575 36351 48127 59903 71679 83455 95231]\n",
      "Extracted 8 trials\n",
      "Reading WT-tacCopy016\\WT-tacCopyS016R03.dat\n"
     ]
    },
    {
     "name": "stderr",
     "output_type": "stream",
     "text": [
      "WARNING: failed to interpret \"auto\" as type int in parameter \"VisualizeSourceBufferSize\"\n",
      "WARNING: failed to interpret \"1/2s\" as type float in parameter \"PreSequenceDuration\"\n",
      "WARNING: failed to interpret \"auto\" as type int in parameter \"VisualizeSourceBufferSize\"\n",
      "WARNING: failed to interpret \"1/2s\" as type float in parameter \"PreSequenceDuration\"\n"
     ]
    },
    {
     "name": "stdout",
     "output_type": "stream",
     "text": [
      "Actualized channel names to ['Fz', 'Fc1', 'Fc2', 'C3', 'Cz', 'C4', 'P3', 'Pz', 'P4', 'O1', 'Oz', 'O2']\n",
      "Rescaled signal to Volt (mean variance=3.9603935073557647e-10)\n"
     ]
    },
    {
     "name": "stderr",
     "output_type": "stream",
     "text": [
      "WARNING: failed to interpret \"auto\" as type int in parameter \"VisualizeSourceBufferSize\"\n",
      "WARNING: failed to interpret \"1/2s\" as type float in parameter \"PreSequenceDuration\"\n"
     ]
    },
    {
     "name": "stdout",
     "output_type": "stream",
     "text": [
      "nb stimuli=256\n",
      "nb targets=64\n",
      "[ 1024 12800 24576 36352 48128 59904 71680 83456]\n",
      "[12799 24575 36351 48127 59903 71679 83455 95231]\n",
      "Extracted 8 trials\n",
      "Reading WT-tacCalib017\\WT-tacCalibS017R01.dat\n"
     ]
    },
    {
     "name": "stderr",
     "output_type": "stream",
     "text": [
      "WARNING: failed to interpret \"auto\" as type int in parameter \"VisualizeSourceBufferSize\"\n",
      "WARNING: failed to interpret \"1/2s\" as type float in parameter \"PreSequenceDuration\"\n",
      "WARNING: failed to interpret \"auto\" as type int in parameter \"VisualizeSourceBufferSize\"\n",
      "WARNING: failed to interpret \"1/2s\" as type float in parameter \"PreSequenceDuration\"\n"
     ]
    },
    {
     "name": "stdout",
     "output_type": "stream",
     "text": [
      "Actualized channel names to ['Fz', 'Fc1', 'Fc2', 'C3', 'Cz', 'C4', 'P3', 'Pz', 'P4', 'O1', 'Oz', 'O2']\n",
      "Rescaled signal to Volt (mean variance=5.866972908905654e-10)\n"
     ]
    },
    {
     "name": "stderr",
     "output_type": "stream",
     "text": [
      "WARNING: failed to interpret \"auto\" as type int in parameter \"VisualizeSourceBufferSize\"\n",
      "WARNING: failed to interpret \"1/2s\" as type float in parameter \"PreSequenceDuration\"\n"
     ]
    },
    {
     "name": "stdout",
     "output_type": "stream",
     "text": [
      "nb stimuli=320\n",
      "nb targets=80\n",
      "[ 1024 14784 28544 42304 56064 69824 83584 97344]\n",
      "[ 14783  28543  42303  56063  69823  83583  97343 111103]\n",
      "Extracted 8 trials\n",
      "Reading WT-tacCalib017\\WT-tacCalibS017R02.dat\n"
     ]
    },
    {
     "name": "stderr",
     "output_type": "stream",
     "text": [
      "WARNING: failed to interpret \"auto\" as type int in parameter \"VisualizeSourceBufferSize\"\n",
      "WARNING: failed to interpret \"1/2s\" as type float in parameter \"PreSequenceDuration\"\n",
      "WARNING: failed to interpret \"auto\" as type int in parameter \"VisualizeSourceBufferSize\"\n",
      "WARNING: failed to interpret \"1/2s\" as type float in parameter \"PreSequenceDuration\"\n"
     ]
    },
    {
     "name": "stdout",
     "output_type": "stream",
     "text": [
      "Actualized channel names to ['Fz', 'Fc1', 'Fc2', 'C3', 'Cz', 'C4', 'P3', 'Pz', 'P4', 'O1', 'Oz', 'O2']\n",
      "Rescaled signal to Volt (mean variance=5.474655454569504e-10)\n"
     ]
    },
    {
     "name": "stderr",
     "output_type": "stream",
     "text": [
      "WARNING: failed to interpret \"auto\" as type int in parameter \"VisualizeSourceBufferSize\"\n",
      "WARNING: failed to interpret \"1/2s\" as type float in parameter \"PreSequenceDuration\"\n"
     ]
    },
    {
     "name": "stdout",
     "output_type": "stream",
     "text": [
      "nb stimuli=320\n",
      "nb targets=80\n",
      "[ 1024 14784 28544 42304 56064 69824 83584 97344]\n",
      "[ 14783  28543  42303  56063  69823  83583  97343 111103]\n",
      "Extracted 8 trials\n",
      "Reading WT-tacCalib017\\WT-tacCalibS017R03.dat\n"
     ]
    },
    {
     "name": "stderr",
     "output_type": "stream",
     "text": [
      "WARNING: failed to interpret \"auto\" as type int in parameter \"VisualizeSourceBufferSize\"\n",
      "WARNING: failed to interpret \"1/2s\" as type float in parameter \"PreSequenceDuration\"\n",
      "WARNING: failed to interpret \"auto\" as type int in parameter \"VisualizeSourceBufferSize\"\n",
      "WARNING: failed to interpret \"1/2s\" as type float in parameter \"PreSequenceDuration\"\n"
     ]
    },
    {
     "name": "stdout",
     "output_type": "stream",
     "text": [
      "Actualized channel names to ['Fz', 'Fc1', 'Fc2', 'C3', 'Cz', 'C4', 'P3', 'Pz', 'P4', 'O1', 'Oz', 'O2']\n",
      "Rescaled signal to Volt (mean variance=5.220384228639755e-10)\n"
     ]
    },
    {
     "name": "stderr",
     "output_type": "stream",
     "text": [
      "WARNING: failed to interpret \"auto\" as type int in parameter \"VisualizeSourceBufferSize\"\n"
     ]
    },
    {
     "name": "stdout",
     "output_type": "stream",
     "text": [
      "nb stimuli=320\n",
      "nb targets=80\n",
      "[ 1024 14784 28544 42304 56064 69824 83584 97344]\n",
      "[ 14783  28543  42303  56063  69823  83583  97343 111103]\n",
      "Extracted 8 trials\n"
     ]
    },
    {
     "name": "stderr",
     "output_type": "stream",
     "text": [
      "WARNING: failed to interpret \"1/2s\" as type float in parameter \"PreSequenceDuration\"\n"
     ]
    },
    {
     "name": "stdout",
     "output_type": "stream",
     "text": [
      "Reading WT-tacCopy017\\WT-tacCopyS017R01.dat\n"
     ]
    },
    {
     "name": "stderr",
     "output_type": "stream",
     "text": [
      "WARNING: failed to interpret \"auto\" as type int in parameter \"VisualizeSourceBufferSize\"\n",
      "WARNING: failed to interpret \"1/2s\" as type float in parameter \"PreSequenceDuration\"\n",
      "WARNING: failed to interpret \"auto\" as type int in parameter \"VisualizeSourceBufferSize\"\n",
      "WARNING: failed to interpret \"1/2s\" as type float in parameter \"PreSequenceDuration\"\n"
     ]
    },
    {
     "name": "stdout",
     "output_type": "stream",
     "text": [
      "Actualized channel names to ['Fz', 'Fc1', 'Fc2', 'C3', 'Cz', 'C4', 'P3', 'Pz', 'P4', 'O1', 'Oz', 'O2']\n",
      "Rescaled signal to Volt (mean variance=7.5589349524878e-10)\n"
     ]
    },
    {
     "name": "stderr",
     "output_type": "stream",
     "text": [
      "WARNING: failed to interpret \"auto\" as type int in parameter \"VisualizeSourceBufferSize\"\n",
      "WARNING: failed to interpret \"1/2s\" as type float in parameter \"PreSequenceDuration\"\n"
     ]
    },
    {
     "name": "stdout",
     "output_type": "stream",
     "text": [
      "nb stimuli=256\n",
      "nb targets=64\n",
      "[ 1024 12800 24576 36352 48128 59904 71680 83456]\n",
      "[12799 24575 36351 48127 59903 71679 83455 95231]\n",
      "Extracted 8 trials\n",
      "Reading WT-tacCopy017\\WT-tacCopyS017R02.dat\n"
     ]
    },
    {
     "name": "stderr",
     "output_type": "stream",
     "text": [
      "WARNING: failed to interpret \"auto\" as type int in parameter \"VisualizeSourceBufferSize\"\n",
      "WARNING: failed to interpret \"1/2s\" as type float in parameter \"PreSequenceDuration\"\n",
      "WARNING: failed to interpret \"auto\" as type int in parameter \"VisualizeSourceBufferSize\"\n",
      "WARNING: failed to interpret \"1/2s\" as type float in parameter \"PreSequenceDuration\"\n"
     ]
    },
    {
     "name": "stdout",
     "output_type": "stream",
     "text": [
      "Actualized channel names to ['Fz', 'Fc1', 'Fc2', 'C3', 'Cz', 'C4', 'P3', 'Pz', 'P4', 'O1', 'Oz', 'O2']\n",
      "Rescaled signal to Volt (mean variance=6.419911976217835e-10)\n"
     ]
    },
    {
     "name": "stderr",
     "output_type": "stream",
     "text": [
      "WARNING: failed to interpret \"auto\" as type int in parameter \"VisualizeSourceBufferSize\"\n",
      "WARNING: failed to interpret \"1/2s\" as type float in parameter \"PreSequenceDuration\"\n"
     ]
    },
    {
     "name": "stdout",
     "output_type": "stream",
     "text": [
      "nb stimuli=256\n",
      "nb targets=64\n",
      "[ 1024 12800 24576 36352 48128 59904 71680 83456]\n",
      "[12799 24575 36351 48127 59903 71679 83455 95231]\n",
      "Extracted 8 trials\n",
      "Reading WT-tacCopy017\\WT-tacCopyS017R03.dat\n"
     ]
    },
    {
     "name": "stderr",
     "output_type": "stream",
     "text": [
      "WARNING: failed to interpret \"auto\" as type int in parameter \"VisualizeSourceBufferSize\"\n",
      "WARNING: failed to interpret \"1/2s\" as type float in parameter \"PreSequenceDuration\"\n",
      "WARNING: failed to interpret \"auto\" as type int in parameter \"VisualizeSourceBufferSize\"\n",
      "WARNING: failed to interpret \"1/2s\" as type float in parameter \"PreSequenceDuration\"\n"
     ]
    },
    {
     "name": "stdout",
     "output_type": "stream",
     "text": [
      "Actualized channel names to ['Fz', 'Fc1', 'Fc2', 'C3', 'Cz', 'C4', 'P3', 'Pz', 'P4', 'O1', 'Oz', 'O2']\n",
      "Rescaled signal to Volt (mean variance=5.65094878206211e-10)\n"
     ]
    },
    {
     "name": "stderr",
     "output_type": "stream",
     "text": [
      "WARNING: failed to interpret \"auto\" as type int in parameter \"VisualizeSourceBufferSize\"\n"
     ]
    },
    {
     "name": "stdout",
     "output_type": "stream",
     "text": [
      "nb stimuli=256\n",
      "nb targets=64\n",
      "[ 1024 12800 24576 36352 48128 59904 71680 83456]\n",
      "[12799 24575 36351 48127 59903 71679 83455 95231]\n",
      "Extracted 8 trials\n"
     ]
    },
    {
     "name": "stderr",
     "output_type": "stream",
     "text": [
      "WARNING: failed to interpret \"1/2s\" as type float in parameter \"PreSequenceDuration\"\n"
     ]
    },
    {
     "name": "stdout",
     "output_type": "stream",
     "text": [
      "Reading WT-tacCalib018\\WT-tacCalibS018R01.dat\n"
     ]
    },
    {
     "name": "stderr",
     "output_type": "stream",
     "text": [
      "WARNING: failed to interpret \"auto\" as type int in parameter \"VisualizeSourceBufferSize\"\n",
      "WARNING: failed to interpret \"1/2s\" as type float in parameter \"PreSequenceDuration\"\n",
      "WARNING: failed to interpret \"auto\" as type int in parameter \"VisualizeSourceBufferSize\"\n",
      "WARNING: failed to interpret \"1/2s\" as type float in parameter \"PreSequenceDuration\"\n"
     ]
    },
    {
     "name": "stdout",
     "output_type": "stream",
     "text": [
      "Actualized channel names to ['Fz', 'Fc1', 'Fc2', 'C3', 'Cz', 'C4', 'P3', 'Pz', 'P4', 'O1', 'Oz', 'O2']\n",
      "Rescaled signal to Volt (mean variance=1.9001692725820468e-10)\n"
     ]
    },
    {
     "name": "stderr",
     "output_type": "stream",
     "text": [
      "WARNING: failed to interpret \"auto\" as type int in parameter \"VisualizeSourceBufferSize\"\n",
      "WARNING: failed to interpret \"1/2s\" as type float in parameter \"PreSequenceDuration\"\n"
     ]
    },
    {
     "name": "stdout",
     "output_type": "stream",
     "text": [
      "nb stimuli=320\n",
      "nb targets=80\n",
      "[ 1024 14784 28544 42304 56064 69824 83584 97344]\n",
      "[ 14783  28543  42303  56063  69823  83583  97343 111103]\n",
      "Extracted 8 trials\n",
      "Reading WT-tacCalib018\\WT-tacCalibS018R02.dat\n"
     ]
    },
    {
     "name": "stderr",
     "output_type": "stream",
     "text": [
      "WARNING: failed to interpret \"auto\" as type int in parameter \"VisualizeSourceBufferSize\"\n",
      "WARNING: failed to interpret \"1/2s\" as type float in parameter \"PreSequenceDuration\"\n",
      "WARNING: failed to interpret \"auto\" as type int in parameter \"VisualizeSourceBufferSize\"\n",
      "WARNING: failed to interpret \"1/2s\" as type float in parameter \"PreSequenceDuration\"\n"
     ]
    },
    {
     "name": "stdout",
     "output_type": "stream",
     "text": [
      "Actualized channel names to ['Fz', 'Fc1', 'Fc2', 'C3', 'Cz', 'C4', 'P3', 'Pz', 'P4', 'O1', 'Oz', 'O2']\n",
      "Rescaled signal to Volt (mean variance=3.078595777483017e-10)\n"
     ]
    },
    {
     "name": "stderr",
     "output_type": "stream",
     "text": [
      "WARNING: failed to interpret \"auto\" as type int in parameter \"VisualizeSourceBufferSize\"\n",
      "WARNING: failed to interpret \"1/2s\" as type float in parameter \"PreSequenceDuration\"\n"
     ]
    },
    {
     "name": "stdout",
     "output_type": "stream",
     "text": [
      "nb stimuli=320\n",
      "nb targets=80\n",
      "[ 1024 14784 28544 42304 56064 69824 83584 97344]\n",
      "[ 14783  28543  42303  56063  69823  83583  97343 111103]\n",
      "Extracted 8 trials\n",
      "Reading WT-tacCalib018\\WT-tacCalibS018R03.dat\n"
     ]
    },
    {
     "name": "stderr",
     "output_type": "stream",
     "text": [
      "WARNING: failed to interpret \"auto\" as type int in parameter \"VisualizeSourceBufferSize\"\n",
      "WARNING: failed to interpret \"1/2s\" as type float in parameter \"PreSequenceDuration\"\n",
      "WARNING: failed to interpret \"auto\" as type int in parameter \"VisualizeSourceBufferSize\"\n",
      "WARNING: failed to interpret \"1/2s\" as type float in parameter \"PreSequenceDuration\"\n"
     ]
    },
    {
     "name": "stdout",
     "output_type": "stream",
     "text": [
      "Actualized channel names to ['Fz', 'Fc1', 'Fc2', 'C3', 'Cz', 'C4', 'P3', 'Pz', 'P4', 'O1', 'Oz', 'O2']\n",
      "Rescaled signal to Volt (mean variance=1.8129301154535797e-10)\n",
      "nb stimuli=320\n",
      "nb targets=80\n",
      "[ 1024 14784 28544 42304 56064 69824 83584 97344]\n",
      "[ 14783  28543  42303  56063  69823  83583  97343 111103]\n",
      "Extracted 8 trials\n"
     ]
    },
    {
     "name": "stderr",
     "output_type": "stream",
     "text": [
      "WARNING: failed to interpret \"auto\" as type int in parameter \"VisualizeSourceBufferSize\"\n",
      "WARNING: failed to interpret \"1/2s\" as type float in parameter \"PreSequenceDuration\"\n"
     ]
    },
    {
     "name": "stdout",
     "output_type": "stream",
     "text": [
      "Reading WT-tacCopy018\\WT-tacCopyS018R01.dat\n"
     ]
    },
    {
     "name": "stderr",
     "output_type": "stream",
     "text": [
      "WARNING: failed to interpret \"auto\" as type int in parameter \"VisualizeSourceBufferSize\"\n",
      "WARNING: failed to interpret \"1/2s\" as type float in parameter \"PreSequenceDuration\"\n",
      "WARNING: failed to interpret \"auto\" as type int in parameter \"VisualizeSourceBufferSize\"\n",
      "WARNING: failed to interpret \"1/2s\" as type float in parameter \"PreSequenceDuration\"\n"
     ]
    },
    {
     "name": "stdout",
     "output_type": "stream",
     "text": [
      "Actualized channel names to ['Fz', 'Fc1', 'Fc2', 'C3', 'Cz', 'C4', 'P3', 'Pz', 'P4', 'O1', 'Oz', 'O2']\n",
      "Rescaled signal to Volt (mean variance=4.3610571444639784e-10)\n"
     ]
    },
    {
     "name": "stderr",
     "output_type": "stream",
     "text": [
      "WARNING: failed to interpret \"auto\" as type int in parameter \"VisualizeSourceBufferSize\"\n",
      "WARNING: failed to interpret \"1/2s\" as type float in parameter \"PreSequenceDuration\"\n"
     ]
    },
    {
     "name": "stdout",
     "output_type": "stream",
     "text": [
      "nb stimuli=256\n",
      "nb targets=64\n",
      "[ 1024 12800 24576 36352 48128 59904 71680 83456]\n",
      "[12799 24575 36351 48127 59903 71679 83455 95231]\n",
      "Extracted 8 trials\n",
      "Reading WT-tacCopy018\\WT-tacCopyS018R02.dat\n"
     ]
    },
    {
     "name": "stderr",
     "output_type": "stream",
     "text": [
      "WARNING: failed to interpret \"auto\" as type int in parameter \"VisualizeSourceBufferSize\"\n",
      "WARNING: failed to interpret \"1/2s\" as type float in parameter \"PreSequenceDuration\"\n",
      "WARNING: failed to interpret \"auto\" as type int in parameter \"VisualizeSourceBufferSize\"\n",
      "WARNING: failed to interpret \"1/2s\" as type float in parameter \"PreSequenceDuration\"\n"
     ]
    },
    {
     "name": "stdout",
     "output_type": "stream",
     "text": [
      "Actualized channel names to ['Fz', 'Fc1', 'Fc2', 'C3', 'Cz', 'C4', 'P3', 'Pz', 'P4', 'O1', 'Oz', 'O2']\n",
      "Rescaled signal to Volt (mean variance=4.2296947851278887e-10)\n"
     ]
    },
    {
     "name": "stderr",
     "output_type": "stream",
     "text": [
      "WARNING: failed to interpret \"auto\" as type int in parameter \"VisualizeSourceBufferSize\"\n",
      "WARNING: failed to interpret \"1/2s\" as type float in parameter \"PreSequenceDuration\"\n"
     ]
    },
    {
     "name": "stdout",
     "output_type": "stream",
     "text": [
      "nb stimuli=256\n",
      "nb targets=64\n",
      "[ 1024 12800 24576 36352 48128 59904 71680 83456]\n",
      "[12799 24575 36351 48127 59903 71679 83455 95231]\n",
      "Extracted 8 trials\n",
      "Reading WT-tacCopy018\\WT-tacCopyS018R03.dat\n"
     ]
    },
    {
     "name": "stderr",
     "output_type": "stream",
     "text": [
      "WARNING: failed to interpret \"auto\" as type int in parameter \"VisualizeSourceBufferSize\"\n",
      "WARNING: failed to interpret \"1/2s\" as type float in parameter \"PreSequenceDuration\"\n",
      "WARNING: failed to interpret \"auto\" as type int in parameter \"VisualizeSourceBufferSize\"\n",
      "WARNING: failed to interpret \"1/2s\" as type float in parameter \"PreSequenceDuration\"\n"
     ]
    },
    {
     "name": "stdout",
     "output_type": "stream",
     "text": [
      "Actualized channel names to ['Fz', 'Fc1', 'Fc2', 'C3', 'Cz', 'C4', 'P3', 'Pz', 'P4', 'O1', 'Oz', 'O2']\n",
      "Rescaled signal to Volt (mean variance=4.1662164575924137e-10)\n"
     ]
    },
    {
     "name": "stderr",
     "output_type": "stream",
     "text": [
      "WARNING: failed to interpret \"auto\" as type int in parameter \"VisualizeSourceBufferSize\"\n"
     ]
    },
    {
     "name": "stdout",
     "output_type": "stream",
     "text": [
      "nb stimuli=256\n",
      "nb targets=64\n",
      "[ 1024 12800 24576 36352 48128 59904 71680 83456]\n",
      "[12799 24575 36351 48127 59903 71679 83455 95231]\n",
      "Extracted 8 trials\n"
     ]
    },
    {
     "name": "stderr",
     "output_type": "stream",
     "text": [
      "WARNING: failed to interpret \"1/2s\" as type float in parameter \"PreSequenceDuration\"\n"
     ]
    },
    {
     "name": "stdout",
     "output_type": "stream",
     "text": [
      "Reading WT-tacCalib019\\WT-tacCalibS019R01.dat\n"
     ]
    },
    {
     "name": "stderr",
     "output_type": "stream",
     "text": [
      "WARNING: failed to interpret \"auto\" as type int in parameter \"VisualizeSourceBufferSize\"\n",
      "WARNING: failed to interpret \"1/2s\" as type float in parameter \"PreSequenceDuration\"\n",
      "WARNING: failed to interpret \"auto\" as type int in parameter \"VisualizeSourceBufferSize\"\n",
      "WARNING: failed to interpret \"1/2s\" as type float in parameter \"PreSequenceDuration\"\n"
     ]
    },
    {
     "name": "stdout",
     "output_type": "stream",
     "text": [
      "Actualized channel names to ['Fz', 'Fc1', 'Fc2', 'C3', 'Cz', 'C4', 'P3', 'Pz', 'P4', 'O1', 'Oz', 'O2']\n",
      "Rescaled signal to Volt (mean variance=1.7597230502789718e-10)\n"
     ]
    },
    {
     "name": "stderr",
     "output_type": "stream",
     "text": [
      "WARNING: failed to interpret \"auto\" as type int in parameter \"VisualizeSourceBufferSize\"\n",
      "WARNING: failed to interpret \"1/2s\" as type float in parameter \"PreSequenceDuration\"\n"
     ]
    },
    {
     "name": "stdout",
     "output_type": "stream",
     "text": [
      "nb stimuli=320\n",
      "nb targets=80\n",
      "[ 1024 14784 28544 42304 56064 69824 83584 97344]\n",
      "[ 14783  28543  42303  56063  69823  83583  97343 111103]\n",
      "Extracted 8 trials\n",
      "Reading WT-tacCalib019\\WT-tacCalibS019R02.dat\n"
     ]
    },
    {
     "name": "stderr",
     "output_type": "stream",
     "text": [
      "WARNING: failed to interpret \"auto\" as type int in parameter \"VisualizeSourceBufferSize\"\n",
      "WARNING: failed to interpret \"1/2s\" as type float in parameter \"PreSequenceDuration\"\n",
      "WARNING: failed to interpret \"auto\" as type int in parameter \"VisualizeSourceBufferSize\"\n",
      "WARNING: failed to interpret \"1/2s\" as type float in parameter \"PreSequenceDuration\"\n"
     ]
    },
    {
     "name": "stdout",
     "output_type": "stream",
     "text": [
      "Actualized channel names to ['Fz', 'Fc1', 'Fc2', 'C3', 'Cz', 'C4', 'P3', 'Pz', 'P4', 'O1', 'Oz', 'O2']\n",
      "Rescaled signal to Volt (mean variance=2.016346359626499e-10)\n"
     ]
    },
    {
     "name": "stderr",
     "output_type": "stream",
     "text": [
      "WARNING: failed to interpret \"auto\" as type int in parameter \"VisualizeSourceBufferSize\"\n",
      "WARNING: failed to interpret \"1/2s\" as type float in parameter \"PreSequenceDuration\"\n"
     ]
    },
    {
     "name": "stdout",
     "output_type": "stream",
     "text": [
      "nb stimuli=320\n",
      "nb targets=80\n",
      "[ 1024 14784 28544 42304 56064 69824 83584 97344]\n",
      "[ 14783  28543  42303  56063  69823  83583  97343 111103]\n",
      "Extracted 8 trials\n",
      "Reading WT-tacCalib019\\WT-tacCalibS019R03.dat\n"
     ]
    },
    {
     "name": "stderr",
     "output_type": "stream",
     "text": [
      "WARNING: failed to interpret \"auto\" as type int in parameter \"VisualizeSourceBufferSize\"\n",
      "WARNING: failed to interpret \"1/2s\" as type float in parameter \"PreSequenceDuration\"\n",
      "WARNING: failed to interpret \"auto\" as type int in parameter \"VisualizeSourceBufferSize\"\n",
      "WARNING: failed to interpret \"1/2s\" as type float in parameter \"PreSequenceDuration\"\n"
     ]
    },
    {
     "name": "stdout",
     "output_type": "stream",
     "text": [
      "Actualized channel names to ['Fz', 'Fc1', 'Fc2', 'C3', 'Cz', 'C4', 'P3', 'Pz', 'P4', 'O1', 'Oz', 'O2']\n",
      "Rescaled signal to Volt (mean variance=1.6096429887588893e-10)\n"
     ]
    },
    {
     "name": "stderr",
     "output_type": "stream",
     "text": [
      "WARNING: failed to interpret \"auto\" as type int in parameter \"VisualizeSourceBufferSize\"\n"
     ]
    },
    {
     "name": "stdout",
     "output_type": "stream",
     "text": [
      "nb stimuli=320\n",
      "nb targets=80\n",
      "[ 1024 14784 28544 42304 56064 69824 83584 97344]\n",
      "[ 14783  28543  42303  56063  69823  83583  97343 111103]\n",
      "Extracted 8 trials\n"
     ]
    },
    {
     "name": "stderr",
     "output_type": "stream",
     "text": [
      "WARNING: failed to interpret \"1/2s\" as type float in parameter \"PreSequenceDuration\"\n"
     ]
    },
    {
     "name": "stdout",
     "output_type": "stream",
     "text": [
      "Reading WT-tacCopy019\\WT-tacCopyS019R02.dat\n"
     ]
    },
    {
     "name": "stderr",
     "output_type": "stream",
     "text": [
      "WARNING: failed to interpret \"auto\" as type int in parameter \"VisualizeSourceBufferSize\"\n",
      "WARNING: failed to interpret \"1/2s\" as type float in parameter \"PreSequenceDuration\"\n",
      "WARNING: failed to interpret \"auto\" as type int in parameter \"VisualizeSourceBufferSize\"\n",
      "WARNING: failed to interpret \"1/2s\" as type float in parameter \"PreSequenceDuration\"\n"
     ]
    },
    {
     "name": "stdout",
     "output_type": "stream",
     "text": [
      "Actualized channel names to ['Fz', 'Fc1', 'Fc2', 'C3', 'Cz', 'C4', 'P3', 'Pz', 'P4', 'O1', 'Oz', 'O2']\n",
      "Rescaled signal to Volt (mean variance=4.4916220513623833e-10)\n"
     ]
    },
    {
     "name": "stderr",
     "output_type": "stream",
     "text": [
      "WARNING: failed to interpret \"auto\" as type int in parameter \"VisualizeSourceBufferSize\"\n",
      "WARNING: failed to interpret \"1/2s\" as type float in parameter \"PreSequenceDuration\"\n"
     ]
    },
    {
     "name": "stdout",
     "output_type": "stream",
     "text": [
      "nb stimuli=257\n",
      "nb targets=65\n",
      "[ 1024 12800 24576 36352 48128 59904 71680 83456]\n",
      "[12799 24575 36351 48127 59903 71679 83455 95231]\n",
      "Extracted 8 trials\n",
      "Reading WT-tacCopy019\\WT-tacCopyS019R03.dat\n"
     ]
    },
    {
     "name": "stderr",
     "output_type": "stream",
     "text": [
      "WARNING: failed to interpret \"auto\" as type int in parameter \"VisualizeSourceBufferSize\"\n",
      "WARNING: failed to interpret \"1/2s\" as type float in parameter \"PreSequenceDuration\"\n",
      "WARNING: failed to interpret \"auto\" as type int in parameter \"VisualizeSourceBufferSize\"\n",
      "WARNING: failed to interpret \"1/2s\" as type float in parameter \"PreSequenceDuration\"\n"
     ]
    },
    {
     "name": "stdout",
     "output_type": "stream",
     "text": [
      "Actualized channel names to ['Fz', 'Fc1', 'Fc2', 'C3', 'Cz', 'C4', 'P3', 'Pz', 'P4', 'O1', 'Oz', 'O2']\n",
      "Rescaled signal to Volt (mean variance=3.7492534644583986e-10)\n"
     ]
    },
    {
     "name": "stderr",
     "output_type": "stream",
     "text": [
      "WARNING: failed to interpret \"auto\" as type int in parameter \"VisualizeSourceBufferSize\"\n",
      "WARNING: failed to interpret \"1/2s\" as type float in parameter \"PreSequenceDuration\"\n"
     ]
    },
    {
     "name": "stdout",
     "output_type": "stream",
     "text": [
      "nb stimuli=256\n",
      "nb targets=64\n",
      "[ 1024 12800 24576 36352 48128 59904 71680 83456]\n",
      "[12799 24575 36351 48127 59903 71679 83455 95231]\n",
      "Extracted 8 trials\n",
      "Reading WT-tacCopy019\\WT-tacCopyS019R04.dat\n"
     ]
    },
    {
     "name": "stderr",
     "output_type": "stream",
     "text": [
      "WARNING: failed to interpret \"auto\" as type int in parameter \"VisualizeSourceBufferSize\"\n",
      "WARNING: failed to interpret \"1/2s\" as type float in parameter \"PreSequenceDuration\"\n",
      "WARNING: failed to interpret \"auto\" as type int in parameter \"VisualizeSourceBufferSize\"\n",
      "WARNING: failed to interpret \"1/2s\" as type float in parameter \"PreSequenceDuration\"\n"
     ]
    },
    {
     "name": "stdout",
     "output_type": "stream",
     "text": [
      "Actualized channel names to ['Fz', 'Fc1', 'Fc2', 'C3', 'Cz', 'C4', 'P3', 'Pz', 'P4', 'O1', 'Oz', 'O2']\n",
      "Rescaled signal to Volt (mean variance=3.8065607235064296e-10)\n"
     ]
    },
    {
     "name": "stderr",
     "output_type": "stream",
     "text": [
      "WARNING: failed to interpret \"auto\" as type int in parameter \"VisualizeSourceBufferSize\"\n",
      "WARNING: failed to interpret \"1/2s\" as type float in parameter \"PreSequenceDuration\"\n"
     ]
    },
    {
     "name": "stdout",
     "output_type": "stream",
     "text": [
      "nb stimuli=256\n",
      "nb targets=64\n",
      "[ 1024 12800 24576 36352 48128 59904 71680 83456]\n",
      "[12799 24575 36351 48127 59903 71679 83455 95231]\n",
      "Extracted 8 trials\n",
      "Reading WT-tacCalib020\\WT-tacCalibS020R01.dat\n"
     ]
    },
    {
     "name": "stderr",
     "output_type": "stream",
     "text": [
      "WARNING: failed to interpret \"auto\" as type int in parameter \"VisualizeSourceBufferSize\"\n",
      "WARNING: failed to interpret \"1/2s\" as type float in parameter \"PreSequenceDuration\"\n",
      "WARNING: failed to interpret \"auto\" as type int in parameter \"VisualizeSourceBufferSize\"\n",
      "WARNING: failed to interpret \"1/2s\" as type float in parameter \"PreSequenceDuration\"\n"
     ]
    },
    {
     "name": "stdout",
     "output_type": "stream",
     "text": [
      "Actualized channel names to ['Fz', 'Fc1', 'Fc2', 'C3', 'Cz', 'C4', 'P3', 'Pz', 'P4', 'O1', 'Oz', 'O2']\n",
      "Rescaled signal to Volt (mean variance=2.549611867725284e-10)\n"
     ]
    },
    {
     "name": "stderr",
     "output_type": "stream",
     "text": [
      "WARNING: failed to interpret \"auto\" as type int in parameter \"VisualizeSourceBufferSize\"\n",
      "WARNING: failed to interpret \"1/2s\" as type float in parameter \"PreSequenceDuration\"\n"
     ]
    },
    {
     "name": "stdout",
     "output_type": "stream",
     "text": [
      "nb stimuli=320\n",
      "nb targets=80\n",
      "[ 1024 14784 28544 42304 56064 69824 83584 97344]\n",
      "[ 14783  28543  42303  56063  69823  83583  97343 111103]\n",
      "Extracted 8 trials\n",
      "Reading WT-tacCalib020\\WT-tacCalibS020R02.dat\n"
     ]
    },
    {
     "name": "stderr",
     "output_type": "stream",
     "text": [
      "WARNING: failed to interpret \"auto\" as type int in parameter \"VisualizeSourceBufferSize\"\n",
      "WARNING: failed to interpret \"1/2s\" as type float in parameter \"PreSequenceDuration\"\n",
      "WARNING: failed to interpret \"auto\" as type int in parameter \"VisualizeSourceBufferSize\"\n",
      "WARNING: failed to interpret \"1/2s\" as type float in parameter \"PreSequenceDuration\"\n"
     ]
    },
    {
     "name": "stdout",
     "output_type": "stream",
     "text": [
      "Actualized channel names to ['Fz', 'Fc1', 'Fc2', 'C3', 'Cz', 'C4', 'P3', 'Pz', 'P4', 'O1', 'Oz', 'O2']\n",
      "Rescaled signal to Volt (mean variance=2.357068109598327e-10)\n"
     ]
    },
    {
     "name": "stderr",
     "output_type": "stream",
     "text": [
      "WARNING: failed to interpret \"auto\" as type int in parameter \"VisualizeSourceBufferSize\"\n",
      "WARNING: failed to interpret \"1/2s\" as type float in parameter \"PreSequenceDuration\"\n"
     ]
    },
    {
     "name": "stdout",
     "output_type": "stream",
     "text": [
      "nb stimuli=320\n",
      "nb targets=80\n",
      "[ 1024 14784 28544 42304 56064 69824 83584 97344]\n",
      "[ 14783  28543  42303  56063  69823  83583  97343 111103]\n",
      "Extracted 8 trials\n",
      "Reading WT-tacCalib020\\WT-tacCalibS020R03.dat\n"
     ]
    },
    {
     "name": "stderr",
     "output_type": "stream",
     "text": [
      "WARNING: failed to interpret \"auto\" as type int in parameter \"VisualizeSourceBufferSize\"\n",
      "WARNING: failed to interpret \"1/2s\" as type float in parameter \"PreSequenceDuration\"\n",
      "WARNING: failed to interpret \"auto\" as type int in parameter \"VisualizeSourceBufferSize\"\n",
      "WARNING: failed to interpret \"1/2s\" as type float in parameter \"PreSequenceDuration\"\n"
     ]
    },
    {
     "name": "stdout",
     "output_type": "stream",
     "text": [
      "Actualized channel names to ['Fz', 'Fc1', 'Fc2', 'C3', 'Cz', 'C4', 'P3', 'Pz', 'P4', 'O1', 'Oz', 'O2']\n",
      "Rescaled signal to Volt (mean variance=2.1193181037911071e-10)\n",
      "nb stimuli=320\n",
      "nb targets=80\n",
      "[ 1024 14784 28544 42304 56064 69824 83584 97344]\n",
      "[ 14783  28543  42303  56063  69823  83583  97343 111103]\n",
      "Extracted 8 trials\n"
     ]
    },
    {
     "name": "stderr",
     "output_type": "stream",
     "text": [
      "WARNING: failed to interpret \"auto\" as type int in parameter \"VisualizeSourceBufferSize\"\n",
      "WARNING: failed to interpret \"1/2s\" as type float in parameter \"PreSequenceDuration\"\n"
     ]
    },
    {
     "name": "stdout",
     "output_type": "stream",
     "text": [
      "Reading WT-tacCopy020\\WT-tacCopyS020R01.dat\n"
     ]
    },
    {
     "name": "stderr",
     "output_type": "stream",
     "text": [
      "WARNING: failed to interpret \"auto\" as type int in parameter \"VisualizeSourceBufferSize\"\n",
      "WARNING: failed to interpret \"1/2s\" as type float in parameter \"PreSequenceDuration\"\n",
      "WARNING: failed to interpret \"auto\" as type int in parameter \"VisualizeSourceBufferSize\"\n",
      "WARNING: failed to interpret \"1/2s\" as type float in parameter \"PreSequenceDuration\"\n"
     ]
    },
    {
     "name": "stdout",
     "output_type": "stream",
     "text": [
      "Actualized channel names to ['Fz', 'Fc1', 'Fc2', 'C3', 'Cz', 'C4', 'P3', 'Pz', 'P4', 'O1', 'Oz', 'O2']\n",
      "Rescaled signal to Volt (mean variance=4.092165143721294e-10)\n"
     ]
    },
    {
     "name": "stderr",
     "output_type": "stream",
     "text": [
      "WARNING: failed to interpret \"auto\" as type int in parameter \"VisualizeSourceBufferSize\"\n",
      "WARNING: failed to interpret \"1/2s\" as type float in parameter \"PreSequenceDuration\"\n"
     ]
    },
    {
     "name": "stdout",
     "output_type": "stream",
     "text": [
      "nb stimuli=256\n",
      "nb targets=64\n",
      "[ 1024 12800 24576 36352 48128 59904 71680 83456]\n",
      "[12799 24575 36351 48127 59903 71679 83455 95231]\n",
      "Extracted 8 trials\n",
      "Reading WT-tacCopy020\\WT-tacCopyS020R02.dat\n"
     ]
    },
    {
     "name": "stderr",
     "output_type": "stream",
     "text": [
      "WARNING: failed to interpret \"auto\" as type int in parameter \"VisualizeSourceBufferSize\"\n",
      "WARNING: failed to interpret \"1/2s\" as type float in parameter \"PreSequenceDuration\"\n",
      "WARNING: failed to interpret \"auto\" as type int in parameter \"VisualizeSourceBufferSize\"\n",
      "WARNING: failed to interpret \"1/2s\" as type float in parameter \"PreSequenceDuration\"\n"
     ]
    },
    {
     "name": "stdout",
     "output_type": "stream",
     "text": [
      "Actualized channel names to ['Fz', 'Fc1', 'Fc2', 'C3', 'Cz', 'C4', 'P3', 'Pz', 'P4', 'O1', 'Oz', 'O2']\n",
      "Rescaled signal to Volt (mean variance=4.913113440423333e-10)\n"
     ]
    },
    {
     "name": "stderr",
     "output_type": "stream",
     "text": [
      "WARNING: failed to interpret \"auto\" as type int in parameter \"VisualizeSourceBufferSize\"\n",
      "WARNING: failed to interpret \"1/2s\" as type float in parameter \"PreSequenceDuration\"\n"
     ]
    },
    {
     "name": "stdout",
     "output_type": "stream",
     "text": [
      "nb stimuli=256\n",
      "nb targets=64\n",
      "[ 1024 12800 24576 36352 48128 59904 71680 83456]\n",
      "[12799 24575 36351 48127 59903 71679 83455 95231]\n",
      "Extracted 8 trials\n",
      "Reading WT-tacCopy020\\WT-tacCopyS020R03.dat\n"
     ]
    },
    {
     "name": "stderr",
     "output_type": "stream",
     "text": [
      "WARNING: failed to interpret \"auto\" as type int in parameter \"VisualizeSourceBufferSize\"\n",
      "WARNING: failed to interpret \"1/2s\" as type float in parameter \"PreSequenceDuration\"\n",
      "WARNING: failed to interpret \"auto\" as type int in parameter \"VisualizeSourceBufferSize\"\n",
      "WARNING: failed to interpret \"1/2s\" as type float in parameter \"PreSequenceDuration\"\n"
     ]
    },
    {
     "name": "stdout",
     "output_type": "stream",
     "text": [
      "Actualized channel names to ['Fz', 'Fc1', 'Fc2', 'C3', 'Cz', 'C4', 'P3', 'Pz', 'P4', 'O1', 'Oz', 'O2']\n",
      "Rescaled signal to Volt (mean variance=4.817368533725721e-10)\n"
     ]
    },
    {
     "name": "stderr",
     "output_type": "stream",
     "text": [
      "WARNING: failed to interpret \"auto\" as type int in parameter \"VisualizeSourceBufferSize\"\n",
      "WARNING: failed to interpret \"1/2s\" as type float in parameter \"PreSequenceDuration\"\n"
     ]
    },
    {
     "name": "stdout",
     "output_type": "stream",
     "text": [
      "nb stimuli=256\n",
      "nb targets=64\n",
      "[ 1024 12800 24576 36352 48128 59904 71680 83456]\n",
      "[12799 24575 36351 48127 59903 71679 83455 95231]\n",
      "Extracted 8 trials\n",
      "Reading WT-tacCalib021\\WT-tacCalibS021R03.dat\n"
     ]
    },
    {
     "name": "stderr",
     "output_type": "stream",
     "text": [
      "WARNING: failed to interpret \"auto\" as type int in parameter \"VisualizeSourceBufferSize\"\n",
      "WARNING: failed to interpret \"1/2s\" as type float in parameter \"PreSequenceDuration\"\n",
      "WARNING: failed to interpret \"auto\" as type int in parameter \"VisualizeSourceBufferSize\"\n",
      "WARNING: failed to interpret \"1/2s\" as type float in parameter \"PreSequenceDuration\"\n"
     ]
    },
    {
     "name": "stdout",
     "output_type": "stream",
     "text": [
      "Actualized channel names to ['Fz', 'Fc1', 'Fc2', 'C3', 'Cz', 'C4', 'P3', 'Pz', 'P4', 'O1', 'Oz', 'O2']\n",
      "Rescaled signal to Volt (mean variance=2.443057898874697e-10)\n"
     ]
    },
    {
     "name": "stderr",
     "output_type": "stream",
     "text": [
      "WARNING: failed to interpret \"auto\" as type int in parameter \"VisualizeSourceBufferSize\"\n",
      "WARNING: failed to interpret \"1/2s\" as type float in parameter \"PreSequenceDuration\"\n"
     ]
    },
    {
     "name": "stdout",
     "output_type": "stream",
     "text": [
      "nb stimuli=320\n",
      "nb targets=80\n",
      "[ 1024 14784 28544 42304 56064 69824 83584 97344]\n",
      "[ 14783  28543  42303  56063  69823  83583  97343 111103]\n",
      "Extracted 8 trials\n",
      "Reading WT-tacCalib021\\WT-tacCalibS021R04.dat\n"
     ]
    },
    {
     "name": "stderr",
     "output_type": "stream",
     "text": [
      "WARNING: failed to interpret \"auto\" as type int in parameter \"VisualizeSourceBufferSize\"\n",
      "WARNING: failed to interpret \"1/2s\" as type float in parameter \"PreSequenceDuration\"\n",
      "WARNING: failed to interpret \"auto\" as type int in parameter \"VisualizeSourceBufferSize\"\n",
      "WARNING: failed to interpret \"1/2s\" as type float in parameter \"PreSequenceDuration\"\n"
     ]
    },
    {
     "name": "stdout",
     "output_type": "stream",
     "text": [
      "Actualized channel names to ['Fz', 'Fc1', 'Fc2', 'C3', 'Cz', 'C4', 'P3', 'Pz', 'P4', 'O1', 'Oz', 'O2']\n",
      "Rescaled signal to Volt (mean variance=2.4507813739205616e-10)\n"
     ]
    },
    {
     "name": "stderr",
     "output_type": "stream",
     "text": [
      "WARNING: failed to interpret \"auto\" as type int in parameter \"VisualizeSourceBufferSize\"\n",
      "WARNING: failed to interpret \"1/2s\" as type float in parameter \"PreSequenceDuration\"\n"
     ]
    },
    {
     "name": "stdout",
     "output_type": "stream",
     "text": [
      "nb stimuli=320\n",
      "nb targets=80\n",
      "[ 1024 14784 28544 42304 56064 69824 83584 97344]\n",
      "[ 14783  28543  42303  56063  69823  83583  97343 111103]\n",
      "Extracted 8 trials\n",
      "Reading WT-tacCalib021\\WT-tacCalibS021R05.dat\n"
     ]
    },
    {
     "name": "stderr",
     "output_type": "stream",
     "text": [
      "WARNING: failed to interpret \"auto\" as type int in parameter \"VisualizeSourceBufferSize\"\n",
      "WARNING: failed to interpret \"1/2s\" as type float in parameter \"PreSequenceDuration\"\n",
      "WARNING: failed to interpret \"auto\" as type int in parameter \"VisualizeSourceBufferSize\"\n",
      "WARNING: failed to interpret \"1/2s\" as type float in parameter \"PreSequenceDuration\"\n"
     ]
    },
    {
     "name": "stdout",
     "output_type": "stream",
     "text": [
      "Actualized channel names to ['Fz', 'Fc1', 'Fc2', 'C3', 'Cz', 'C4', 'P3', 'Pz', 'P4', 'O1', 'Oz', 'O2']\n",
      "Rescaled signal to Volt (mean variance=2.357913996168398e-10)\n"
     ]
    },
    {
     "name": "stderr",
     "output_type": "stream",
     "text": [
      "WARNING: failed to interpret \"auto\" as type int in parameter \"VisualizeSourceBufferSize\"\n"
     ]
    },
    {
     "name": "stdout",
     "output_type": "stream",
     "text": [
      "nb stimuli=320\n",
      "nb targets=80\n",
      "[ 1024 14784 28544 42304 56064 69824 83584 97344]\n",
      "[ 14783  28543  42303  56063  69823  83583  97343 111103]\n",
      "Extracted 8 trials\n"
     ]
    },
    {
     "name": "stderr",
     "output_type": "stream",
     "text": [
      "WARNING: failed to interpret \"1/2s\" as type float in parameter \"PreSequenceDuration\"\n"
     ]
    },
    {
     "name": "stdout",
     "output_type": "stream",
     "text": [
      "Reading WT-tacCopy021\\WT-tacCopyS021R01.dat\n"
     ]
    },
    {
     "name": "stderr",
     "output_type": "stream",
     "text": [
      "WARNING: failed to interpret \"auto\" as type int in parameter \"VisualizeSourceBufferSize\"\n",
      "WARNING: failed to interpret \"1/2s\" as type float in parameter \"PreSequenceDuration\"\n",
      "WARNING: failed to interpret \"auto\" as type int in parameter \"VisualizeSourceBufferSize\"\n",
      "WARNING: failed to interpret \"1/2s\" as type float in parameter \"PreSequenceDuration\"\n"
     ]
    },
    {
     "name": "stdout",
     "output_type": "stream",
     "text": [
      "Actualized channel names to ['Fz', 'Fc1', 'Fc2', 'C3', 'Cz', 'C4', 'P3', 'Pz', 'P4', 'O1', 'Oz', 'O2']\n",
      "Rescaled signal to Volt (mean variance=3.9717634981247737e-10)\n"
     ]
    },
    {
     "name": "stderr",
     "output_type": "stream",
     "text": [
      "WARNING: failed to interpret \"auto\" as type int in parameter \"VisualizeSourceBufferSize\"\n",
      "WARNING: failed to interpret \"1/2s\" as type float in parameter \"PreSequenceDuration\"\n"
     ]
    },
    {
     "name": "stdout",
     "output_type": "stream",
     "text": [
      "nb stimuli=256\n",
      "nb targets=64\n",
      "[ 1024 12800 24576 36352 48128 59904 71680 83456]\n",
      "[12799 24575 36351 48127 59903 71679 83455 95231]\n",
      "Extracted 8 trials\n",
      "Reading WT-tacCopy021\\WT-tacCopyS021R03.dat\n"
     ]
    },
    {
     "name": "stderr",
     "output_type": "stream",
     "text": [
      "WARNING: failed to interpret \"auto\" as type int in parameter \"VisualizeSourceBufferSize\"\n",
      "WARNING: failed to interpret \"1/2s\" as type float in parameter \"PreSequenceDuration\"\n",
      "WARNING: failed to interpret \"auto\" as type int in parameter \"VisualizeSourceBufferSize\"\n",
      "WARNING: failed to interpret \"1/2s\" as type float in parameter \"PreSequenceDuration\"\n"
     ]
    },
    {
     "name": "stdout",
     "output_type": "stream",
     "text": [
      "Actualized channel names to ['Fz', 'Fc1', 'Fc2', 'C3', 'Cz', 'C4', 'P3', 'Pz', 'P4', 'O1', 'Oz', 'O2']\n",
      "Rescaled signal to Volt (mean variance=4.612097543601248e-10)\n"
     ]
    },
    {
     "name": "stderr",
     "output_type": "stream",
     "text": [
      "WARNING: failed to interpret \"auto\" as type int in parameter \"VisualizeSourceBufferSize\"\n",
      "WARNING: failed to interpret \"1/2s\" as type float in parameter \"PreSequenceDuration\"\n"
     ]
    },
    {
     "name": "stdout",
     "output_type": "stream",
     "text": [
      "nb stimuli=256\n",
      "nb targets=64\n",
      "[ 1024 12800 24576 36352 48128 59904 71680 83456]\n",
      "[12799 24575 36351 48127 59903 71679 83455 95231]\n",
      "Extracted 8 trials\n",
      "Reading WT-tacCopy021\\WT-tacCopyS021R04.dat\n"
     ]
    },
    {
     "name": "stderr",
     "output_type": "stream",
     "text": [
      "WARNING: failed to interpret \"auto\" as type int in parameter \"VisualizeSourceBufferSize\"\n",
      "WARNING: failed to interpret \"1/2s\" as type float in parameter \"PreSequenceDuration\"\n",
      "WARNING: failed to interpret \"auto\" as type int in parameter \"VisualizeSourceBufferSize\"\n",
      "WARNING: failed to interpret \"1/2s\" as type float in parameter \"PreSequenceDuration\"\n"
     ]
    },
    {
     "name": "stdout",
     "output_type": "stream",
     "text": [
      "Actualized channel names to ['Fz', 'Fc1', 'Fc2', 'C3', 'Cz', 'C4', 'P3', 'Pz', 'P4', 'O1', 'Oz', 'O2']\n",
      "Rescaled signal to Volt (mean variance=4.2895174665687536e-10)\n"
     ]
    },
    {
     "name": "stderr",
     "output_type": "stream",
     "text": [
      "WARNING: failed to interpret \"auto\" as type int in parameter \"VisualizeSourceBufferSize\"\n"
     ]
    },
    {
     "name": "stdout",
     "output_type": "stream",
     "text": [
      "nb stimuli=256\n",
      "nb targets=64\n",
      "[ 1024 12800 24576 36352 48128 59904 71680 83456]\n",
      "[12799 24575 36351 48127 59903 71679 83455 95231]\n",
      "Extracted 8 trials\n"
     ]
    },
    {
     "name": "stderr",
     "output_type": "stream",
     "text": [
      "WARNING: failed to interpret \"1/2s\" as type float in parameter \"PreSequenceDuration\"\n"
     ]
    },
    {
     "name": "stdout",
     "output_type": "stream",
     "text": [
      "Reading WT-tacCalib022\\WT-tacCalibS022R01.dat\n"
     ]
    },
    {
     "name": "stderr",
     "output_type": "stream",
     "text": [
      "WARNING: failed to interpret \"auto\" as type int in parameter \"VisualizeSourceBufferSize\"\n",
      "WARNING: failed to interpret \"1/2s\" as type float in parameter \"PreSequenceDuration\"\n",
      "WARNING: failed to interpret \"auto\" as type int in parameter \"VisualizeSourceBufferSize\"\n",
      "WARNING: failed to interpret \"1/2s\" as type float in parameter \"PreSequenceDuration\"\n"
     ]
    },
    {
     "name": "stdout",
     "output_type": "stream",
     "text": [
      "Actualized channel names to ['Fz', 'Fc1', 'Fc2', 'C3', 'Cz', 'C4', 'P3', 'Pz', 'P4', 'O1', 'Oz', 'O2']\n",
      "Rescaled signal to Volt (mean variance=3.423759794247405e-10)\n"
     ]
    },
    {
     "name": "stderr",
     "output_type": "stream",
     "text": [
      "WARNING: failed to interpret \"auto\" as type int in parameter \"VisualizeSourceBufferSize\"\n",
      "WARNING: failed to interpret \"1/2s\" as type float in parameter \"PreSequenceDuration\"\n"
     ]
    },
    {
     "name": "stdout",
     "output_type": "stream",
     "text": [
      "nb stimuli=320\n",
      "nb targets=80\n",
      "[ 1024 14784 28544 42304 56064 69824 83584 97344]\n",
      "[ 14783  28543  42303  56063  69823  83583  97343 111103]\n",
      "Extracted 8 trials\n",
      "Reading WT-tacCalib022\\WT-tacCalibS022R02.dat\n"
     ]
    },
    {
     "name": "stderr",
     "output_type": "stream",
     "text": [
      "WARNING: failed to interpret \"auto\" as type int in parameter \"VisualizeSourceBufferSize\"\n",
      "WARNING: failed to interpret \"1/2s\" as type float in parameter \"PreSequenceDuration\"\n",
      "WARNING: failed to interpret \"auto\" as type int in parameter \"VisualizeSourceBufferSize\"\n",
      "WARNING: failed to interpret \"1/2s\" as type float in parameter \"PreSequenceDuration\"\n"
     ]
    },
    {
     "name": "stdout",
     "output_type": "stream",
     "text": [
      "Actualized channel names to ['Fz', 'Fc1', 'Fc2', 'C3', 'Cz', 'C4', 'P3', 'Pz', 'P4', 'O1', 'Oz', 'O2']\n",
      "Rescaled signal to Volt (mean variance=1.650551313367037e-10)\n"
     ]
    },
    {
     "name": "stderr",
     "output_type": "stream",
     "text": [
      "WARNING: failed to interpret \"auto\" as type int in parameter \"VisualizeSourceBufferSize\"\n",
      "WARNING: failed to interpret \"1/2s\" as type float in parameter \"PreSequenceDuration\"\n"
     ]
    },
    {
     "name": "stdout",
     "output_type": "stream",
     "text": [
      "nb stimuli=320\n",
      "nb targets=80\n",
      "[ 1024 14784 28544 42304 56064 69824 83584 97344]\n",
      "[ 14783  28543  42303  56063  69823  83583  97343 111103]\n",
      "Extracted 8 trials\n",
      "Reading WT-tacCalib022\\WT-tacCalibS022R03.dat\n"
     ]
    },
    {
     "name": "stderr",
     "output_type": "stream",
     "text": [
      "WARNING: failed to interpret \"auto\" as type int in parameter \"VisualizeSourceBufferSize\"\n",
      "WARNING: failed to interpret \"1/2s\" as type float in parameter \"PreSequenceDuration\"\n",
      "WARNING: failed to interpret \"auto\" as type int in parameter \"VisualizeSourceBufferSize\"\n",
      "WARNING: failed to interpret \"1/2s\" as type float in parameter \"PreSequenceDuration\"\n"
     ]
    },
    {
     "name": "stdout",
     "output_type": "stream",
     "text": [
      "Actualized channel names to ['Fz', 'Fc1', 'Fc2', 'C3', 'Cz', 'C4', 'P3', 'Pz', 'P4', 'O1', 'Oz', 'O2']\n",
      "Rescaled signal to Volt (mean variance=2.7214408887706936e-10)\n",
      "nb stimuli=320\n",
      "nb targets=80\n",
      "[ 1024 14784 28544 42304 56064 69824 83584 97344]\n",
      "[ 14783  28543  42303  56063  69823  83583  97343 111103]\n",
      "Extracted 8 trials\n"
     ]
    },
    {
     "name": "stderr",
     "output_type": "stream",
     "text": [
      "WARNING: failed to interpret \"auto\" as type int in parameter \"VisualizeSourceBufferSize\"\n",
      "WARNING: failed to interpret \"1/2s\" as type float in parameter \"PreSequenceDuration\"\n"
     ]
    },
    {
     "name": "stdout",
     "output_type": "stream",
     "text": [
      "Reading WT-tacCopy022\\WT-tacCopyS022R01.dat\n"
     ]
    },
    {
     "name": "stderr",
     "output_type": "stream",
     "text": [
      "WARNING: failed to interpret \"auto\" as type int in parameter \"VisualizeSourceBufferSize\"\n",
      "WARNING: failed to interpret \"1/2s\" as type float in parameter \"PreSequenceDuration\"\n",
      "WARNING: failed to interpret \"auto\" as type int in parameter \"VisualizeSourceBufferSize\"\n",
      "WARNING: failed to interpret \"1/2s\" as type float in parameter \"PreSequenceDuration\"\n"
     ]
    },
    {
     "name": "stdout",
     "output_type": "stream",
     "text": [
      "Actualized channel names to ['Fz', 'Fc1', 'Fc2', 'C3', 'Cz', 'C4', 'P3', 'Pz', 'P4', 'O1', 'Oz', 'O2']\n",
      "Rescaled signal to Volt (mean variance=3.470157794781696e-10)\n"
     ]
    },
    {
     "name": "stderr",
     "output_type": "stream",
     "text": [
      "WARNING: failed to interpret \"auto\" as type int in parameter \"VisualizeSourceBufferSize\"\n",
      "WARNING: failed to interpret \"1/2s\" as type float in parameter \"PreSequenceDuration\"\n"
     ]
    },
    {
     "name": "stdout",
     "output_type": "stream",
     "text": [
      "nb stimuli=256\n",
      "nb targets=64\n",
      "[ 1024 12800 24576 36352 48128 59904 71680 83456]\n",
      "[12799 24575 36351 48127 59903 71679 83455 95231]\n",
      "Extracted 8 trials\n",
      "Reading WT-tacCopy022\\WT-tacCopyS022R02.dat\n"
     ]
    },
    {
     "name": "stderr",
     "output_type": "stream",
     "text": [
      "WARNING: failed to interpret \"auto\" as type int in parameter \"VisualizeSourceBufferSize\"\n",
      "WARNING: failed to interpret \"1/2s\" as type float in parameter \"PreSequenceDuration\"\n",
      "WARNING: failed to interpret \"auto\" as type int in parameter \"VisualizeSourceBufferSize\"\n",
      "WARNING: failed to interpret \"1/2s\" as type float in parameter \"PreSequenceDuration\"\n"
     ]
    },
    {
     "name": "stdout",
     "output_type": "stream",
     "text": [
      "Actualized channel names to ['Fz', 'Fc1', 'Fc2', 'C3', 'Cz', 'C4', 'P3', 'Pz', 'P4', 'O1', 'Oz', 'O2']\n",
      "Rescaled signal to Volt (mean variance=3.8858480320469606e-10)\n"
     ]
    },
    {
     "name": "stderr",
     "output_type": "stream",
     "text": [
      "WARNING: failed to interpret \"auto\" as type int in parameter \"VisualizeSourceBufferSize\"\n",
      "WARNING: failed to interpret \"1/2s\" as type float in parameter \"PreSequenceDuration\"\n"
     ]
    },
    {
     "name": "stdout",
     "output_type": "stream",
     "text": [
      "nb stimuli=256\n",
      "nb targets=64\n",
      "[ 1024 12800 24576 36352 48128 59904 71680 83456]\n",
      "[12799 24575 36351 48127 59903 71679 83455 95231]\n",
      "Extracted 8 trials\n",
      "Reading WT-tacCopy022\\WT-tacCopyS022R03.dat\n"
     ]
    },
    {
     "name": "stderr",
     "output_type": "stream",
     "text": [
      "WARNING: failed to interpret \"auto\" as type int in parameter \"VisualizeSourceBufferSize\"\n",
      "WARNING: failed to interpret \"1/2s\" as type float in parameter \"PreSequenceDuration\"\n",
      "WARNING: failed to interpret \"auto\" as type int in parameter \"VisualizeSourceBufferSize\"\n",
      "WARNING: failed to interpret \"1/2s\" as type float in parameter \"PreSequenceDuration\"\n"
     ]
    },
    {
     "name": "stdout",
     "output_type": "stream",
     "text": [
      "Actualized channel names to ['Fz', 'Fc1', 'Fc2', 'C3', 'Cz', 'C4', 'P3', 'Pz', 'P4', 'O1', 'Oz', 'O2']\n",
      "Rescaled signal to Volt (mean variance=3.770857544362558e-10)\n"
     ]
    },
    {
     "name": "stderr",
     "output_type": "stream",
     "text": [
      "WARNING: failed to interpret \"auto\" as type int in parameter \"VisualizeSourceBufferSize\"\n"
     ]
    },
    {
     "name": "stdout",
     "output_type": "stream",
     "text": [
      "nb stimuli=256\n",
      "nb targets=64\n",
      "[ 1024 12800 24576 36352 48128 59904 71680 83456]\n",
      "[12799 24575 36351 48127 59903 71679 83455 95231]\n",
      "Extracted 8 trials\n"
     ]
    },
    {
     "name": "stderr",
     "output_type": "stream",
     "text": [
      "WARNING: failed to interpret \"1/2s\" as type float in parameter \"PreSequenceDuration\"\n"
     ]
    },
    {
     "name": "stdout",
     "output_type": "stream",
     "text": [
      "Reading WT-tacCalib023\\WT-tacCalibS023R01.dat\n"
     ]
    },
    {
     "name": "stderr",
     "output_type": "stream",
     "text": [
      "WARNING: failed to interpret \"auto\" as type int in parameter \"VisualizeSourceBufferSize\"\n",
      "WARNING: failed to interpret \"1/2s\" as type float in parameter \"PreSequenceDuration\"\n",
      "WARNING: failed to interpret \"auto\" as type int in parameter \"VisualizeSourceBufferSize\"\n",
      "WARNING: failed to interpret \"1/2s\" as type float in parameter \"PreSequenceDuration\"\n"
     ]
    },
    {
     "name": "stdout",
     "output_type": "stream",
     "text": [
      "Actualized channel names to ['Fz', 'Fc1', 'Fc2', 'C3', 'Cz', 'C4', 'P3', 'Pz', 'P4', 'O1', 'Oz', 'O2']\n",
      "Rescaled signal to Volt (mean variance=3.347615457867898e-10)\n"
     ]
    },
    {
     "name": "stderr",
     "output_type": "stream",
     "text": [
      "WARNING: failed to interpret \"auto\" as type int in parameter \"VisualizeSourceBufferSize\"\n",
      "WARNING: failed to interpret \"1/2s\" as type float in parameter \"PreSequenceDuration\"\n"
     ]
    },
    {
     "name": "stdout",
     "output_type": "stream",
     "text": [
      "nb stimuli=320\n",
      "nb targets=80\n",
      "[ 1024 14784 28544 42304 56064 69824 83584 97344]\n",
      "[ 14783  28543  42303  56063  69823  83583  97343 111103]\n",
      "Extracted 8 trials\n",
      "Reading WT-tacCalib023\\WT-tacCalibS023R02.dat\n"
     ]
    },
    {
     "name": "stderr",
     "output_type": "stream",
     "text": [
      "WARNING: failed to interpret \"auto\" as type int in parameter \"VisualizeSourceBufferSize\"\n",
      "WARNING: failed to interpret \"1/2s\" as type float in parameter \"PreSequenceDuration\"\n",
      "WARNING: failed to interpret \"auto\" as type int in parameter \"VisualizeSourceBufferSize\"\n",
      "WARNING: failed to interpret \"1/2s\" as type float in parameter \"PreSequenceDuration\"\n"
     ]
    },
    {
     "name": "stdout",
     "output_type": "stream",
     "text": [
      "Actualized channel names to ['Fz', 'Fc1', 'Fc2', 'C3', 'Cz', 'C4', 'P3', 'Pz', 'P4', 'O1', 'Oz', 'O2']\n",
      "Rescaled signal to Volt (mean variance=2.0251469365261226e-10)\n"
     ]
    },
    {
     "name": "stderr",
     "output_type": "stream",
     "text": [
      "WARNING: failed to interpret \"auto\" as type int in parameter \"VisualizeSourceBufferSize\"\n",
      "WARNING: failed to interpret \"1/2s\" as type float in parameter \"PreSequenceDuration\"\n"
     ]
    },
    {
     "name": "stdout",
     "output_type": "stream",
     "text": [
      "nb stimuli=320\n",
      "nb targets=80\n",
      "[ 1024 14784 28544 42304 56064 69824 83584 97344]\n",
      "[ 14783  28543  42303  56063  69823  83583  97343 111103]\n",
      "Extracted 8 trials\n",
      "Reading WT-tacCalib023\\WT-tacCalibS023R03.dat\n"
     ]
    },
    {
     "name": "stderr",
     "output_type": "stream",
     "text": [
      "WARNING: failed to interpret \"auto\" as type int in parameter \"VisualizeSourceBufferSize\"\n",
      "WARNING: failed to interpret \"1/2s\" as type float in parameter \"PreSequenceDuration\"\n",
      "WARNING: failed to interpret \"auto\" as type int in parameter \"VisualizeSourceBufferSize\"\n",
      "WARNING: failed to interpret \"1/2s\" as type float in parameter \"PreSequenceDuration\"\n"
     ]
    },
    {
     "name": "stdout",
     "output_type": "stream",
     "text": [
      "Actualized channel names to ['Fz', 'Fc1', 'Fc2', 'C3', 'Cz', 'C4', 'P3', 'Pz', 'P4', 'O1', 'Oz', 'O2']\n",
      "Rescaled signal to Volt (mean variance=1.3402016251320355e-10)\n",
      "nb stimuli=320\n",
      "nb targets=80\n",
      "[ 1024 14784 28544 42304 56064 69824 83584 97344]\n",
      "[ 14783  28543  42303  56063  69823  83583  97343 111103]\n",
      "Extracted 8 trials\n"
     ]
    },
    {
     "name": "stderr",
     "output_type": "stream",
     "text": [
      "WARNING: failed to interpret \"auto\" as type int in parameter \"VisualizeSourceBufferSize\"\n",
      "WARNING: failed to interpret \"1/2s\" as type float in parameter \"PreSequenceDuration\"\n"
     ]
    },
    {
     "name": "stdout",
     "output_type": "stream",
     "text": [
      "Reading WT-tacCopy023\\WT-tacCopyS023R01.dat\n"
     ]
    },
    {
     "name": "stderr",
     "output_type": "stream",
     "text": [
      "WARNING: failed to interpret \"auto\" as type int in parameter \"VisualizeSourceBufferSize\"\n",
      "WARNING: failed to interpret \"1/2s\" as type float in parameter \"PreSequenceDuration\"\n",
      "WARNING: failed to interpret \"auto\" as type int in parameter \"VisualizeSourceBufferSize\"\n",
      "WARNING: failed to interpret \"1/2s\" as type float in parameter \"PreSequenceDuration\"\n"
     ]
    },
    {
     "name": "stdout",
     "output_type": "stream",
     "text": [
      "Actualized channel names to ['Fz', 'Fc1', 'Fc2', 'C3', 'Cz', 'C4', 'P3', 'Pz', 'P4', 'O1', 'Oz', 'O2']\n",
      "Rescaled signal to Volt (mean variance=5.727141488344199e-10)\n"
     ]
    },
    {
     "name": "stderr",
     "output_type": "stream",
     "text": [
      "WARNING: failed to interpret \"auto\" as type int in parameter \"VisualizeSourceBufferSize\"\n",
      "WARNING: failed to interpret \"1/2s\" as type float in parameter \"PreSequenceDuration\"\n"
     ]
    },
    {
     "name": "stdout",
     "output_type": "stream",
     "text": [
      "nb stimuli=256\n",
      "nb targets=64\n",
      "[ 1024 12800 24576 36352 48128 59904 71680 83456]\n",
      "[12799 24575 36351 48127 59903 71679 83455 95231]\n",
      "Extracted 8 trials\n",
      "Reading WT-tacCopy023\\WT-tacCopyS023R02.dat\n"
     ]
    },
    {
     "name": "stderr",
     "output_type": "stream",
     "text": [
      "WARNING: failed to interpret \"auto\" as type int in parameter \"VisualizeSourceBufferSize\"\n",
      "WARNING: failed to interpret \"1/2s\" as type float in parameter \"PreSequenceDuration\"\n",
      "WARNING: failed to interpret \"auto\" as type int in parameter \"VisualizeSourceBufferSize\"\n",
      "WARNING: failed to interpret \"1/2s\" as type float in parameter \"PreSequenceDuration\"\n"
     ]
    },
    {
     "name": "stdout",
     "output_type": "stream",
     "text": [
      "Actualized channel names to ['Fz', 'Fc1', 'Fc2', 'C3', 'Cz', 'C4', 'P3', 'Pz', 'P4', 'O1', 'Oz', 'O2']\n",
      "Rescaled signal to Volt (mean variance=5.197255989961964e-10)\n"
     ]
    },
    {
     "name": "stderr",
     "output_type": "stream",
     "text": [
      "WARNING: failed to interpret \"auto\" as type int in parameter \"VisualizeSourceBufferSize\"\n",
      "WARNING: failed to interpret \"1/2s\" as type float in parameter \"PreSequenceDuration\"\n"
     ]
    },
    {
     "name": "stdout",
     "output_type": "stream",
     "text": [
      "nb stimuli=256\n",
      "nb targets=64\n",
      "[ 1024 12800 24576 36352 48128 59904 71680 83456]\n",
      "[12799 24575 36351 48127 59903 71679 83455 95231]\n",
      "Extracted 8 trials\n",
      "Reading WT-tacCopy023\\WT-tacCopyS023R03.dat\n"
     ]
    },
    {
     "name": "stderr",
     "output_type": "stream",
     "text": [
      "WARNING: failed to interpret \"auto\" as type int in parameter \"VisualizeSourceBufferSize\"\n",
      "WARNING: failed to interpret \"1/2s\" as type float in parameter \"PreSequenceDuration\"\n",
      "WARNING: failed to interpret \"auto\" as type int in parameter \"VisualizeSourceBufferSize\"\n",
      "WARNING: failed to interpret \"1/2s\" as type float in parameter \"PreSequenceDuration\"\n"
     ]
    },
    {
     "name": "stdout",
     "output_type": "stream",
     "text": [
      "Actualized channel names to ['Fz', 'Fc1', 'Fc2', 'C3', 'Cz', 'C4', 'P3', 'Pz', 'P4', 'O1', 'Oz', 'O2']\n",
      "Rescaled signal to Volt (mean variance=4.499327821464069e-10)\n"
     ]
    },
    {
     "name": "stderr",
     "output_type": "stream",
     "text": [
      "WARNING: failed to interpret \"auto\" as type int in parameter \"VisualizeSourceBufferSize\"\n",
      "WARNING: failed to interpret \"1/2s\" as type float in parameter \"PreSequenceDuration\"\n"
     ]
    },
    {
     "name": "stdout",
     "output_type": "stream",
     "text": [
      "nb stimuli=256\n",
      "nb targets=64\n",
      "[ 1024 12800 24576 36352 48128 59904 71680 83456]\n",
      "[12799 24575 36351 48127 59903 71679 83455 95231]\n",
      "Extracted 8 trials\n",
      "Reading WT-tacCalib024\\WT-tacCalibS024R03.dat\n"
     ]
    },
    {
     "name": "stderr",
     "output_type": "stream",
     "text": [
      "WARNING: failed to interpret \"auto\" as type int in parameter \"VisualizeSourceBufferSize\"\n",
      "WARNING: failed to interpret \"1/2s\" as type float in parameter \"PreSequenceDuration\"\n",
      "WARNING: failed to interpret \"auto\" as type int in parameter \"VisualizeSourceBufferSize\"\n",
      "WARNING: failed to interpret \"1/2s\" as type float in parameter \"PreSequenceDuration\"\n"
     ]
    },
    {
     "name": "stdout",
     "output_type": "stream",
     "text": [
      "Actualized channel names to ['Fz', 'Fc1', 'Fc2', 'C3', 'Cz', 'C4', 'P3', 'Pz', 'P4', 'O1', 'Oz', 'O2']\n",
      "Rescaled signal to Volt (mean variance=3.07794126263998e-10)\n"
     ]
    },
    {
     "name": "stderr",
     "output_type": "stream",
     "text": [
      "WARNING: failed to interpret \"auto\" as type int in parameter \"VisualizeSourceBufferSize\"\n",
      "WARNING: failed to interpret \"1/2s\" as type float in parameter \"PreSequenceDuration\"\n"
     ]
    },
    {
     "name": "stdout",
     "output_type": "stream",
     "text": [
      "nb stimuli=320\n",
      "nb targets=80\n",
      "[ 1024 14784 28544 42304 56064 69824 83584 97344]\n",
      "[ 14783  28543  42303  56063  69823  83583  97343 111103]\n",
      "Extracted 8 trials\n",
      "Reading WT-tacCalib024\\WT-tacCalibS024R07.dat\n"
     ]
    },
    {
     "name": "stderr",
     "output_type": "stream",
     "text": [
      "WARNING: failed to interpret \"auto\" as type int in parameter \"VisualizeSourceBufferSize\"\n",
      "WARNING: failed to interpret \"1/2s\" as type float in parameter \"PreSequenceDuration\"\n",
      "WARNING: failed to interpret \"auto\" as type int in parameter \"VisualizeSourceBufferSize\"\n",
      "WARNING: failed to interpret \"1/2s\" as type float in parameter \"PreSequenceDuration\"\n"
     ]
    },
    {
     "name": "stdout",
     "output_type": "stream",
     "text": [
      "Actualized channel names to ['Fz', 'Fc1', 'Fc2', 'C3', 'Cz', 'C4', 'P3', 'Pz', 'P4', 'O1', 'Oz', 'O2']\n",
      "Rescaled signal to Volt (mean variance=2.633025553981858e-10)\n"
     ]
    },
    {
     "name": "stderr",
     "output_type": "stream",
     "text": [
      "WARNING: failed to interpret \"auto\" as type int in parameter \"VisualizeSourceBufferSize\"\n",
      "WARNING: failed to interpret \"1/2s\" as type float in parameter \"PreSequenceDuration\"\n"
     ]
    },
    {
     "name": "stdout",
     "output_type": "stream",
     "text": [
      "nb stimuli=320\n",
      "nb targets=80\n",
      "[ 1024 14784 28544 42304 56064 69824 83584 97344]\n",
      "[ 14783  28543  42303  56063  69823  83583  97343 111103]\n",
      "Extracted 8 trials\n",
      "Reading WT-tacCalib024\\WT-tacCalibS024R08.dat\n"
     ]
    },
    {
     "name": "stderr",
     "output_type": "stream",
     "text": [
      "WARNING: failed to interpret \"auto\" as type int in parameter \"VisualizeSourceBufferSize\"\n",
      "WARNING: failed to interpret \"1/2s\" as type float in parameter \"PreSequenceDuration\"\n",
      "WARNING: failed to interpret \"auto\" as type int in parameter \"VisualizeSourceBufferSize\"\n",
      "WARNING: failed to interpret \"1/2s\" as type float in parameter \"PreSequenceDuration\"\n"
     ]
    },
    {
     "name": "stdout",
     "output_type": "stream",
     "text": [
      "Actualized channel names to ['Fz', 'Fc1', 'Fc2', 'C3', 'Cz', 'C4', 'P3', 'Pz', 'P4', 'O1', 'Oz', 'O2']\n",
      "Rescaled signal to Volt (mean variance=2.5125916624850963e-10)\n"
     ]
    },
    {
     "name": "stderr",
     "output_type": "stream",
     "text": [
      "WARNING: failed to interpret \"auto\" as type int in parameter \"VisualizeSourceBufferSize\"\n"
     ]
    },
    {
     "name": "stdout",
     "output_type": "stream",
     "text": [
      "nb stimuli=320\n",
      "nb targets=80\n",
      "[ 1024 14784 28544 42304 56064 69824 83584 97344]\n",
      "[ 14783  28543  42303  56063  69823  83583  97343 111103]\n",
      "Extracted 8 trials\n"
     ]
    },
    {
     "name": "stderr",
     "output_type": "stream",
     "text": [
      "WARNING: failed to interpret \"1/2s\" as type float in parameter \"PreSequenceDuration\"\n"
     ]
    },
    {
     "name": "stdout",
     "output_type": "stream",
     "text": [
      "Reading WT-tacCopy024\\WT-tacCopyS024R01.dat\n"
     ]
    },
    {
     "name": "stderr",
     "output_type": "stream",
     "text": [
      "WARNING: failed to interpret \"auto\" as type int in parameter \"VisualizeSourceBufferSize\"\n",
      "WARNING: failed to interpret \"1/2s\" as type float in parameter \"PreSequenceDuration\"\n",
      "WARNING: failed to interpret \"auto\" as type int in parameter \"VisualizeSourceBufferSize\"\n",
      "WARNING: failed to interpret \"1/2s\" as type float in parameter \"PreSequenceDuration\"\n"
     ]
    },
    {
     "name": "stdout",
     "output_type": "stream",
     "text": [
      "Actualized channel names to ['Fz', 'Fc1', 'Fc2', 'C3', 'Cz', 'C4', 'P3', 'Pz', 'P4', 'O1', 'Oz', 'O2']\n",
      "Rescaled signal to Volt (mean variance=4.1285392669476836e-10)\n"
     ]
    },
    {
     "name": "stderr",
     "output_type": "stream",
     "text": [
      "WARNING: failed to interpret \"auto\" as type int in parameter \"VisualizeSourceBufferSize\"\n",
      "WARNING: failed to interpret \"1/2s\" as type float in parameter \"PreSequenceDuration\"\n"
     ]
    },
    {
     "name": "stdout",
     "output_type": "stream",
     "text": [
      "nb stimuli=256\n",
      "nb targets=64\n",
      "[ 1024 12800 24576 36352 48128 59904 71680 83456]\n",
      "[12799 24575 36351 48127 59903 71679 83455 95231]\n",
      "Extracted 8 trials\n",
      "Reading WT-tacCopy024\\WT-tacCopyS024R03.dat\n"
     ]
    },
    {
     "name": "stderr",
     "output_type": "stream",
     "text": [
      "WARNING: failed to interpret \"auto\" as type int in parameter \"VisualizeSourceBufferSize\"\n",
      "WARNING: failed to interpret \"1/2s\" as type float in parameter \"PreSequenceDuration\"\n",
      "WARNING: failed to interpret \"auto\" as type int in parameter \"VisualizeSourceBufferSize\"\n",
      "WARNING: failed to interpret \"1/2s\" as type float in parameter \"PreSequenceDuration\"\n"
     ]
    },
    {
     "name": "stdout",
     "output_type": "stream",
     "text": [
      "Actualized channel names to ['Fz', 'Fc1', 'Fc2', 'C3', 'Cz', 'C4', 'P3', 'Pz', 'P4', 'O1', 'Oz', 'O2']\n",
      "Rescaled signal to Volt (mean variance=4.869201960393064e-10)\n"
     ]
    },
    {
     "name": "stderr",
     "output_type": "stream",
     "text": [
      "WARNING: failed to interpret \"auto\" as type int in parameter \"VisualizeSourceBufferSize\"\n",
      "WARNING: failed to interpret \"1/2s\" as type float in parameter \"PreSequenceDuration\"\n"
     ]
    },
    {
     "name": "stdout",
     "output_type": "stream",
     "text": [
      "nb stimuli=256\n",
      "nb targets=64\n",
      "[ 1024 12800 24576 36352 48128 59904 71680 83456]\n",
      "[12799 24575 36351 48127 59903 71679 83455 95231]\n",
      "Extracted 8 trials\n",
      "Reading WT-tacCopy024\\WT-tacCopyS024R04.dat\n"
     ]
    },
    {
     "name": "stderr",
     "output_type": "stream",
     "text": [
      "WARNING: failed to interpret \"auto\" as type int in parameter \"VisualizeSourceBufferSize\"\n",
      "WARNING: failed to interpret \"1/2s\" as type float in parameter \"PreSequenceDuration\"\n",
      "WARNING: failed to interpret \"auto\" as type int in parameter \"VisualizeSourceBufferSize\"\n",
      "WARNING: failed to interpret \"1/2s\" as type float in parameter \"PreSequenceDuration\"\n"
     ]
    },
    {
     "name": "stdout",
     "output_type": "stream",
     "text": [
      "Actualized channel names to ['Fz', 'Fc1', 'Fc2', 'C3', 'Cz', 'C4', 'P3', 'Pz', 'P4', 'O1', 'Oz', 'O2']\n",
      "Rescaled signal to Volt (mean variance=4.4762667622362404e-10)\n"
     ]
    },
    {
     "name": "stderr",
     "output_type": "stream",
     "text": [
      "WARNING: failed to interpret \"auto\" as type int in parameter \"VisualizeSourceBufferSize\"\n",
      "WARNING: failed to interpret \"1/2s\" as type float in parameter \"PreSequenceDuration\"\n"
     ]
    },
    {
     "name": "stdout",
     "output_type": "stream",
     "text": [
      "nb stimuli=256\n",
      "nb targets=64\n",
      "[ 1024 12800 24576 36352 48128 59904 71680 83456]\n",
      "[12799 24575 36351 48127 59903 71679 83455 95231]\n",
      "Extracted 8 trials\n",
      "Reading WT-tacCalib025\\WT-tacCalibS025R01.dat\n"
     ]
    },
    {
     "name": "stderr",
     "output_type": "stream",
     "text": [
      "WARNING: failed to interpret \"auto\" as type int in parameter \"VisualizeSourceBufferSize\"\n",
      "WARNING: failed to interpret \"1/2s\" as type float in parameter \"PreSequenceDuration\"\n",
      "WARNING: failed to interpret \"auto\" as type int in parameter \"VisualizeSourceBufferSize\"\n",
      "WARNING: failed to interpret \"1/2s\" as type float in parameter \"PreSequenceDuration\"\n"
     ]
    },
    {
     "name": "stdout",
     "output_type": "stream",
     "text": [
      "Actualized channel names to ['Fz', 'Fc1', 'Fc2', 'C3', 'Cz', 'C4', 'P3', 'Pz', 'P4', 'O1', 'Oz', 'O2']\n",
      "Rescaled signal to Volt (mean variance=2.2000330536604707e-10)\n"
     ]
    },
    {
     "name": "stderr",
     "output_type": "stream",
     "text": [
      "WARNING: failed to interpret \"auto\" as type int in parameter \"VisualizeSourceBufferSize\"\n",
      "WARNING: failed to interpret \"1/2s\" as type float in parameter \"PreSequenceDuration\"\n"
     ]
    },
    {
     "name": "stdout",
     "output_type": "stream",
     "text": [
      "nb stimuli=320\n",
      "nb targets=80\n",
      "[ 1024 14784 28544 42304 56064 69824 83584 97344]\n",
      "[ 14783  28543  42303  56063  69823  83583  97343 111103]\n",
      "Extracted 8 trials\n",
      "Reading WT-tacCalib025\\WT-tacCalibS025R02.dat\n"
     ]
    },
    {
     "name": "stderr",
     "output_type": "stream",
     "text": [
      "WARNING: failed to interpret \"auto\" as type int in parameter \"VisualizeSourceBufferSize\"\n",
      "WARNING: failed to interpret \"1/2s\" as type float in parameter \"PreSequenceDuration\"\n",
      "WARNING: failed to interpret \"auto\" as type int in parameter \"VisualizeSourceBufferSize\"\n",
      "WARNING: failed to interpret \"1/2s\" as type float in parameter \"PreSequenceDuration\"\n"
     ]
    },
    {
     "name": "stdout",
     "output_type": "stream",
     "text": [
      "Actualized channel names to ['Fz', 'Fc1', 'Fc2', 'C3', 'Cz', 'C4', 'P3', 'Pz', 'P4', 'O1', 'Oz', 'O2']\n",
      "Rescaled signal to Volt (mean variance=3.1752874040532425e-10)\n"
     ]
    },
    {
     "name": "stderr",
     "output_type": "stream",
     "text": [
      "WARNING: failed to interpret \"auto\" as type int in parameter \"VisualizeSourceBufferSize\"\n",
      "WARNING: failed to interpret \"1/2s\" as type float in parameter \"PreSequenceDuration\"\n"
     ]
    },
    {
     "name": "stdout",
     "output_type": "stream",
     "text": [
      "nb stimuli=320\n",
      "nb targets=80\n",
      "[ 1024 14784 28544 42304 56064 69824 83584 97344]\n",
      "[ 14783  28543  42303  56063  69823  83583  97343 111103]\n",
      "Extracted 8 trials\n",
      "Reading WT-tacCalib025\\WT-tacCalibS025R03.dat\n"
     ]
    },
    {
     "name": "stderr",
     "output_type": "stream",
     "text": [
      "WARNING: failed to interpret \"auto\" as type int in parameter \"VisualizeSourceBufferSize\"\n",
      "WARNING: failed to interpret \"1/2s\" as type float in parameter \"PreSequenceDuration\"\n",
      "WARNING: failed to interpret \"auto\" as type int in parameter \"VisualizeSourceBufferSize\"\n",
      "WARNING: failed to interpret \"1/2s\" as type float in parameter \"PreSequenceDuration\"\n"
     ]
    },
    {
     "name": "stdout",
     "output_type": "stream",
     "text": [
      "Actualized channel names to ['Fz', 'Fc1', 'Fc2', 'C3', 'Cz', 'C4', 'P3', 'Pz', 'P4', 'O1', 'Oz', 'O2']\n",
      "Rescaled signal to Volt (mean variance=2.2754276823755779e-10)\n"
     ]
    },
    {
     "name": "stderr",
     "output_type": "stream",
     "text": [
      "WARNING: failed to interpret \"auto\" as type int in parameter \"VisualizeSourceBufferSize\"\n"
     ]
    },
    {
     "name": "stdout",
     "output_type": "stream",
     "text": [
      "nb stimuli=320\n",
      "nb targets=80\n",
      "[ 1024 14784 28544 42304 56064 69824 83584 97344]\n",
      "[ 14783  28543  42303  56063  69823  83583  97343 111103]\n",
      "Extracted 8 trials\n"
     ]
    },
    {
     "name": "stderr",
     "output_type": "stream",
     "text": [
      "WARNING: failed to interpret \"1/2s\" as type float in parameter \"PreSequenceDuration\"\n"
     ]
    },
    {
     "name": "stdout",
     "output_type": "stream",
     "text": [
      "Reading WT-tacCopy025\\WT-tacCopyS025R01.dat\n"
     ]
    },
    {
     "name": "stderr",
     "output_type": "stream",
     "text": [
      "WARNING: failed to interpret \"auto\" as type int in parameter \"VisualizeSourceBufferSize\"\n",
      "WARNING: failed to interpret \"1/2s\" as type float in parameter \"PreSequenceDuration\"\n",
      "WARNING: failed to interpret \"auto\" as type int in parameter \"VisualizeSourceBufferSize\"\n",
      "WARNING: failed to interpret \"1/2s\" as type float in parameter \"PreSequenceDuration\"\n"
     ]
    },
    {
     "name": "stdout",
     "output_type": "stream",
     "text": [
      "Actualized channel names to ['Fz', 'Fc1', 'Fc2', 'C3', 'Cz', 'C4', 'P3', 'Pz', 'P4', 'O1', 'Oz', 'O2']\n",
      "Rescaled signal to Volt (mean variance=5.344270067346862e-10)\n"
     ]
    },
    {
     "name": "stderr",
     "output_type": "stream",
     "text": [
      "WARNING: failed to interpret \"auto\" as type int in parameter \"VisualizeSourceBufferSize\"\n",
      "WARNING: failed to interpret \"1/2s\" as type float in parameter \"PreSequenceDuration\"\n"
     ]
    },
    {
     "name": "stdout",
     "output_type": "stream",
     "text": [
      "nb stimuli=256\n",
      "nb targets=64\n",
      "[ 1024 12800 24576 36352 48128 59904 71680 83456]\n",
      "[12799 24575 36351 48127 59903 71679 83455 95231]\n",
      "Extracted 8 trials\n",
      "Reading WT-tacCopy025\\WT-tacCopyS025R02.dat\n"
     ]
    },
    {
     "name": "stderr",
     "output_type": "stream",
     "text": [
      "WARNING: failed to interpret \"auto\" as type int in parameter \"VisualizeSourceBufferSize\"\n",
      "WARNING: failed to interpret \"1/2s\" as type float in parameter \"PreSequenceDuration\"\n",
      "WARNING: failed to interpret \"auto\" as type int in parameter \"VisualizeSourceBufferSize\"\n",
      "WARNING: failed to interpret \"1/2s\" as type float in parameter \"PreSequenceDuration\"\n"
     ]
    },
    {
     "name": "stdout",
     "output_type": "stream",
     "text": [
      "Actualized channel names to ['Fz', 'Fc1', 'Fc2', 'C3', 'Cz', 'C4', 'P3', 'Pz', 'P4', 'O1', 'Oz', 'O2']\n",
      "Rescaled signal to Volt (mean variance=5.780989955006811e-10)\n"
     ]
    },
    {
     "name": "stderr",
     "output_type": "stream",
     "text": [
      "WARNING: failed to interpret \"auto\" as type int in parameter \"VisualizeSourceBufferSize\"\n",
      "WARNING: failed to interpret \"1/2s\" as type float in parameter \"PreSequenceDuration\"\n"
     ]
    },
    {
     "name": "stdout",
     "output_type": "stream",
     "text": [
      "nb stimuli=256\n",
      "nb targets=64\n",
      "[ 1024 12800 24576 36352 48128 59904 71680 83456]\n",
      "[12799 24575 36351 48127 59903 71679 83455 95231]\n",
      "Extracted 8 trials\n",
      "Reading WT-tacCopy025\\WT-tacCopyS025R03.dat\n"
     ]
    },
    {
     "name": "stderr",
     "output_type": "stream",
     "text": [
      "WARNING: failed to interpret \"auto\" as type int in parameter \"VisualizeSourceBufferSize\"\n",
      "WARNING: failed to interpret \"1/2s\" as type float in parameter \"PreSequenceDuration\"\n",
      "WARNING: failed to interpret \"auto\" as type int in parameter \"VisualizeSourceBufferSize\"\n",
      "WARNING: failed to interpret \"1/2s\" as type float in parameter \"PreSequenceDuration\"\n"
     ]
    },
    {
     "name": "stdout",
     "output_type": "stream",
     "text": [
      "Actualized channel names to ['Fz', 'Fc1', 'Fc2', 'C3', 'Cz', 'C4', 'P3', 'Pz', 'P4', 'O1', 'Oz', 'O2']\n",
      "Rescaled signal to Volt (mean variance=5.917966417691586e-10)\n"
     ]
    },
    {
     "name": "stderr",
     "output_type": "stream",
     "text": [
      "WARNING: failed to interpret \"auto\" as type int in parameter \"VisualizeSourceBufferSize\"\n"
     ]
    },
    {
     "name": "stdout",
     "output_type": "stream",
     "text": [
      "nb stimuli=256\n",
      "nb targets=64\n",
      "[ 1024 12800 24576 36352 48128 59904 71680 83456]\n",
      "[12799 24575 36351 48127 59903 71679 83455 95231]\n",
      "Extracted 8 trials\n"
     ]
    },
    {
     "name": "stderr",
     "output_type": "stream",
     "text": [
      "WARNING: failed to interpret \"1/2s\" as type float in parameter \"PreSequenceDuration\"\n"
     ]
    },
    {
     "name": "stdout",
     "output_type": "stream",
     "text": [
      "Reading WT-tacCalib026\\WT-tacCalibS026R01.dat\n"
     ]
    },
    {
     "name": "stderr",
     "output_type": "stream",
     "text": [
      "WARNING: failed to interpret \"auto\" as type int in parameter \"VisualizeSourceBufferSize\"\n",
      "WARNING: failed to interpret \"1/2s\" as type float in parameter \"PreSequenceDuration\"\n",
      "WARNING: failed to interpret \"auto\" as type int in parameter \"VisualizeSourceBufferSize\"\n",
      "WARNING: failed to interpret \"1/2s\" as type float in parameter \"PreSequenceDuration\"\n"
     ]
    },
    {
     "name": "stdout",
     "output_type": "stream",
     "text": [
      "Actualized channel names to ['Fz', 'Fc1', 'Fc2', 'C3', 'Cz', 'C4', 'P3', 'Pz', 'P4', 'O1', 'Oz', 'O2']\n",
      "Rescaled signal to Volt (mean variance=2.093255825629592e-10)\n"
     ]
    },
    {
     "name": "stderr",
     "output_type": "stream",
     "text": [
      "WARNING: failed to interpret \"auto\" as type int in parameter \"VisualizeSourceBufferSize\"\n",
      "WARNING: failed to interpret \"1/2s\" as type float in parameter \"PreSequenceDuration\"\n"
     ]
    },
    {
     "name": "stdout",
     "output_type": "stream",
     "text": [
      "nb stimuli=320\n",
      "nb targets=80\n",
      "[ 1024 14784 28544 42304 56064 69824 83584 97344]\n",
      "[ 14783  28543  42303  56063  69823  83583  97343 111103]\n",
      "Extracted 8 trials\n",
      "Reading WT-tacCalib026\\WT-tacCalibS026R02.dat\n"
     ]
    },
    {
     "name": "stderr",
     "output_type": "stream",
     "text": [
      "WARNING: failed to interpret \"auto\" as type int in parameter \"VisualizeSourceBufferSize\"\n",
      "WARNING: failed to interpret \"1/2s\" as type float in parameter \"PreSequenceDuration\"\n",
      "WARNING: failed to interpret \"auto\" as type int in parameter \"VisualizeSourceBufferSize\"\n",
      "WARNING: failed to interpret \"1/2s\" as type float in parameter \"PreSequenceDuration\"\n"
     ]
    },
    {
     "name": "stdout",
     "output_type": "stream",
     "text": [
      "Actualized channel names to ['Fz', 'Fc1', 'Fc2', 'C3', 'Cz', 'C4', 'P3', 'Pz', 'P4', 'O1', 'Oz', 'O2']\n",
      "Rescaled signal to Volt (mean variance=1.7395495019505467e-10)\n"
     ]
    },
    {
     "name": "stderr",
     "output_type": "stream",
     "text": [
      "WARNING: failed to interpret \"auto\" as type int in parameter \"VisualizeSourceBufferSize\"\n",
      "WARNING: failed to interpret \"1/2s\" as type float in parameter \"PreSequenceDuration\"\n"
     ]
    },
    {
     "name": "stdout",
     "output_type": "stream",
     "text": [
      "nb stimuli=320\n",
      "nb targets=80\n",
      "[ 1024 14784 28544 42304 56064 69824 83584 97344]\n",
      "[ 14783  28543  42303  56063  69823  83583  97343 111103]\n",
      "Extracted 8 trials\n",
      "Reading WT-tacCalib026\\WT-tacCalibS026R03.dat\n"
     ]
    },
    {
     "name": "stderr",
     "output_type": "stream",
     "text": [
      "WARNING: failed to interpret \"auto\" as type int in parameter \"VisualizeSourceBufferSize\"\n",
      "WARNING: failed to interpret \"1/2s\" as type float in parameter \"PreSequenceDuration\"\n",
      "WARNING: failed to interpret \"auto\" as type int in parameter \"VisualizeSourceBufferSize\"\n",
      "WARNING: failed to interpret \"1/2s\" as type float in parameter \"PreSequenceDuration\"\n"
     ]
    },
    {
     "name": "stdout",
     "output_type": "stream",
     "text": [
      "Actualized channel names to ['Fz', 'Fc1', 'Fc2', 'C3', 'Cz', 'C4', 'P3', 'Pz', 'P4', 'O1', 'Oz', 'O2']\n",
      "Rescaled signal to Volt (mean variance=2.875272145558623e-10)\n"
     ]
    },
    {
     "name": "stderr",
     "output_type": "stream",
     "text": [
      "WARNING: failed to interpret \"auto\" as type int in parameter \"VisualizeSourceBufferSize\"\n",
      "WARNING: failed to interpret \"1/2s\" as type float in parameter \"PreSequenceDuration\"\n"
     ]
    },
    {
     "name": "stdout",
     "output_type": "stream",
     "text": [
      "nb stimuli=320\n",
      "nb targets=80\n",
      "[ 1024 14784 28544 42304 56064 69824 83584 97344]\n",
      "[ 14783  28543  42303  56063  69823  83583  97343 111103]\n",
      "Extracted 8 trials\n",
      "Reading WT-tacCopy026\\WT-tacCopyS026R01.dat\n"
     ]
    },
    {
     "name": "stderr",
     "output_type": "stream",
     "text": [
      "WARNING: failed to interpret \"auto\" as type int in parameter \"VisualizeSourceBufferSize\"\n",
      "WARNING: failed to interpret \"1/2s\" as type float in parameter \"PreSequenceDuration\"\n",
      "WARNING: failed to interpret \"auto\" as type int in parameter \"VisualizeSourceBufferSize\"\n",
      "WARNING: failed to interpret \"1/2s\" as type float in parameter \"PreSequenceDuration\"\n"
     ]
    },
    {
     "name": "stdout",
     "output_type": "stream",
     "text": [
      "Actualized channel names to ['Fz', 'Fc1', 'Fc2', 'C3', 'Cz', 'C4', 'P3', 'Pz', 'P4', 'O1', 'Oz', 'O2']\n",
      "Rescaled signal to Volt (mean variance=4.462381917088361e-10)\n"
     ]
    },
    {
     "name": "stderr",
     "output_type": "stream",
     "text": [
      "WARNING: failed to interpret \"auto\" as type int in parameter \"VisualizeSourceBufferSize\"\n",
      "WARNING: failed to interpret \"1/2s\" as type float in parameter \"PreSequenceDuration\"\n"
     ]
    },
    {
     "name": "stdout",
     "output_type": "stream",
     "text": [
      "nb stimuli=256\n",
      "nb targets=64\n",
      "[ 1024 12800 24576 36352 48128 59904 71680 83456]\n",
      "[12799 24575 36351 48127 59903 71679 83455 95231]\n",
      "Extracted 8 trials\n",
      "Reading WT-tacCopy026\\WT-tacCopyS026R02.dat\n"
     ]
    },
    {
     "name": "stderr",
     "output_type": "stream",
     "text": [
      "WARNING: failed to interpret \"auto\" as type int in parameter \"VisualizeSourceBufferSize\"\n",
      "WARNING: failed to interpret \"1/2s\" as type float in parameter \"PreSequenceDuration\"\n",
      "WARNING: failed to interpret \"auto\" as type int in parameter \"VisualizeSourceBufferSize\"\n",
      "WARNING: failed to interpret \"1/2s\" as type float in parameter \"PreSequenceDuration\"\n"
     ]
    },
    {
     "name": "stdout",
     "output_type": "stream",
     "text": [
      "Actualized channel names to ['Fz', 'Fc1', 'Fc2', 'C3', 'Cz', 'C4', 'P3', 'Pz', 'P4', 'O1', 'Oz', 'O2']\n",
      "Rescaled signal to Volt (mean variance=4.940358237753003e-10)\n"
     ]
    },
    {
     "name": "stderr",
     "output_type": "stream",
     "text": [
      "WARNING: failed to interpret \"auto\" as type int in parameter \"VisualizeSourceBufferSize\"\n",
      "WARNING: failed to interpret \"1/2s\" as type float in parameter \"PreSequenceDuration\"\n"
     ]
    },
    {
     "name": "stdout",
     "output_type": "stream",
     "text": [
      "nb stimuli=256\n",
      "nb targets=64\n",
      "[ 1024 12800 24576 36352 48128 59904 71680 83456]\n",
      "[12799 24575 36351 48127 59903 71679 83455 95231]\n",
      "Extracted 8 trials\n",
      "Reading WT-tacCopy026\\WT-tacCopyS026R03.dat\n"
     ]
    },
    {
     "name": "stderr",
     "output_type": "stream",
     "text": [
      "WARNING: failed to interpret \"auto\" as type int in parameter \"VisualizeSourceBufferSize\"\n",
      "WARNING: failed to interpret \"1/2s\" as type float in parameter \"PreSequenceDuration\"\n",
      "WARNING: failed to interpret \"auto\" as type int in parameter \"VisualizeSourceBufferSize\"\n",
      "WARNING: failed to interpret \"1/2s\" as type float in parameter \"PreSequenceDuration\"\n"
     ]
    },
    {
     "name": "stdout",
     "output_type": "stream",
     "text": [
      "Actualized channel names to ['Fz', 'Fc1', 'Fc2', 'C3', 'Cz', 'C4', 'P3', 'Pz', 'P4', 'O1', 'Oz', 'O2']\n",
      "Rescaled signal to Volt (mean variance=6.608963712408861e-10)\n"
     ]
    },
    {
     "name": "stderr",
     "output_type": "stream",
     "text": [
      "WARNING: failed to interpret \"auto\" as type int in parameter \"VisualizeSourceBufferSize\"\n"
     ]
    },
    {
     "name": "stdout",
     "output_type": "stream",
     "text": [
      "nb stimuli=256\n",
      "nb targets=64\n",
      "[ 1024 12800 24576 36352 48128 59904 71680 83456]\n",
      "[12799 24575 36351 48127 59903 71679 83455 95231]\n",
      "Extracted 8 trials\n"
     ]
    },
    {
     "name": "stderr",
     "output_type": "stream",
     "text": [
      "WARNING: failed to interpret \"1/2s\" as type float in parameter \"PreSequenceDuration\"\n"
     ]
    },
    {
     "name": "stdout",
     "output_type": "stream",
     "text": [
      "Reading WT-tacCalib027\\WT-tacCalibS027R01.dat\n"
     ]
    },
    {
     "name": "stderr",
     "output_type": "stream",
     "text": [
      "WARNING: failed to interpret \"auto\" as type int in parameter \"VisualizeSourceBufferSize\"\n",
      "WARNING: failed to interpret \"1/2s\" as type float in parameter \"PreSequenceDuration\"\n",
      "WARNING: failed to interpret \"auto\" as type int in parameter \"VisualizeSourceBufferSize\"\n",
      "WARNING: failed to interpret \"1/2s\" as type float in parameter \"PreSequenceDuration\"\n"
     ]
    },
    {
     "name": "stdout",
     "output_type": "stream",
     "text": [
      "Actualized channel names to ['Fz', 'Fc1', 'Fc2', 'C3', 'Cz', 'C4', 'P3', 'Pz', 'P4', 'O1', 'Oz', 'O2']\n",
      "Rescaled signal to Volt (mean variance=1.701779926887813e-10)\n"
     ]
    },
    {
     "name": "stderr",
     "output_type": "stream",
     "text": [
      "WARNING: failed to interpret \"auto\" as type int in parameter \"VisualizeSourceBufferSize\"\n",
      "WARNING: failed to interpret \"1/2s\" as type float in parameter \"PreSequenceDuration\"\n"
     ]
    },
    {
     "name": "stdout",
     "output_type": "stream",
     "text": [
      "nb stimuli=320\n",
      "nb targets=80\n",
      "[ 1024 14784 28544 42304 56064 69824 83584 97344]\n",
      "[ 14783  28543  42303  56063  69823  83583  97343 111103]\n",
      "Extracted 8 trials\n",
      "Reading WT-tacCalib027\\WT-tacCalibS027R02.dat\n"
     ]
    },
    {
     "name": "stderr",
     "output_type": "stream",
     "text": [
      "WARNING: failed to interpret \"auto\" as type int in parameter \"VisualizeSourceBufferSize\"\n",
      "WARNING: failed to interpret \"1/2s\" as type float in parameter \"PreSequenceDuration\"\n",
      "WARNING: failed to interpret \"auto\" as type int in parameter \"VisualizeSourceBufferSize\"\n",
      "WARNING: failed to interpret \"1/2s\" as type float in parameter \"PreSequenceDuration\"\n"
     ]
    },
    {
     "name": "stdout",
     "output_type": "stream",
     "text": [
      "Actualized channel names to ['Fz', 'Fc1', 'Fc2', 'C3', 'Cz', 'C4', 'P3', 'Pz', 'P4', 'O1', 'Oz', 'O2']\n",
      "Rescaled signal to Volt (mean variance=1.75629575230563e-10)\n"
     ]
    },
    {
     "name": "stderr",
     "output_type": "stream",
     "text": [
      "WARNING: failed to interpret \"auto\" as type int in parameter \"VisualizeSourceBufferSize\"\n",
      "WARNING: failed to interpret \"1/2s\" as type float in parameter \"PreSequenceDuration\"\n"
     ]
    },
    {
     "name": "stdout",
     "output_type": "stream",
     "text": [
      "nb stimuli=320\n",
      "nb targets=80\n",
      "[ 1024 14784 28544 42304 56064 69824 83584 97344]\n",
      "[ 14783  28543  42303  56063  69823  83583  97343 111103]\n",
      "Extracted 8 trials\n",
      "Reading WT-tacCalib027\\WT-tacCalibS027R03.dat\n"
     ]
    },
    {
     "name": "stderr",
     "output_type": "stream",
     "text": [
      "WARNING: failed to interpret \"auto\" as type int in parameter \"VisualizeSourceBufferSize\"\n",
      "WARNING: failed to interpret \"1/2s\" as type float in parameter \"PreSequenceDuration\"\n",
      "WARNING: failed to interpret \"auto\" as type int in parameter \"VisualizeSourceBufferSize\"\n",
      "WARNING: failed to interpret \"1/2s\" as type float in parameter \"PreSequenceDuration\"\n"
     ]
    },
    {
     "name": "stdout",
     "output_type": "stream",
     "text": [
      "Actualized channel names to ['Fz', 'Fc1', 'Fc2', 'C3', 'Cz', 'C4', 'P3', 'Pz', 'P4', 'O1', 'Oz', 'O2']\n",
      "Rescaled signal to Volt (mean variance=1.3750180744328524e-10)\n"
     ]
    },
    {
     "name": "stderr",
     "output_type": "stream",
     "text": [
      "WARNING: failed to interpret \"auto\" as type int in parameter \"VisualizeSourceBufferSize\"\n"
     ]
    },
    {
     "name": "stdout",
     "output_type": "stream",
     "text": [
      "nb stimuli=320\n",
      "nb targets=80\n",
      "[ 1024 14784 28544 42304 56064 69824 83584 97344]\n",
      "[ 14783  28543  42303  56063  69823  83583  97343 111103]\n",
      "Extracted 8 trials\n"
     ]
    },
    {
     "name": "stderr",
     "output_type": "stream",
     "text": [
      "WARNING: failed to interpret \"1/2s\" as type float in parameter \"PreSequenceDuration\"\n"
     ]
    },
    {
     "name": "stdout",
     "output_type": "stream",
     "text": [
      "Reading WT-tacCopy027\\WT-tacCopyS027R01.dat\n"
     ]
    },
    {
     "name": "stderr",
     "output_type": "stream",
     "text": [
      "WARNING: failed to interpret \"auto\" as type int in parameter \"VisualizeSourceBufferSize\"\n",
      "WARNING: failed to interpret \"1/2s\" as type float in parameter \"PreSequenceDuration\"\n",
      "WARNING: failed to interpret \"auto\" as type int in parameter \"VisualizeSourceBufferSize\"\n",
      "WARNING: failed to interpret \"1/2s\" as type float in parameter \"PreSequenceDuration\"\n"
     ]
    },
    {
     "name": "stdout",
     "output_type": "stream",
     "text": [
      "Actualized channel names to ['Fz', 'Fc1', 'Fc2', 'C3', 'Cz', 'C4', 'P3', 'Pz', 'P4', 'O1', 'Oz', 'O2']\n",
      "Rescaled signal to Volt (mean variance=3.556359491416335e-10)\n"
     ]
    },
    {
     "name": "stderr",
     "output_type": "stream",
     "text": [
      "WARNING: failed to interpret \"auto\" as type int in parameter \"VisualizeSourceBufferSize\"\n",
      "WARNING: failed to interpret \"1/2s\" as type float in parameter \"PreSequenceDuration\"\n"
     ]
    },
    {
     "name": "stdout",
     "output_type": "stream",
     "text": [
      "nb stimuli=256\n",
      "nb targets=64\n",
      "[ 1024 12800 24576 36352 48128 59904 71680 83456]\n",
      "[12799 24575 36351 48127 59903 71679 83455 95231]\n",
      "Extracted 8 trials\n",
      "Reading WT-tacCopy027\\WT-tacCopyS027R02.dat\n"
     ]
    },
    {
     "name": "stderr",
     "output_type": "stream",
     "text": [
      "WARNING: failed to interpret \"auto\" as type int in parameter \"VisualizeSourceBufferSize\"\n",
      "WARNING: failed to interpret \"1/2s\" as type float in parameter \"PreSequenceDuration\"\n",
      "WARNING: failed to interpret \"auto\" as type int in parameter \"VisualizeSourceBufferSize\"\n",
      "WARNING: failed to interpret \"1/2s\" as type float in parameter \"PreSequenceDuration\"\n"
     ]
    },
    {
     "name": "stdout",
     "output_type": "stream",
     "text": [
      "Actualized channel names to ['Fz', 'Fc1', 'Fc2', 'C3', 'Cz', 'C4', 'P3', 'Pz', 'P4', 'O1', 'Oz', 'O2']\n",
      "Rescaled signal to Volt (mean variance=3.6400451643538934e-10)\n"
     ]
    },
    {
     "name": "stderr",
     "output_type": "stream",
     "text": [
      "WARNING: failed to interpret \"auto\" as type int in parameter \"VisualizeSourceBufferSize\"\n",
      "WARNING: failed to interpret \"1/2s\" as type float in parameter \"PreSequenceDuration\"\n"
     ]
    },
    {
     "name": "stdout",
     "output_type": "stream",
     "text": [
      "nb stimuli=256\n",
      "nb targets=64\n",
      "[ 1024 12800 24576 36352 48128 59904 71680 83456]\n",
      "[12799 24575 36351 48127 59903 71679 83455 95231]\n",
      "Extracted 8 trials\n",
      "Reading WT-tacCopy027\\WT-tacCopyS027R03.dat\n"
     ]
    },
    {
     "name": "stderr",
     "output_type": "stream",
     "text": [
      "WARNING: failed to interpret \"auto\" as type int in parameter \"VisualizeSourceBufferSize\"\n",
      "WARNING: failed to interpret \"1/2s\" as type float in parameter \"PreSequenceDuration\"\n",
      "WARNING: failed to interpret \"auto\" as type int in parameter \"VisualizeSourceBufferSize\"\n",
      "WARNING: failed to interpret \"1/2s\" as type float in parameter \"PreSequenceDuration\"\n"
     ]
    },
    {
     "name": "stdout",
     "output_type": "stream",
     "text": [
      "Actualized channel names to ['Fz', 'Fc1', 'Fc2', 'C3', 'Cz', 'C4', 'P3', 'Pz', 'P4', 'O1', 'Oz', 'O2']\n",
      "Rescaled signal to Volt (mean variance=4.0221253385880495e-10)\n"
     ]
    },
    {
     "name": "stderr",
     "output_type": "stream",
     "text": [
      "WARNING: failed to interpret \"auto\" as type int in parameter \"VisualizeSourceBufferSize\"\n"
     ]
    },
    {
     "name": "stdout",
     "output_type": "stream",
     "text": [
      "nb stimuli=256\n",
      "nb targets=64\n",
      "[ 1024 12800 24576 36352 48128 59904 71680 83456]\n",
      "[12799 24575 36351 48127 59903 71679 83455 95231]\n",
      "Extracted 8 trials\n"
     ]
    },
    {
     "name": "stderr",
     "output_type": "stream",
     "text": [
      "WARNING: failed to interpret \"1/2s\" as type float in parameter \"PreSequenceDuration\"\n"
     ]
    },
    {
     "name": "stdout",
     "output_type": "stream",
     "text": [
      "Reading WT-tacCalib028\\WT-tacCalibS028R01.dat\n"
     ]
    },
    {
     "name": "stderr",
     "output_type": "stream",
     "text": [
      "WARNING: failed to interpret \"auto\" as type int in parameter \"VisualizeSourceBufferSize\"\n",
      "WARNING: failed to interpret \"1/2s\" as type float in parameter \"PreSequenceDuration\"\n",
      "WARNING: failed to interpret \"auto\" as type int in parameter \"VisualizeSourceBufferSize\"\n",
      "WARNING: failed to interpret \"1/2s\" as type float in parameter \"PreSequenceDuration\"\n"
     ]
    },
    {
     "name": "stdout",
     "output_type": "stream",
     "text": [
      "Actualized channel names to ['Fz', 'Fc1', 'Fc2', 'C3', 'Cz', 'C4', 'P3', 'Pz', 'P4', 'O1', 'Oz', 'O2']\n",
      "Rescaled signal to Volt (mean variance=2.0655056653562476e-10)\n"
     ]
    },
    {
     "name": "stderr",
     "output_type": "stream",
     "text": [
      "WARNING: failed to interpret \"auto\" as type int in parameter \"VisualizeSourceBufferSize\"\n",
      "WARNING: failed to interpret \"1/2s\" as type float in parameter \"PreSequenceDuration\"\n"
     ]
    },
    {
     "name": "stdout",
     "output_type": "stream",
     "text": [
      "nb stimuli=320\n",
      "nb targets=80\n",
      "[ 1024 14784 28544 42304 56064 69824 83584 97344]\n",
      "[ 14783  28543  42303  56063  69823  83583  97343 111103]\n",
      "Extracted 8 trials\n",
      "Reading WT-tacCalib028\\WT-tacCalibS028R02.dat\n"
     ]
    },
    {
     "name": "stderr",
     "output_type": "stream",
     "text": [
      "WARNING: failed to interpret \"auto\" as type int in parameter \"VisualizeSourceBufferSize\"\n",
      "WARNING: failed to interpret \"1/2s\" as type float in parameter \"PreSequenceDuration\"\n",
      "WARNING: failed to interpret \"auto\" as type int in parameter \"VisualizeSourceBufferSize\"\n",
      "WARNING: failed to interpret \"1/2s\" as type float in parameter \"PreSequenceDuration\"\n"
     ]
    },
    {
     "name": "stdout",
     "output_type": "stream",
     "text": [
      "Actualized channel names to ['Fz', 'Fc1', 'Fc2', 'C3', 'Cz', 'C4', 'P3', 'Pz', 'P4', 'O1', 'Oz', 'O2']\n",
      "Rescaled signal to Volt (mean variance=2.0693873934417138e-10)\n"
     ]
    },
    {
     "name": "stderr",
     "output_type": "stream",
     "text": [
      "WARNING: failed to interpret \"auto\" as type int in parameter \"VisualizeSourceBufferSize\"\n",
      "WARNING: failed to interpret \"1/2s\" as type float in parameter \"PreSequenceDuration\"\n"
     ]
    },
    {
     "name": "stdout",
     "output_type": "stream",
     "text": [
      "nb stimuli=320\n",
      "nb targets=80\n",
      "[ 1024 14784 28544 42304 56064 69824 83584 97344]\n",
      "[ 14783  28543  42303  56063  69823  83583  97343 111103]\n",
      "Extracted 8 trials\n",
      "Reading WT-tacCalib028\\WT-tacCalibS028R03.dat\n"
     ]
    },
    {
     "name": "stderr",
     "output_type": "stream",
     "text": [
      "WARNING: failed to interpret \"auto\" as type int in parameter \"VisualizeSourceBufferSize\"\n",
      "WARNING: failed to interpret \"1/2s\" as type float in parameter \"PreSequenceDuration\"\n",
      "WARNING: failed to interpret \"auto\" as type int in parameter \"VisualizeSourceBufferSize\"\n",
      "WARNING: failed to interpret \"1/2s\" as type float in parameter \"PreSequenceDuration\"\n"
     ]
    },
    {
     "name": "stdout",
     "output_type": "stream",
     "text": [
      "Actualized channel names to ['Fz', 'Fc1', 'Fc2', 'C3', 'Cz', 'C4', 'P3', 'Pz', 'P4', 'O1', 'Oz', 'O2']\n",
      "Rescaled signal to Volt (mean variance=1.4661954413776427e-10)\n",
      "nb stimuli=320\n",
      "nb targets=80\n",
      "[ 1024 14784 28544 42304 56064 69824 83584 97344]\n",
      "[ 14783  28543  42303  56063  69823  83583  97343 111103]\n",
      "Extracted 8 trials\n"
     ]
    },
    {
     "name": "stderr",
     "output_type": "stream",
     "text": [
      "WARNING: failed to interpret \"auto\" as type int in parameter \"VisualizeSourceBufferSize\"\n",
      "WARNING: failed to interpret \"1/2s\" as type float in parameter \"PreSequenceDuration\"\n"
     ]
    },
    {
     "name": "stdout",
     "output_type": "stream",
     "text": [
      "Reading WT-tacCopy028\\WT-tacCopyS028R01.dat\n"
     ]
    },
    {
     "name": "stderr",
     "output_type": "stream",
     "text": [
      "WARNING: failed to interpret \"auto\" as type int in parameter \"VisualizeSourceBufferSize\"\n",
      "WARNING: failed to interpret \"1/2s\" as type float in parameter \"PreSequenceDuration\"\n",
      "WARNING: failed to interpret \"auto\" as type int in parameter \"VisualizeSourceBufferSize\"\n",
      "WARNING: failed to interpret \"1/2s\" as type float in parameter \"PreSequenceDuration\"\n"
     ]
    },
    {
     "name": "stdout",
     "output_type": "stream",
     "text": [
      "Actualized channel names to ['Fz', 'Fc1', 'Fc2', 'C3', 'Cz', 'C4', 'P3', 'Pz', 'P4', 'O1', 'Oz', 'O2']\n",
      "Rescaled signal to Volt (mean variance=4.996021135840506e-10)\n"
     ]
    },
    {
     "name": "stderr",
     "output_type": "stream",
     "text": [
      "WARNING: failed to interpret \"auto\" as type int in parameter \"VisualizeSourceBufferSize\"\n",
      "WARNING: failed to interpret \"1/2s\" as type float in parameter \"PreSequenceDuration\"\n"
     ]
    },
    {
     "name": "stdout",
     "output_type": "stream",
     "text": [
      "nb stimuli=256\n",
      "nb targets=64\n",
      "[ 1024 12800 24576 36352 48128 59904 71680 83456]\n",
      "[12799 24575 36351 48127 59903 71679 83455 95231]\n",
      "Extracted 8 trials\n",
      "Reading WT-tacCopy028\\WT-tacCopyS028R02.dat\n"
     ]
    },
    {
     "name": "stderr",
     "output_type": "stream",
     "text": [
      "WARNING: failed to interpret \"auto\" as type int in parameter \"VisualizeSourceBufferSize\"\n",
      "WARNING: failed to interpret \"1/2s\" as type float in parameter \"PreSequenceDuration\"\n",
      "WARNING: failed to interpret \"auto\" as type int in parameter \"VisualizeSourceBufferSize\"\n",
      "WARNING: failed to interpret \"1/2s\" as type float in parameter \"PreSequenceDuration\"\n"
     ]
    },
    {
     "name": "stdout",
     "output_type": "stream",
     "text": [
      "Actualized channel names to ['Fz', 'Fc1', 'Fc2', 'C3', 'Cz', 'C4', 'P3', 'Pz', 'P4', 'O1', 'Oz', 'O2']\n",
      "Rescaled signal to Volt (mean variance=4.802309569096259e-10)\n"
     ]
    },
    {
     "name": "stderr",
     "output_type": "stream",
     "text": [
      "WARNING: failed to interpret \"auto\" as type int in parameter \"VisualizeSourceBufferSize\"\n",
      "WARNING: failed to interpret \"1/2s\" as type float in parameter \"PreSequenceDuration\"\n"
     ]
    },
    {
     "name": "stdout",
     "output_type": "stream",
     "text": [
      "nb stimuli=256\n",
      "nb targets=64\n",
      "[ 1024 12800 24576 36352 48128 59904 71680 83456]\n",
      "[12799 24575 36351 48127 59903 71679 83455 95231]\n",
      "Extracted 8 trials\n",
      "Reading WT-tacCopy028\\WT-tacCopyS028R03.dat\n"
     ]
    },
    {
     "name": "stderr",
     "output_type": "stream",
     "text": [
      "WARNING: failed to interpret \"auto\" as type int in parameter \"VisualizeSourceBufferSize\"\n",
      "WARNING: failed to interpret \"1/2s\" as type float in parameter \"PreSequenceDuration\"\n",
      "WARNING: failed to interpret \"auto\" as type int in parameter \"VisualizeSourceBufferSize\"\n",
      "WARNING: failed to interpret \"1/2s\" as type float in parameter \"PreSequenceDuration\"\n"
     ]
    },
    {
     "name": "stdout",
     "output_type": "stream",
     "text": [
      "Actualized channel names to ['Fz', 'Fc1', 'Fc2', 'C3', 'Cz', 'C4', 'P3', 'Pz', 'P4', 'O1', 'Oz', 'O2']\n",
      "Rescaled signal to Volt (mean variance=3.435433193238076e-10)\n"
     ]
    },
    {
     "name": "stderr",
     "output_type": "stream",
     "text": [
      "WARNING: failed to interpret \"auto\" as type int in parameter \"VisualizeSourceBufferSize\"\n",
      "WARNING: failed to interpret \"1/2s\" as type float in parameter \"PreSequenceDuration\"\n"
     ]
    },
    {
     "name": "stdout",
     "output_type": "stream",
     "text": [
      "nb stimuli=256\n",
      "nb targets=64\n",
      "[ 1024 12800 24576 36352 48128 59904 71680 83456]\n",
      "[12799 24575 36351 48127 59903 71679 83455 95231]\n",
      "Extracted 8 trials\n",
      "Reading WT-tacCalib029\\WT-tacCalibS029R01.dat\n"
     ]
    },
    {
     "name": "stderr",
     "output_type": "stream",
     "text": [
      "WARNING: failed to interpret \"auto\" as type int in parameter \"VisualizeSourceBufferSize\"\n",
      "WARNING: failed to interpret \"1/2s\" as type float in parameter \"PreSequenceDuration\"\n",
      "WARNING: failed to interpret \"auto\" as type int in parameter \"VisualizeSourceBufferSize\"\n",
      "WARNING: failed to interpret \"1/2s\" as type float in parameter \"PreSequenceDuration\"\n"
     ]
    },
    {
     "name": "stdout",
     "output_type": "stream",
     "text": [
      "Actualized channel names to ['Fz', 'Fc1', 'Fc2', 'C3', 'Cz', 'C4', 'P3', 'Pz', 'P4', 'O1', 'Oz', 'O2']\n",
      "Rescaled signal to Volt (mean variance=2.8076596685384004e-10)\n"
     ]
    },
    {
     "name": "stderr",
     "output_type": "stream",
     "text": [
      "WARNING: failed to interpret \"auto\" as type int in parameter \"VisualizeSourceBufferSize\"\n",
      "WARNING: failed to interpret \"1/2s\" as type float in parameter \"PreSequenceDuration\"\n"
     ]
    },
    {
     "name": "stdout",
     "output_type": "stream",
     "text": [
      "nb stimuli=320\n",
      "nb targets=80\n",
      "[ 1024 14784 28544 42304 56064 69824 83584 97344]\n",
      "[ 14783  28543  42303  56063  69823  83583  97343 111103]\n",
      "Extracted 8 trials\n",
      "Reading WT-tacCalib029\\WT-tacCalibS029R02.dat\n"
     ]
    },
    {
     "name": "stderr",
     "output_type": "stream",
     "text": [
      "WARNING: failed to interpret \"auto\" as type int in parameter \"VisualizeSourceBufferSize\"\n",
      "WARNING: failed to interpret \"1/2s\" as type float in parameter \"PreSequenceDuration\"\n",
      "WARNING: failed to interpret \"auto\" as type int in parameter \"VisualizeSourceBufferSize\"\n",
      "WARNING: failed to interpret \"1/2s\" as type float in parameter \"PreSequenceDuration\"\n"
     ]
    },
    {
     "name": "stdout",
     "output_type": "stream",
     "text": [
      "Actualized channel names to ['Fz', 'Fc1', 'Fc2', 'C3', 'Cz', 'C4', 'P3', 'Pz', 'P4', 'O1', 'Oz', 'O2']\n",
      "Rescaled signal to Volt (mean variance=2.7904803340340355e-10)\n"
     ]
    },
    {
     "name": "stderr",
     "output_type": "stream",
     "text": [
      "WARNING: failed to interpret \"auto\" as type int in parameter \"VisualizeSourceBufferSize\"\n",
      "WARNING: failed to interpret \"1/2s\" as type float in parameter \"PreSequenceDuration\"\n"
     ]
    },
    {
     "name": "stdout",
     "output_type": "stream",
     "text": [
      "nb stimuli=320\n",
      "nb targets=80\n",
      "[ 1024 14784 28544 42304 56064 69824 83584 97344]\n",
      "[ 14783  28543  42303  56063  69823  83583  97343 111103]\n",
      "Extracted 8 trials\n",
      "Reading WT-tacCalib029\\WT-tacCalibS029R03.dat\n"
     ]
    },
    {
     "name": "stderr",
     "output_type": "stream",
     "text": [
      "WARNING: failed to interpret \"auto\" as type int in parameter \"VisualizeSourceBufferSize\"\n",
      "WARNING: failed to interpret \"1/2s\" as type float in parameter \"PreSequenceDuration\"\n",
      "WARNING: failed to interpret \"auto\" as type int in parameter \"VisualizeSourceBufferSize\"\n",
      "WARNING: failed to interpret \"1/2s\" as type float in parameter \"PreSequenceDuration\"\n"
     ]
    },
    {
     "name": "stdout",
     "output_type": "stream",
     "text": [
      "Actualized channel names to ['Fz', 'Fc1', 'Fc2', 'C3', 'Cz', 'C4', 'P3', 'Pz', 'P4', 'O1', 'Oz', 'O2']\n",
      "Rescaled signal to Volt (mean variance=1.958264714848624e-10)\n"
     ]
    },
    {
     "name": "stderr",
     "output_type": "stream",
     "text": [
      "WARNING: failed to interpret \"auto\" as type int in parameter \"VisualizeSourceBufferSize\"\n"
     ]
    },
    {
     "name": "stdout",
     "output_type": "stream",
     "text": [
      "nb stimuli=320\n",
      "nb targets=80\n",
      "[ 1024 14784 28544 42304 56064 69824 83584 97344]\n",
      "[ 14783  28543  42303  56063  69823  83583  97343 111103]\n",
      "Extracted 8 trials\n"
     ]
    },
    {
     "name": "stderr",
     "output_type": "stream",
     "text": [
      "WARNING: failed to interpret \"1/2s\" as type float in parameter \"PreSequenceDuration\"\n"
     ]
    },
    {
     "name": "stdout",
     "output_type": "stream",
     "text": [
      "Reading WT-tacCopy029\\WT-tacCopyS029R01.dat\n"
     ]
    },
    {
     "name": "stderr",
     "output_type": "stream",
     "text": [
      "WARNING: failed to interpret \"auto\" as type int in parameter \"VisualizeSourceBufferSize\"\n",
      "WARNING: failed to interpret \"1/2s\" as type float in parameter \"PreSequenceDuration\"\n",
      "WARNING: failed to interpret \"auto\" as type int in parameter \"VisualizeSourceBufferSize\"\n",
      "WARNING: failed to interpret \"1/2s\" as type float in parameter \"PreSequenceDuration\"\n"
     ]
    },
    {
     "name": "stdout",
     "output_type": "stream",
     "text": [
      "Actualized channel names to ['Fz', 'Fc1', 'Fc2', 'C3', 'Cz', 'C4', 'P3', 'Pz', 'P4', 'O1', 'Oz', 'O2']\n",
      "Rescaled signal to Volt (mean variance=5.307962834552195e-10)\n"
     ]
    },
    {
     "name": "stderr",
     "output_type": "stream",
     "text": [
      "WARNING: failed to interpret \"auto\" as type int in parameter \"VisualizeSourceBufferSize\"\n",
      "WARNING: failed to interpret \"1/2s\" as type float in parameter \"PreSequenceDuration\"\n"
     ]
    },
    {
     "name": "stdout",
     "output_type": "stream",
     "text": [
      "nb stimuli=256\n",
      "nb targets=64\n",
      "[ 1024 12800 24576 36352 48128 59904 71680 83456]\n",
      "[12799 24575 36351 48127 59903 71679 83455 95231]\n",
      "Extracted 8 trials\n",
      "Reading WT-tacCopy029\\WT-tacCopyS029R02.dat\n"
     ]
    },
    {
     "name": "stderr",
     "output_type": "stream",
     "text": [
      "WARNING: failed to interpret \"auto\" as type int in parameter \"VisualizeSourceBufferSize\"\n",
      "WARNING: failed to interpret \"1/2s\" as type float in parameter \"PreSequenceDuration\"\n",
      "WARNING: failed to interpret \"auto\" as type int in parameter \"VisualizeSourceBufferSize\"\n",
      "WARNING: failed to interpret \"1/2s\" as type float in parameter \"PreSequenceDuration\"\n"
     ]
    },
    {
     "name": "stdout",
     "output_type": "stream",
     "text": [
      "Actualized channel names to ['Fz', 'Fc1', 'Fc2', 'C3', 'Cz', 'C4', 'P3', 'Pz', 'P4', 'O1', 'Oz', 'O2']\n",
      "Rescaled signal to Volt (mean variance=5.256972573221291e-10)\n"
     ]
    },
    {
     "name": "stderr",
     "output_type": "stream",
     "text": [
      "WARNING: failed to interpret \"auto\" as type int in parameter \"VisualizeSourceBufferSize\"\n",
      "WARNING: failed to interpret \"1/2s\" as type float in parameter \"PreSequenceDuration\"\n"
     ]
    },
    {
     "name": "stdout",
     "output_type": "stream",
     "text": [
      "nb stimuli=256\n",
      "nb targets=64\n",
      "[ 1024 12800 24576 36352 48128 59904 71680 83456]\n",
      "[12799 24575 36351 48127 59903 71679 83455 95231]\n",
      "Extracted 8 trials\n",
      "Reading WT-tacCopy029\\WT-tacCopyS029R03.dat\n"
     ]
    },
    {
     "name": "stderr",
     "output_type": "stream",
     "text": [
      "WARNING: failed to interpret \"auto\" as type int in parameter \"VisualizeSourceBufferSize\"\n",
      "WARNING: failed to interpret \"1/2s\" as type float in parameter \"PreSequenceDuration\"\n",
      "WARNING: failed to interpret \"auto\" as type int in parameter \"VisualizeSourceBufferSize\"\n",
      "WARNING: failed to interpret \"1/2s\" as type float in parameter \"PreSequenceDuration\"\n"
     ]
    },
    {
     "name": "stdout",
     "output_type": "stream",
     "text": [
      "Actualized channel names to ['Fz', 'Fc1', 'Fc2', 'C3', 'Cz', 'C4', 'P3', 'Pz', 'P4', 'O1', 'Oz', 'O2']\n",
      "Rescaled signal to Volt (mean variance=5.268346375179187e-10)\n"
     ]
    },
    {
     "name": "stderr",
     "output_type": "stream",
     "text": [
      "WARNING: failed to interpret \"auto\" as type int in parameter \"VisualizeSourceBufferSize\"\n",
      "WARNING: failed to interpret \"1/2s\" as type float in parameter \"PreSequenceDuration\"\n"
     ]
    },
    {
     "name": "stdout",
     "output_type": "stream",
     "text": [
      "nb stimuli=256\n",
      "nb targets=64\n",
      "[ 1024 12800 24576 36352 48128 59904 71680 83456]\n",
      "[12799 24575 36351 48127 59903 71679 83455 95231]\n",
      "Extracted 8 trials\n",
      "Reading WT-tacCalib030\\WT-tacCalibS030R01.dat\n"
     ]
    },
    {
     "name": "stderr",
     "output_type": "stream",
     "text": [
      "WARNING: failed to interpret \"auto\" as type int in parameter \"VisualizeSourceBufferSize\"\n",
      "WARNING: failed to interpret \"1/2s\" as type float in parameter \"PreSequenceDuration\"\n",
      "WARNING: failed to interpret \"auto\" as type int in parameter \"VisualizeSourceBufferSize\"\n",
      "WARNING: failed to interpret \"1/2s\" as type float in parameter \"PreSequenceDuration\"\n"
     ]
    },
    {
     "name": "stdout",
     "output_type": "stream",
     "text": [
      "Actualized channel names to ['Fz', 'Fc1', 'Fc2', 'C3', 'Cz', 'C4', 'P3', 'Pz', 'P4', 'O1', 'Oz', 'O2']\n",
      "Rescaled signal to Volt (mean variance=5.084083703004667e-10)\n"
     ]
    },
    {
     "name": "stderr",
     "output_type": "stream",
     "text": [
      "WARNING: failed to interpret \"auto\" as type int in parameter \"VisualizeSourceBufferSize\"\n",
      "WARNING: failed to interpret \"1/2s\" as type float in parameter \"PreSequenceDuration\"\n"
     ]
    },
    {
     "name": "stdout",
     "output_type": "stream",
     "text": [
      "nb stimuli=320\n",
      "nb targets=80\n",
      "[ 1024 14784 28544 42304 56064 69824 83584 97344]\n",
      "[ 14783  28543  42303  56063  69823  83583  97343 111103]\n",
      "Extracted 8 trials\n",
      "Reading WT-tacCalib030\\WT-tacCalibS030R02.dat\n"
     ]
    },
    {
     "name": "stderr",
     "output_type": "stream",
     "text": [
      "WARNING: failed to interpret \"auto\" as type int in parameter \"VisualizeSourceBufferSize\"\n",
      "WARNING: failed to interpret \"1/2s\" as type float in parameter \"PreSequenceDuration\"\n",
      "WARNING: failed to interpret \"auto\" as type int in parameter \"VisualizeSourceBufferSize\"\n",
      "WARNING: failed to interpret \"1/2s\" as type float in parameter \"PreSequenceDuration\"\n"
     ]
    },
    {
     "name": "stdout",
     "output_type": "stream",
     "text": [
      "Actualized channel names to ['Fz', 'Fc1', 'Fc2', 'C3', 'Cz', 'C4', 'P3', 'Pz', 'P4', 'O1', 'Oz', 'O2']\n",
      "Rescaled signal to Volt (mean variance=5.087111280560353e-10)\n"
     ]
    },
    {
     "name": "stderr",
     "output_type": "stream",
     "text": [
      "WARNING: failed to interpret \"auto\" as type int in parameter \"VisualizeSourceBufferSize\"\n",
      "WARNING: failed to interpret \"1/2s\" as type float in parameter \"PreSequenceDuration\"\n"
     ]
    },
    {
     "name": "stdout",
     "output_type": "stream",
     "text": [
      "nb stimuli=320\n",
      "nb targets=80\n",
      "[ 1024 14784 28544 42304 56064 69824 83584 97344]\n",
      "[ 14783  28543  42303  56063  69823  83583  97343 111103]\n",
      "Extracted 8 trials\n",
      "Reading WT-tacCalib030\\WT-tacCalibS030R03.dat\n"
     ]
    },
    {
     "name": "stderr",
     "output_type": "stream",
     "text": [
      "WARNING: failed to interpret \"auto\" as type int in parameter \"VisualizeSourceBufferSize\"\n",
      "WARNING: failed to interpret \"1/2s\" as type float in parameter \"PreSequenceDuration\"\n",
      "WARNING: failed to interpret \"auto\" as type int in parameter \"VisualizeSourceBufferSize\"\n",
      "WARNING: failed to interpret \"1/2s\" as type float in parameter \"PreSequenceDuration\"\n"
     ]
    },
    {
     "name": "stdout",
     "output_type": "stream",
     "text": [
      "Actualized channel names to ['Fz', 'Fc1', 'Fc2', 'C3', 'Cz', 'C4', 'P3', 'Pz', 'P4', 'O1', 'Oz', 'O2']\n",
      "Rescaled signal to Volt (mean variance=2.9145967501648906e-10)\n"
     ]
    },
    {
     "name": "stderr",
     "output_type": "stream",
     "text": [
      "WARNING: failed to interpret \"auto\" as type int in parameter \"VisualizeSourceBufferSize\"\n"
     ]
    },
    {
     "name": "stdout",
     "output_type": "stream",
     "text": [
      "nb stimuli=320\n",
      "nb targets=80\n",
      "[ 1024 14784 28544 42304 56064 69824 83584 97344]\n",
      "[ 14783  28543  42303  56063  69823  83583  97343 111103]\n",
      "Extracted 8 trials\n"
     ]
    },
    {
     "name": "stderr",
     "output_type": "stream",
     "text": [
      "WARNING: failed to interpret \"1/2s\" as type float in parameter \"PreSequenceDuration\"\n"
     ]
    },
    {
     "name": "stdout",
     "output_type": "stream",
     "text": [
      "Reading WT-tacCopy030\\WT-tacCopyS030R01.dat\n"
     ]
    },
    {
     "name": "stderr",
     "output_type": "stream",
     "text": [
      "WARNING: failed to interpret \"auto\" as type int in parameter \"VisualizeSourceBufferSize\"\n",
      "WARNING: failed to interpret \"1/2s\" as type float in parameter \"PreSequenceDuration\"\n",
      "WARNING: failed to interpret \"auto\" as type int in parameter \"VisualizeSourceBufferSize\"\n",
      "WARNING: failed to interpret \"1/2s\" as type float in parameter \"PreSequenceDuration\"\n"
     ]
    },
    {
     "name": "stdout",
     "output_type": "stream",
     "text": [
      "Actualized channel names to ['Fz', 'Fc1', 'Fc2', 'C3', 'Cz', 'C4', 'P3', 'Pz', 'P4', 'O1', 'Oz', 'O2']\n",
      "Rescaled signal to Volt (mean variance=1.0178784669897086e-09)\n"
     ]
    },
    {
     "name": "stderr",
     "output_type": "stream",
     "text": [
      "WARNING: failed to interpret \"auto\" as type int in parameter \"VisualizeSourceBufferSize\"\n",
      "WARNING: failed to interpret \"1/2s\" as type float in parameter \"PreSequenceDuration\"\n"
     ]
    },
    {
     "name": "stdout",
     "output_type": "stream",
     "text": [
      "nb stimuli=256\n",
      "nb targets=64\n",
      "[ 1024 12800 24576 36352 48128 59904 71680 83456]\n",
      "[12799 24575 36351 48127 59903 71679 83455 95231]\n",
      "Extracted 8 trials\n",
      "Reading WT-tacCopy030\\WT-tacCopyS030R02.dat\n"
     ]
    },
    {
     "name": "stderr",
     "output_type": "stream",
     "text": [
      "WARNING: failed to interpret \"auto\" as type int in parameter \"VisualizeSourceBufferSize\"\n",
      "WARNING: failed to interpret \"1/2s\" as type float in parameter \"PreSequenceDuration\"\n",
      "WARNING: failed to interpret \"auto\" as type int in parameter \"VisualizeSourceBufferSize\"\n",
      "WARNING: failed to interpret \"1/2s\" as type float in parameter \"PreSequenceDuration\"\n"
     ]
    },
    {
     "name": "stdout",
     "output_type": "stream",
     "text": [
      "Actualized channel names to ['Fz', 'Fc1', 'Fc2', 'C3', 'Cz', 'C4', 'P3', 'Pz', 'P4', 'O1', 'Oz', 'O2']\n",
      "Rescaled signal to Volt (mean variance=7.60117377093259e-10)\n"
     ]
    },
    {
     "name": "stderr",
     "output_type": "stream",
     "text": [
      "WARNING: failed to interpret \"auto\" as type int in parameter \"VisualizeSourceBufferSize\"\n",
      "WARNING: failed to interpret \"1/2s\" as type float in parameter \"PreSequenceDuration\"\n"
     ]
    },
    {
     "name": "stdout",
     "output_type": "stream",
     "text": [
      "nb stimuli=256\n",
      "nb targets=64\n",
      "[ 1024 12800 24576 36352 48128 59904 71680 83456]\n",
      "[12799 24575 36351 48127 59903 71679 83455 95231]\n",
      "Extracted 8 trials\n",
      "Reading WT-tacCopy030\\WT-tacCopyS030R03.dat\n"
     ]
    },
    {
     "name": "stderr",
     "output_type": "stream",
     "text": [
      "WARNING: failed to interpret \"auto\" as type int in parameter \"VisualizeSourceBufferSize\"\n",
      "WARNING: failed to interpret \"1/2s\" as type float in parameter \"PreSequenceDuration\"\n",
      "WARNING: failed to interpret \"auto\" as type int in parameter \"VisualizeSourceBufferSize\"\n",
      "WARNING: failed to interpret \"1/2s\" as type float in parameter \"PreSequenceDuration\"\n"
     ]
    },
    {
     "name": "stdout",
     "output_type": "stream",
     "text": [
      "Actualized channel names to ['Fz', 'Fc1', 'Fc2', 'C3', 'Cz', 'C4', 'P3', 'Pz', 'P4', 'O1', 'Oz', 'O2']\n",
      "Rescaled signal to Volt (mean variance=6.389175140443445e-10)\n",
      "nb stimuli=256\n",
      "nb targets=64\n",
      "[ 1024 12800 24576 36352 48128 59904 71680 83456]\n",
      "[12799 24575 36351 48127 59903 71679 83455 95231]\n",
      "Extracted 8 trials\n"
     ]
    }
   ],
   "source": [
    "stimulus_padding  = 100\n",
    "old_cnames = [\"Fz\",\"Fc1\",\"Fc2\",\"C3\",\"Cz\",\"C4\",\"P3\",\"Pz\",\"P4\",\"O1\",\"Oz\",\"O2\"]\n",
    "new_cnames = [\"Fz\",\"Fc1\",\"Fc2\",\"C3\",\"C1\",\"Cz\",\"C2\",\"C4\",\"Cp1\",\"Cpz\",\"Cp2\",\"Pz\"] # changed on 12.12.20 (sess021)\n",
    "CNAMES = dict(zip(old_cnames,new_cnames))\n",
    "os.chdir(r\"G:\\Meine Ablage\\PhD\\P300\\Data\\dat_files\")\n",
    "session_list = list(range(1,31)) #.append(\"all\")\n",
    "pickle_path = r\"G:\\Meine Ablage\\PhD\\P300\\Data\\mne_raw\" \n",
    "for sess in range(1,31):\n",
    "    for mode in [\"Calib\",\"Copy\"]:\n",
    "        fnames = [i for i in glob.glob(\"WT-tac\"+mode+f\"{sess:03}\"+\"\\WT-tac\"+mode+\"S*\"+f\"{sess:03}\"+\"R*.dat\")] #WT-tac___S___R____.dat\n",
    "        if len(fnames)!=3: # check if all trials are there, if not exclude session\n",
    "            print(\"ATTENTION__________________________________ Something wrong with session {}\".format(sess))\n",
    "        signal_with_matrix_params = load_bci2k(fnames,verbose=False)\n",
    "        #print(\"Using from parameters n_rows={}, n_cols={}, n_seq={}\".format(nb_stimlus_rows, nb_stimulus_cols, nb_seq))\n",
    "        extension = mode+\"_S\"+str(sess).zfill(3)+\"_4tac.pickle\"\n",
    "        with open(os.path.join(pickle_path,extension), \"wb\") as file:\n",
    "            pickle.dump(signal_with_matrix_params, file)"
   ]
  },
  {
   "cell_type": "code",
   "execution_count": 25,
   "id": "889615e4",
   "metadata": {
    "scrolled": false
   },
   "outputs": [
    {
     "name": "stdout",
     "output_type": "stream",
     "text": [
      "<RawArray | WT-tacCopyS030R03.dat, 12 x 96256 (188.0 s), ~8.8 MB, data loaded>\n",
      "ch  name  type  unit       min        Q1    median        Q3       max\n",
      " 0  Fz    EEG   µV     -173.28    -20.53      0.36     22.97    315.81\n",
      " 1  Fc1   EEG   µV     -138.47    -14.42      0.46     15.87    219.78\n",
      " 2  Fc2   EEG   µV     -114.68    -13.43      0.20     14.52    196.91\n",
      " 3  C3    EEG   µV     -116.85    -12.34      0.13     11.58    181.47\n",
      " 4  Cz    EEG   µV      -96.79    -10.66      0.30     11.48    157.01\n",
      " 5  C4    EEG   µV     -151.04    -10.69      0.26     10.92    142.07\n",
      " 6  P3    EEG   µV      -88.67     -9.21      0.03      8.48    130.55\n",
      " 7  Pz    EEG   µV      -83.56     -9.17      0.30      9.31    122.56\n",
      " 8  P4    EEG   µV      -75.01     -8.71      0.16      8.58    113.75\n",
      " 9  O1    EEG   µV     -142.13     -7.99     -0.20      7.33    102.99\n",
      "10  Oz    EEG   µV      -72.40     -7.36      0.16      7.16     96.46\n",
      "11  O2    EEG   µV     -113.59     -7.19      0.03      6.90     91.64\n"
     ]
    }
   ],
   "source": [
    "signal_with_matrix_params[0][2].describe()"
   ]
  },
  {
   "cell_type": "markdown",
   "source": [],
   "metadata": {
    "collapsed": false
   }
  },
  {
   "cell_type": "code",
   "execution_count": null,
   "outputs": [],
   "source": [],
   "metadata": {
    "collapsed": false,
    "pycharm": {
     "name": "#%%\n"
    }
   }
  }
 ],
 "metadata": {
  "kernelspec": {
   "display_name": "Python 3 (ipykernel)",
   "language": "python",
   "name": "python3"
  },
  "language_info": {
   "codemirror_mode": {
    "name": "ipython",
    "version": 3
   },
   "file_extension": ".py",
   "mimetype": "text/x-python",
   "name": "python",
   "nbconvert_exporter": "python",
   "pygments_lexer": "ipython3",
   "version": "3.7.13"
  }
 },
 "nbformat": 4,
 "nbformat_minor": 5
}