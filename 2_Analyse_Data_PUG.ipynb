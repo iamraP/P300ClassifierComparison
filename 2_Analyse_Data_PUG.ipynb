{
 "cells": [
  {
   "cell_type": "code",
   "execution_count": 39,
   "id": "3254ccfc",
   "metadata": {},
   "outputs": [],
   "source": [
    "from sklearn.decomposition import PCA\n",
    "import data_prep as dp\n",
    "import matplotlib.pyplot as plt\n",
    "import statistics\n",
    "from sklearn.discriminant_analysis import LinearDiscriminantAnalysis\n",
    "from sklearn.linear_model import LinearRegression\n",
    "import datetime as dt\n",
    "import statsmodels.api as sm\n",
    "import numpy as np\n",
    "import pandas as pd\n",
    "import scipy\n",
    "import pickle\n",
    "\n",
    "\n",
    "def itr(ac):\n",
    "    itr = (np.log2(6)+ ac*np.log2(ac)+ (1-ac)* np.log2((1-ac)/(6-1)))*10\n",
    "    return itr\n",
    "\n",
    "\n",
    "\n",
    "pd.set_option('display.max_columns', 1500) \n",
    "pd.set_option('display.max_rows', 1500) "
   ]
  },
  {
   "cell_type": "code",
   "execution_count": 19,
   "id": "41899a9e",
   "metadata": {},
   "outputs": [
    {
     "name": "stdout",
     "output_type": "stream",
     "text": [
      "Collecting openpyxl\n",
      "  Downloading openpyxl-3.0.9-py2.py3-none-any.whl (242 kB)\n",
      "Collecting et-xmlfile\n",
      "  Downloading et_xmlfile-1.1.0-py3-none-any.whl (4.7 kB)\n",
      "Installing collected packages: et-xmlfile, openpyxl\n",
      "Successfully installed et-xmlfile-1.1.0 openpyxl-3.0.9\n"
     ]
    }
   ],
   "source": [
    "!pip install openpyxl"
   ]
  },
  {
   "cell_type": "code",
   "execution_count": 304,
   "id": "469cb5d6",
   "metadata": {},
   "outputs": [],
   "source": [
    "def boxplot_accuracy(data,name:str):\n",
    "    means = data.loc[(data.Ep2Avg==8)].groupby(\"Classifier\").mean()[\"Accuracy\"].to_list()\n",
    "    names = data.loc[(data.Ep2Avg==8)].groupby(\"Classifier\").mean().index.to_list()\n",
    "    sorted_classifiers = np.array(sorted( zip(means, names)))\n",
    "    df_list = []\n",
    "    for classifier in sorted_classifiers[:,1]:\n",
    "        df = data.loc[(data.Classifier == classifier)& (data.Ep2Avg == 8)]\n",
    "        df_list.append(df.Accuracy*100)\n",
    "    fig,ax = plt.subplots(figsize=(8.5,5))\n",
    "    ax.boxplot(df_list,labels= sorted_classifiers[:,1],widths=0.3)\n",
    "    ax.set_xticklabels(sorted_classifiers[:,1],rotation=30,ha='right')\n",
    "    ax.set_ylabel(\"Accuracy (%)\")\n",
    "    ax.set_ylim(-5,100)\n",
    "    fig.suptitle(\"Accuracy \" +name)\n",
    "    plt.savefig(r\"C:\\Users\\map92fg\\Documents\\Software\\P300_Classification\\created_data\\Graphics\\Accuracies\\Acc_\"+name+\".svg\",format='svg',bbox_inches=\"tight\",pad_inches=0.2)\n",
    "\n",
    "def bar_itr(data,name:str):\n",
    "    fig,ax = plt.subplots(figsize=(16,5))\n",
    "\n",
    "    means = data.loc[(data.Ep2Avg==8)].groupby(\"Classifier\").mean()[\"ITR\"].to_list()\n",
    "    names = data.loc[(data.Ep2Avg==8)].groupby(\"Classifier\").mean().index.to_list()\n",
    "    sorted_classifiers = np.array(sorted( zip(means, names)))\n",
    "    values = [float(i) for i in sorted_classifiers[:,0]]\n",
    "    df_list = []\n",
    "\n",
    "    ax.bar(sorted_classifiers[:,1],values,width =0.25)\n",
    "    ax.set_xticklabels(sorted_classifiers[:,1],rotation=30,ha='right')\n",
    "    ax.set_ylabel(\"ITR (Bits/Minuite)\")\n",
    "    fig.suptitle(\"ITR \" + name)\n",
    "    plt.savefig(r\"D:\\Google Drive\\Master\\Masterarbeit\\Graphics\\ITR_boxplot_\"+name+\".png\",bbox_inches=\"tight\",pad_inches=0.2)\n",
    "    \n",
    "def plot_timeline(tar_df, ntar_df,electrode,title):\n",
    "    col_list= [\"#d8b365\",\"#5ab4ac\",\"#ef8a62\",\"#67a9cf\"]\n",
    "    lr = LinearRegression()\n",
    "\n",
    "    x = tar_df.index.map(dt.datetime.toordinal).to_numpy()\n",
    "    x = x.reshape(-1,1)\n",
    "\n",
    "    fig, ax = plt.subplots(figsize = (12,5))\n",
    "    y = tar_df[\"Mean Amplitude\"].to_numpy()-ntar_df[\"Mean Amplitude\"].to_numpy()\n",
    "    y.reshape(-1,1)\n",
    "    lr.fit(x,y)\n",
    "    pred = lr.predict(x)\n",
    "    ax.axvline(x=tar_df.index.values[12],lw=1,alpha=1,zorder=0,c=col_list[2])\n",
    "    ax.axvline(x=tar_df.index.values[21],lw=1,alpha=1,zorder=0,c=col_list[3])\n",
    "    tar = ax.bar(tar_df.index,tar_df[\"Mean Amplitude\"], width=1,color=col_list[1])\n",
    "    ntar = ax.bar(tar_df.index,ntar_df[\"Mean Amplitude\"], width=1,color=col_list[0])\n",
    "    trend = ax.plot(tar_df.index,pred,c=\"k\",ls=\":\",lw=0.85)\n",
    "    lgd =ax.legend([\"SetB\",\"Tactilo Relacement\",\"Difference Trend\", \"Target\", \"NonTarget\"], ncol=5, title=title,loc='center', bbox_to_anchor=(0.5, 1.13),fontsize='small', fancybox=True)\n",
    "    #ax.set_title(electrode)\n",
    "    ax.axhline(y=0,c='k',lw=0.5)\n",
    "    ax.set_ylabel(\"µV\")\n",
    "\n",
    "    ax.set_xlabel(\"Session Date\")\n",
    "    #fig.suptitle(title)\n",
    "    fig.tight_layout\n",
    "    plt.savefig(r\"D:\\Google Drive\\Master\\Masterarbeit\\Graphics\\Timeline.png\",bbox_inches=\"tight\",pad_inches=0.2)"
   ]
  },
  {
   "cell_type": "markdown",
   "id": "d09d75aa",
   "metadata": {},
   "source": [
    "# Amplitudes"
   ]
  },
  {
   "cell_type": "code",
   "execution_count": 384,
   "id": "84e64d95",
   "metadata": {},
   "outputs": [],
   "source": [
    "def load_session_dates():\n",
    "    with open(r\"C:\\Users\\map92fg\\Documents\\Software\\P300_Classification\\data_thesis\\date_dict.pickle\", \"rb\") as file:\n",
    "        SESS_DATES = pickle.load(file)\n",
    "    return SESS_DATES\n",
    "\n",
    "SESS_DATES = load_session_dates()\n",
    "amp = pd.read_csv(r\"C:\\Users\\map92fg\\Documents\\Software\\P300_Classification\\created_data\\PUG_average_amplitudes_350_600.csv\")\n",
    "amp[\"Dates\"] = amp[\"Session\"].replace(SESS_DATES)\n",
    "\n",
    "amp.to_csv(r\"C:\\Users\\map92fg\\Documents\\Software\\P300_Classification\\created_data\\PUG_average_amplitudes_350_600_with_dates.csv\",index=False)\n"
   ]
  },
  {
   "cell_type": "markdown",
   "id": "910b4a37",
   "metadata": {},
   "source": [
    "# Load Data"
   ]
  },
  {
   "cell_type": "code",
   "execution_count": 608,
   "id": "27588c55",
   "metadata": {
    "scrolled": false
   },
   "outputs": [
    {
     "data": {
      "text/plain": "0"
     },
     "execution_count": 608,
     "metadata": {},
     "output_type": "execute_result"
    }
   ],
   "source": [
    "all_acc =  pd.read_csv(r\"C:\\Users\\map92fg\\Documents\\Software\\P300_Classification\\created_data\\Classifier_Results\\accuracies_19_05_22_V2.csv\")\n",
    "all_acc[\"Condition\"] = all_acc[\"Condition\"].map({\"sess3\":\"sess3\",\"sess1\":\"sess1\",\"single3_A\":\"single3\",\"single3_B\":\"single3\",\"single1_A\":\"single1\",\"single1_B\":\"single1\"}, na_action='ignore')\n",
    "all_acc.to_csv(r\"C:\\Users\\map92fg\\Documents\\Software\\P300_Classification\\created_data\\Classifier_Results\\PUG_accuracies.csv\",index=False)\n",
    "all_acc[\"Condition\"].isnull().any().sum()"
   ]
  },
  {
   "cell_type": "code",
   "execution_count": 609,
   "id": "6f496bbf",
   "metadata": {
    "scrolled": true
   },
   "outputs": [
    {
     "data": {
      "text/plain": "Empty DataFrame\nColumns: [Accuracy, Classifier, Session, Condition, Ep2Avg]\nIndex: []",
      "text/html": "<div>\n<style scoped>\n    .dataframe tbody tr th:only-of-type {\n        vertical-align: middle;\n    }\n\n    .dataframe tbody tr th {\n        vertical-align: top;\n    }\n\n    .dataframe thead th {\n        text-align: right;\n    }\n</style>\n<table border=\"1\" class=\"dataframe\">\n  <thead>\n    <tr style=\"text-align: right;\">\n      <th></th>\n      <th>Accuracy</th>\n      <th>Classifier</th>\n      <th>Session</th>\n      <th>Condition</th>\n      <th>Ep2Avg</th>\n    </tr>\n  </thead>\n  <tbody>\n  </tbody>\n</table>\n</div>"
     },
     "execution_count": 609,
     "metadata": {},
     "output_type": "execute_result"
    }
   ],
   "source": [
    "#change NaN values very SWLDA \n",
    "all_acc.Accuracy = all_acc.Accuracy.fillna(value=0)\n",
    "all_acc.loc[all_acc.isnull().any(axis=1)]"
   ]
  },
  {
   "cell_type": "code",
   "execution_count": 610,
   "id": "8924c57c",
   "metadata": {},
   "outputs": [],
   "source": [
    "# for the Pug only session 1-17 are evalutetd, without the xDawn spatial filter and the LDA\n",
    "pug = all_acc.loc[(~all_acc.Classifier.str.contains(\"xDawn\")) & (all_acc.Session<27) & (all_acc.Classifier!=\"LDA\") & (all_acc.Ep2Avg==8)]\n",
    "\n",
    "sess3 = pug.loc[pug.Condition==\"sess3\"]\n",
    "sess1 = pug.loc[pug.Condition==\"sess1\"]\n",
    "single3 = pug.loc[pug.Condition==\"single3\"]\n",
    "single1 = pug.loc[pug.Condition==\"single1\"]\n"
   ]
  },
  {
   "cell_type": "code",
   "execution_count": 611,
   "id": "43c23aa0",
   "metadata": {},
   "outputs": [
    {
     "data": {
      "text/plain": "      Accuracy Classifier  Session Condition  Ep2Avg\n6215       0.0      SWLDA       13     sess1       8\n6255       0.0      SWLDA       14     sess1       8\n6335       0.0      SWLDA       17     sess1       8",
      "text/html": "<div>\n<style scoped>\n    .dataframe tbody tr th:only-of-type {\n        vertical-align: middle;\n    }\n\n    .dataframe tbody tr th {\n        vertical-align: top;\n    }\n\n    .dataframe thead th {\n        text-align: right;\n    }\n</style>\n<table border=\"1\" class=\"dataframe\">\n  <thead>\n    <tr style=\"text-align: right;\">\n      <th></th>\n      <th>Accuracy</th>\n      <th>Classifier</th>\n      <th>Session</th>\n      <th>Condition</th>\n      <th>Ep2Avg</th>\n    </tr>\n  </thead>\n  <tbody>\n    <tr>\n      <th>6215</th>\n      <td>0.0</td>\n      <td>SWLDA</td>\n      <td>13</td>\n      <td>sess1</td>\n      <td>8</td>\n    </tr>\n    <tr>\n      <th>6255</th>\n      <td>0.0</td>\n      <td>SWLDA</td>\n      <td>14</td>\n      <td>sess1</td>\n      <td>8</td>\n    </tr>\n    <tr>\n      <th>6335</th>\n      <td>0.0</td>\n      <td>SWLDA</td>\n      <td>17</td>\n      <td>sess1</td>\n      <td>8</td>\n    </tr>\n  </tbody>\n</table>\n</div>"
     },
     "execution_count": 611,
     "metadata": {},
     "output_type": "execute_result"
    }
   ],
   "source": [
    "sess1.loc[sess1.Accuracy == 0]"
   ]
  },
  {
   "cell_type": "code",
   "execution_count": 612,
   "id": "140815af",
   "metadata": {},
   "outputs": [
    {
     "data": {
      "text/plain": "            Accuracy  Session  Condition  Ep2Avg\nClassifier                                      \nFGMDM             17       17         17      17\nFGMDM_res         17       17         17      17\nMDM               17       17         17      17\nMDM_res           17       17         17      17\nSWLDA             17       17         17      17\nshrinkLDA         17       17         17      17",
      "text/html": "<div>\n<style scoped>\n    .dataframe tbody tr th:only-of-type {\n        vertical-align: middle;\n    }\n\n    .dataframe tbody tr th {\n        vertical-align: top;\n    }\n\n    .dataframe thead th {\n        text-align: right;\n    }\n</style>\n<table border=\"1\" class=\"dataframe\">\n  <thead>\n    <tr style=\"text-align: right;\">\n      <th></th>\n      <th>Accuracy</th>\n      <th>Session</th>\n      <th>Condition</th>\n      <th>Ep2Avg</th>\n    </tr>\n    <tr>\n      <th>Classifier</th>\n      <th></th>\n      <th></th>\n      <th></th>\n      <th></th>\n    </tr>\n  </thead>\n  <tbody>\n    <tr>\n      <th>FGMDM</th>\n      <td>17</td>\n      <td>17</td>\n      <td>17</td>\n      <td>17</td>\n    </tr>\n    <tr>\n      <th>FGMDM_res</th>\n      <td>17</td>\n      <td>17</td>\n      <td>17</td>\n      <td>17</td>\n    </tr>\n    <tr>\n      <th>MDM</th>\n      <td>17</td>\n      <td>17</td>\n      <td>17</td>\n      <td>17</td>\n    </tr>\n    <tr>\n      <th>MDM_res</th>\n      <td>17</td>\n      <td>17</td>\n      <td>17</td>\n      <td>17</td>\n    </tr>\n    <tr>\n      <th>SWLDA</th>\n      <td>17</td>\n      <td>17</td>\n      <td>17</td>\n      <td>17</td>\n    </tr>\n    <tr>\n      <th>shrinkLDA</th>\n      <td>17</td>\n      <td>17</td>\n      <td>17</td>\n      <td>17</td>\n    </tr>\n  </tbody>\n</table>\n</div>"
     },
     "execution_count": 612,
     "metadata": {},
     "output_type": "execute_result"
    }
   ],
   "source": [
    "sess3.groupby(\"Classifier\").count()"
   ]
  },
  {
   "cell_type": "code",
   "execution_count": 613,
   "id": "ff33221a",
   "metadata": {
    "scrolled": true
   },
   "outputs": [
    {
     "data": {
      "text/plain": "            Accuracy    Session  Ep2Avg\nClassifier                             \nMDM_res     0.303922  13.764706     8.0\nMDM         0.418301  13.764706     8.0\nFGMDM       0.454248  13.764706     8.0\nSWLDA       0.477124  13.764706     8.0\nFGMDM_res   0.519608  13.764706     8.0\nshrinkLDA   0.571895  13.764706     8.0",
      "text/html": "<div>\n<style scoped>\n    .dataframe tbody tr th:only-of-type {\n        vertical-align: middle;\n    }\n\n    .dataframe tbody tr th {\n        vertical-align: top;\n    }\n\n    .dataframe thead th {\n        text-align: right;\n    }\n</style>\n<table border=\"1\" class=\"dataframe\">\n  <thead>\n    <tr style=\"text-align: right;\">\n      <th></th>\n      <th>Accuracy</th>\n      <th>Session</th>\n      <th>Ep2Avg</th>\n    </tr>\n    <tr>\n      <th>Classifier</th>\n      <th></th>\n      <th></th>\n      <th></th>\n    </tr>\n  </thead>\n  <tbody>\n    <tr>\n      <th>MDM_res</th>\n      <td>0.303922</td>\n      <td>13.764706</td>\n      <td>8.0</td>\n    </tr>\n    <tr>\n      <th>MDM</th>\n      <td>0.418301</td>\n      <td>13.764706</td>\n      <td>8.0</td>\n    </tr>\n    <tr>\n      <th>FGMDM</th>\n      <td>0.454248</td>\n      <td>13.764706</td>\n      <td>8.0</td>\n    </tr>\n    <tr>\n      <th>SWLDA</th>\n      <td>0.477124</td>\n      <td>13.764706</td>\n      <td>8.0</td>\n    </tr>\n    <tr>\n      <th>FGMDM_res</th>\n      <td>0.519608</td>\n      <td>13.764706</td>\n      <td>8.0</td>\n    </tr>\n    <tr>\n      <th>shrinkLDA</th>\n      <td>0.571895</td>\n      <td>13.764706</td>\n      <td>8.0</td>\n    </tr>\n  </tbody>\n</table>\n</div>"
     },
     "execution_count": 613,
     "metadata": {},
     "output_type": "execute_result"
    }
   ],
   "source": [
    "sess3.groupby(\"Classifier\").mean().sort_values(\"Accuracy\")"
   ]
  },
  {
   "cell_type": "code",
   "execution_count": 614,
   "id": "464d49f4",
   "metadata": {
    "scrolled": true
   },
   "outputs": [
    {
     "data": {
      "text/plain": "            Accuracy    Session  Ep2Avg\nClassifier                             \nMDM_res     0.297386  13.764706     8.0\nFGMDM       0.336601  13.764706     8.0\nSWLDA       0.352941  13.764706     8.0\nMDM         0.385621  13.764706     8.0\nFGMDM_res   0.401961  13.764706     8.0\nshrinkLDA   0.457516  13.764706     8.0",
      "text/html": "<div>\n<style scoped>\n    .dataframe tbody tr th:only-of-type {\n        vertical-align: middle;\n    }\n\n    .dataframe tbody tr th {\n        vertical-align: top;\n    }\n\n    .dataframe thead th {\n        text-align: right;\n    }\n</style>\n<table border=\"1\" class=\"dataframe\">\n  <thead>\n    <tr style=\"text-align: right;\">\n      <th></th>\n      <th>Accuracy</th>\n      <th>Session</th>\n      <th>Ep2Avg</th>\n    </tr>\n    <tr>\n      <th>Classifier</th>\n      <th></th>\n      <th></th>\n      <th></th>\n    </tr>\n  </thead>\n  <tbody>\n    <tr>\n      <th>MDM_res</th>\n      <td>0.297386</td>\n      <td>13.764706</td>\n      <td>8.0</td>\n    </tr>\n    <tr>\n      <th>FGMDM</th>\n      <td>0.336601</td>\n      <td>13.764706</td>\n      <td>8.0</td>\n    </tr>\n    <tr>\n      <th>SWLDA</th>\n      <td>0.352941</td>\n      <td>13.764706</td>\n      <td>8.0</td>\n    </tr>\n    <tr>\n      <th>MDM</th>\n      <td>0.385621</td>\n      <td>13.764706</td>\n      <td>8.0</td>\n    </tr>\n    <tr>\n      <th>FGMDM_res</th>\n      <td>0.401961</td>\n      <td>13.764706</td>\n      <td>8.0</td>\n    </tr>\n    <tr>\n      <th>shrinkLDA</th>\n      <td>0.457516</td>\n      <td>13.764706</td>\n      <td>8.0</td>\n    </tr>\n  </tbody>\n</table>\n</div>"
     },
     "execution_count": 614,
     "metadata": {},
     "output_type": "execute_result"
    }
   ],
   "source": [
    "sess1.groupby(\"Classifier\").mean().sort_values(\"Accuracy\")"
   ]
  },
  {
   "cell_type": "code",
   "execution_count": 615,
   "id": "f5dc86d0",
   "metadata": {},
   "outputs": [
    {
     "data": {
      "text/plain": "            Accuracy    Session  Ep2Avg\nClassifier                             \nMDM         0.156863  13.764706     8.0\nMDM_res     0.163399  13.764706     8.0\nFGMDM_res   0.313725  13.764706     8.0\nFGMDM       0.326797  13.764706     8.0\nshrinkLDA   0.356209  13.764706     8.0\nSWLDA       0.382353  13.764706     8.0",
      "text/html": "<div>\n<style scoped>\n    .dataframe tbody tr th:only-of-type {\n        vertical-align: middle;\n    }\n\n    .dataframe tbody tr th {\n        vertical-align: top;\n    }\n\n    .dataframe thead th {\n        text-align: right;\n    }\n</style>\n<table border=\"1\" class=\"dataframe\">\n  <thead>\n    <tr style=\"text-align: right;\">\n      <th></th>\n      <th>Accuracy</th>\n      <th>Session</th>\n      <th>Ep2Avg</th>\n    </tr>\n    <tr>\n      <th>Classifier</th>\n      <th></th>\n      <th></th>\n      <th></th>\n    </tr>\n  </thead>\n  <tbody>\n    <tr>\n      <th>MDM</th>\n      <td>0.156863</td>\n      <td>13.764706</td>\n      <td>8.0</td>\n    </tr>\n    <tr>\n      <th>MDM_res</th>\n      <td>0.163399</td>\n      <td>13.764706</td>\n      <td>8.0</td>\n    </tr>\n    <tr>\n      <th>FGMDM_res</th>\n      <td>0.313725</td>\n      <td>13.764706</td>\n      <td>8.0</td>\n    </tr>\n    <tr>\n      <th>FGMDM</th>\n      <td>0.326797</td>\n      <td>13.764706</td>\n      <td>8.0</td>\n    </tr>\n    <tr>\n      <th>shrinkLDA</th>\n      <td>0.356209</td>\n      <td>13.764706</td>\n      <td>8.0</td>\n    </tr>\n    <tr>\n      <th>SWLDA</th>\n      <td>0.382353</td>\n      <td>13.764706</td>\n      <td>8.0</td>\n    </tr>\n  </tbody>\n</table>\n</div>"
     },
     "execution_count": 615,
     "metadata": {},
     "output_type": "execute_result"
    }
   ],
   "source": [
    "single3.groupby(\"Classifier\").mean().sort_values(\"Accuracy\")"
   ]
  },
  {
   "cell_type": "code",
   "execution_count": 616,
   "id": "54d52334",
   "metadata": {
    "scrolled": true
   },
   "outputs": [
    {
     "data": {
      "text/plain": "            Accuracy    Session  Ep2Avg\nClassifier                             \nMDM         0.156863  13.764706     8.0\nMDM_res     0.163399  13.764706     8.0\nFGMDM_res   0.313725  13.764706     8.0\nFGMDM       0.326797  13.764706     8.0\nshrinkLDA   0.356209  13.764706     8.0\nSWLDA       0.382353  13.764706     8.0",
      "text/html": "<div>\n<style scoped>\n    .dataframe tbody tr th:only-of-type {\n        vertical-align: middle;\n    }\n\n    .dataframe tbody tr th {\n        vertical-align: top;\n    }\n\n    .dataframe thead th {\n        text-align: right;\n    }\n</style>\n<table border=\"1\" class=\"dataframe\">\n  <thead>\n    <tr style=\"text-align: right;\">\n      <th></th>\n      <th>Accuracy</th>\n      <th>Session</th>\n      <th>Ep2Avg</th>\n    </tr>\n    <tr>\n      <th>Classifier</th>\n      <th></th>\n      <th></th>\n      <th></th>\n    </tr>\n  </thead>\n  <tbody>\n    <tr>\n      <th>MDM</th>\n      <td>0.156863</td>\n      <td>13.764706</td>\n      <td>8.0</td>\n    </tr>\n    <tr>\n      <th>MDM_res</th>\n      <td>0.163399</td>\n      <td>13.764706</td>\n      <td>8.0</td>\n    </tr>\n    <tr>\n      <th>FGMDM_res</th>\n      <td>0.313725</td>\n      <td>13.764706</td>\n      <td>8.0</td>\n    </tr>\n    <tr>\n      <th>FGMDM</th>\n      <td>0.326797</td>\n      <td>13.764706</td>\n      <td>8.0</td>\n    </tr>\n    <tr>\n      <th>shrinkLDA</th>\n      <td>0.356209</td>\n      <td>13.764706</td>\n      <td>8.0</td>\n    </tr>\n    <tr>\n      <th>SWLDA</th>\n      <td>0.382353</td>\n      <td>13.764706</td>\n      <td>8.0</td>\n    </tr>\n  </tbody>\n</table>\n</div>"
     },
     "execution_count": 616,
     "metadata": {},
     "output_type": "execute_result"
    }
   ],
   "source": [
    "single1.groupby(\"Classifier\").mean().sort_values(\"Accuracy\")"
   ]
  },
  {
   "cell_type": "markdown",
   "id": "fa2000d9",
   "metadata": {},
   "source": [
    "### Boxplots Accuracy"
   ]
  },
  {
   "cell_type": "code",
   "execution_count": 638,
   "id": "907dd078",
   "metadata": {},
   "outputs": [],
   "source": [
    "def boxplot_accuracy(data,name:str,fname:str): #fnme = formatted name\n",
    "    means = data.loc[(data.Ep2Avg==8)].groupby(\"Classifier\").mean()[\"Accuracy\"].to_list()\n",
    "    names = data.loc[(data.Ep2Avg==8)].groupby(\"Classifier\").mean().index.to_list()\n",
    "    sorted_classifiers = np.array(sorted( zip(means, names)))\n",
    "    df_list = []\n",
    "    for classifier in sorted_classifiers[:,1]:\n",
    "        df = data.loc[(data.Classifier == classifier)& (data.Ep2Avg == 8)]\n",
    "        df_list.append(df.Accuracy*100)\n",
    "    fig,ax = plt.subplots(figsize=(8.5,5))\n",
    "    ax.boxplot(df_list,labels= sorted_classifiers[:,1],widths=0.3)\n",
    "    ax.set_xticklabels(sorted_classifiers[:,1],rotation=15,ha='right')\n",
    "    ax.set_ylabel(\"Accuracy (%)\")\n",
    "    ax.set_ylim(-15,100)\n",
    "    ax.axhline(y=-5,c='k', lw=0.5)\n",
    "    ax.axvspan(int(np.where(sorted_classifiers[:,1]==\"SWLDA\")[0]+1)-0.25,int(np.where(sorted_classifiers[:,1]==\"SWLDA\")[0]+1)+0.25, facecolor=\"#808080\", alpha=0.3)\n",
    "    for i,mean in enumerate(sorted_classifiers[:,0]):\n",
    "        ax.text(x=i+0.9,y=-11,s=str(round(float(mean)*100))+\"%\")\n",
    "    ax.text(x=.3,y=-11,s=\"Ø\")\n",
    "    fig.suptitle(fname)\n",
    "    plt.savefig(r\"C:\\Users\\map92fg\\Documents\\Software\\P300_Classification\\created_data\\Graphics\\Accuracies\\Acc_\"+name+\".svg\",format='svg',bbox_inches=\"tight\",pad_inches=0.2)\n"
   ]
  },
  {
   "cell_type": "code",
   "execution_count": 639,
   "id": "9a7e4d45",
   "metadata": {
    "scrolled": true
   },
   "outputs": [
    {
     "data": {
      "text/plain": "<Figure size 612x360 with 1 Axes>",
      "image/png": "[encoded data removed]"
     },
     "metadata": {
      "needs_background": "light"
     },
     "output_type": "display_data"
    }
   ],
   "source": [
    "boxplot_accuracy(sess3,r\"Sessionwise Calibration - 3 Runs\",r\"$\\bf{Sessionwise}$ Calibration - $\\bf{3}$ Runs\")"
   ]
  },
  {
   "cell_type": "code",
   "execution_count": 644,
   "id": "3ead5f6a",
   "metadata": {},
   "outputs": [
    {
     "data": {
      "text/plain": "<Figure size 612x360 with 1 Axes>",
      "image/png": "[encoded data removed]"
     },
     "metadata": {
      "needs_background": "light"
     },
     "output_type": "display_data"
    }
   ],
   "source": [
    "boxplot_accuracy(sess1,\"Sessionwise Calibration - 1 Run\",r\"$\\bf{Sessionwise}$ Calibration - $\\bf{1}$ Run\")"
   ]
  },
  {
   "cell_type": "code",
   "execution_count": 643,
   "id": "e66f962f",
   "metadata": {},
   "outputs": [
    {
     "data": {
      "text/plain": "<Figure size 612x360 with 1 Axes>",
      "image/png": "[encoded data removed]"
     },
     "metadata": {
      "needs_background": "light"
     },
     "output_type": "display_data"
    }
   ],
   "source": [
    "boxplot_accuracy(single3,r\"Single Calibration - 3 Sessions (9 Runs)\",r\"$\\bf{Single}$ Calibration - 3 Sessions ($\\bf{9}$ Runs)\")"
   ]
  },
  {
   "cell_type": "code",
   "execution_count": 642,
   "id": "5ec4d7a8",
   "metadata": {},
   "outputs": [
    {
     "data": {
      "text/plain": "<Figure size 612x360 with 1 Axes>",
      "image/png": "[encoded data removed]"
     },
     "metadata": {
      "needs_background": "light"
     },
     "output_type": "display_data"
    }
   ],
   "source": [
    "boxplot_accuracy(single1,r\"Single Calibration - 1 Session (3 Runs)\",r\"$\\bf{Single}$ Calibration - 1 Session ($\\bf{3}$ Runs)\")"
   ]
  },
  {
   "cell_type": "markdown",
   "source": [
    "# Amplitudes"
   ],
   "metadata": {
    "collapsed": false,
    "pycharm": {
     "name": "#%% md\n"
    }
   }
  },
  {
   "cell_type": "code",
   "execution_count": null,
   "outputs": [],
   "source": [
    "pd.read_csv(r\"D:\\Google Drive\\Master\\Masterarbeit\\Data\\Investigation\\average_amplitudes_350_600.csv\").groupby(\"Electrode\").std()"
   ],
   "metadata": {
    "collapsed": false,
    "pycharm": {
     "name": "#%%\n"
    }
   }
  },
  {
   "cell_type": "code",
   "execution_count": null,
   "outputs": [],
   "source": [
    "t_mean = t.groupby('Dates').mean()\n",
    "t_mean = t_mean.set_index(pd.to_datetime(t_mean.index,dayfirst=True),drop=True)\n",
    "t_mean = t_mean.sort_index()\n",
    "nt_mean = nt.groupby('Dates').mean()\n",
    "nt_mean = nt_mean.set_index(pd.to_datetime(nt_mean.index,dayfirst=True),drop=True)\n",
    "nt_mean = nt_mean.sort_index()"
   ],
   "metadata": {
    "collapsed": false,
    "pycharm": {
     "name": "#%%\n"
    }
   }
  },
  {
   "cell_type": "code",
   "execution_count": null,
   "outputs": [],
   "source": [
    "t_std = t.groupby('Dates').std()\n",
    "t_std = t_std.set_index(pd.to_datetime(t_std.index,dayfirst=True),drop=True)\n",
    "t_std = t_std.sort_index()\n",
    "nt_std = nt.groupby('Dates').std()\n",
    "nt_std = nt_std.set_index(pd.to_datetime(nt_std.index,dayfirst=True),drop=True)\n",
    "nt_std = nt_std.sort_index()"
   ],
   "metadata": {
    "collapsed": false,
    "pycharm": {
     "name": "#%%\n"
    }
   }
  },
  {
   "cell_type": "code",
   "execution_count": null,
   "outputs": [],
   "source": [
    "t_ci = t_std[\"Mean Amplitude\"]*1.96/np.sqrt(6)\n",
    "nt_ci = nt_std[\"Mean Amplitude\"]*1.96/np.sqrt(6)\n",
    "t_ci = [(t_mean[\"Mean Amplitude\"]-t_ci).to_list(), (t_mean[\"Mean Amplitude\"]+t_ci).to_list()]\n",
    "nt_ci = [(nt_mean[\"Mean Amplitude\"]-nt_ci).to_list(), (nt_mean[\"Mean Amplitude\"]+nt_ci).to_list()]"
   ],
   "metadata": {
    "collapsed": false,
    "pycharm": {
     "name": "#%%\n"
    }
   }
  },
  {
   "cell_type": "code",
   "execution_count": 354,
   "id": "4c046b59",
   "metadata": {},
   "outputs": [
    {
     "data": {
      "text/plain": [
       "[[-0.7105314683453487,\n",
       "  0.9053744847598102,\n",
       "  0.7874218432186137,\n",
       "  -0.42000099550864145,\n",
       "  0.5110922952468733,\n",
       "  1.1649889024940467,\n",
       "  -0.7033696527609828,\n",
       "  1.272168716324589,\n",
       "  2.379509901776731,\n",
       "  2.022208175731102,\n",
       "  0.8766293320015426,\n",
       "  0.848418922183546,\n",
       "  1.0253166692680937,\n",
       "  0.25589364726201436,\n",
       "  0.4653473746773571,\n",
       "  -1.0319614365922782,\n",
       "  0.7567117610247309],\n",
       " [5.03064312255637,\n",
       "  4.035813359833413,\n",
       "  3.0446372483337423,\n",
       "  2.8247666664674425,\n",
       "  3.1350339330902237,\n",
       "  4.475791649680516,\n",
       "  2.636669937590968,\n",
       "  3.267124504398131,\n",
       "  3.431088859876848,\n",
       "  2.8989197271664655,\n",
       "  2.79983379365197,\n",
       "  2.278111508140746,\n",
       "  3.667834441429749,\n",
       "  3.4433385912417735,\n",
       "  3.123037087355678,\n",
       "  1.6008637409807345,\n",
       "  2.1508897514696996]]"
      ]
     },
     "execution_count": 354,
     "metadata": {},
     "output_type": "execute_result"
    }
   ],
   "source": [
    "[(t_mean[\"Mean Amplitude\"]-t_ci).to_list(), (t_mean[\"Mean Amplitude\"]+t_ci).to_list()]\n",
    "[(nt_mean[\"Mean Amplitude\"]-nt_ci).to_list(), (nt_mean[\"Mean Amplitude\"]+nt_ci).to_list()]"
   ]
  },
  {
   "cell_type": "code",
   "execution_count": 46,
   "id": "6ec4c952",
   "metadata": {
    "scrolled": true
   },
   "outputs": [
    {
     "data": {
      "image/png": "[encoded data removed]",
      "text/plain": [
       "<Figure size 864x360 with 1 Axes>"
      ]
     },
     "metadata": {
      "needs_background": "light"
     },
     "output_type": "display_data"
    }
   ],
   "source": [
    "import matplotlib.dates as mdates\n",
    "def plot_timeline(tar_df, ntar_df,electrode,title):\n",
    "    col_list= [\"#377eb8\",\"#e41a1c\",\"#4daf4a\"]\n",
    "    #lr = LinearRegression()\n",
    "\n",
    "    # x = tar_df.index.map(dt.datetime.toordinal).to_numpy()\n",
    "    # x = x.reshape(-1,1)\n",
    "\n",
    "    fig, ax = plt.subplots(figsize = (12,5))\n",
    "    #y = tar_df[\"Mean Amplitude\"].to_numpy()-ntar_df[\"Mean Amplitude\"].to_numpy()\n",
    "    #y.reshape(-1,1)\n",
    "    #lr.fit(x,y)\n",
    "    #pred = lr.predict(x)\n",
    "    ax.axvline(x=tar_df.index.values[12],lw=1,alpha=1,zorder=0,c=col_list[2]) # electrode set b\n",
    "    tar = ax.bar(tar_df.index,tar_df[\"Mean Amplitude\"], width=1,color=col_list[1],alpha=0.65)\n",
    "    ntar = ax.bar(tar_df.index,ntar_df[\"Mean Amplitude\"], width=1,color=col_list[0],alpha=0.65)\n",
    "   # trend = ax.plot(tar_df.index,pred,c=\"k\",ls=\":\",lw=0.85)\n",
    "    lgd =ax.legend([\"Electrode SetB\", \"Target\",  \"NonTarget\"], ncol=5, title=title,loc='center', bbox_to_anchor=(0.5, 1.13),fontsize='small', fancybox=True)\n",
    "    #ax.set_title(electrode)\n",
    "    ax.axhline(y=0,c='k',lw=0.5)\n",
    "    ax.set_ylabel(\"µV\")\n",
    "    ax.set_xticks(pd.DatetimeIndex([\"10.11.2020\",\"1.12.2020\",\"1.1.2021\"],dayfirst=True))\n",
    "    ax.xaxis.set_major_formatter(mdates.DateFormatter(\"%d.%m.%Y\"))\n",
    "    ax.xaxis.set_minor_formatter(mdates.DateFormatter(\"%Y-%m\"))\n",
    "    ax.set_xlabel(\"Sessions over Time\")\n",
    "    #fig.suptitle(title)\n",
    "    fig.tight_layout\n",
    "    plt.savefig(r\"C:\\Users\\map92fg\\Documents\\Software\\P300_Classification\\data_thesis\\PUG_Timeline.svg\",bbox_inches=\"tight\",pad_inches=0.2,format=\"svg\")\n",
    "plot_timeline(t,nt,\"Cz\",\"Amplitudes over time\")"
   ]
  },
  {
   "cell_type": "code",
   "execution_count": 44,
   "id": "a04adabe",
   "metadata": {
    "pycharm": {
     "name": "#%%\n"
    }
   },
   "outputs": [
    {
     "data": {
      "text/html": [
       "<div>\n",
       "<style scoped>\n",
       "    .dataframe tbody tr th:only-of-type {\n",
       "        vertical-align: middle;\n",
       "    }\n",
       "\n",
       "    .dataframe tbody tr th {\n",
       "        vertical-align: top;\n",
       "    }\n",
       "\n",
       "    .dataframe thead th {\n",
       "        text-align: right;\n",
       "    }\n",
       "</style>\n",
       "<table border=\"1\" class=\"dataframe\">\n",
       "  <thead>\n",
       "    <tr style=\"text-align: right;\">\n",
       "      <th></th>\n",
       "      <th>Session</th>\n",
       "      <th>Tactilo</th>\n",
       "      <th>Mean Amplitude</th>\n",
       "    </tr>\n",
       "  </thead>\n",
       "  <tbody>\n",
       "    <tr>\n",
       "      <th>count</th>\n",
       "      <td>17.000000</td>\n",
       "      <td>17.0</td>\n",
       "      <td>17.000000</td>\n",
       "    </tr>\n",
       "    <tr>\n",
       "      <th>mean</th>\n",
       "      <td>13.764706</td>\n",
       "      <td>3.5</td>\n",
       "      <td>-0.360502</td>\n",
       "    </tr>\n",
       "    <tr>\n",
       "      <th>std</th>\n",
       "      <td>8.692881</td>\n",
       "      <td>0.0</td>\n",
       "      <td>0.215043</td>\n",
       "    </tr>\n",
       "    <tr>\n",
       "      <th>min</th>\n",
       "      <td>1.000000</td>\n",
       "      <td>3.5</td>\n",
       "      <td>-0.666765</td>\n",
       "    </tr>\n",
       "    <tr>\n",
       "      <th>25%</th>\n",
       "      <td>6.000000</td>\n",
       "      <td>3.5</td>\n",
       "      <td>-0.510342</td>\n",
       "    </tr>\n",
       "    <tr>\n",
       "      <th>50%</th>\n",
       "      <td>14.000000</td>\n",
       "      <td>3.5</td>\n",
       "      <td>-0.350763</td>\n",
       "    </tr>\n",
       "    <tr>\n",
       "      <th>75%</th>\n",
       "      <td>22.000000</td>\n",
       "      <td>3.5</td>\n",
       "      <td>-0.266491</td>\n",
       "    </tr>\n",
       "    <tr>\n",
       "      <th>max</th>\n",
       "      <td>26.000000</td>\n",
       "      <td>3.5</td>\n",
       "      <td>0.036473</td>\n",
       "    </tr>\n",
       "  </tbody>\n",
       "</table>\n",
       "</div>"
      ],
      "text/plain": [
       "         Session  Tactilo  Mean Amplitude\n",
       "count  17.000000     17.0       17.000000\n",
       "mean   13.764706      3.5       -0.360502\n",
       "std     8.692881      0.0        0.215043\n",
       "min     1.000000      3.5       -0.666765\n",
       "25%     6.000000      3.5       -0.510342\n",
       "50%    14.000000      3.5       -0.350763\n",
       "75%    22.000000      3.5       -0.266491\n",
       "max    26.000000      3.5        0.036473"
      ]
     },
     "execution_count": 44,
     "metadata": {},
     "output_type": "execute_result"
    }
   ],
   "source": [
    "nt.describe()"
   ]
  },
  {
   "cell_type": "code",
   "execution_count": 45,
   "id": "71003c26",
   "metadata": {
    "pycharm": {
     "name": "#%%\n"
    }
   },
   "outputs": [
    {
     "data": {
      "text/html": [
       "<div>\n",
       "<style scoped>\n",
       "    .dataframe tbody tr th:only-of-type {\n",
       "        vertical-align: middle;\n",
       "    }\n",
       "\n",
       "    .dataframe tbody tr th {\n",
       "        vertical-align: top;\n",
       "    }\n",
       "\n",
       "    .dataframe thead th {\n",
       "        text-align: right;\n",
       "    }\n",
       "</style>\n",
       "<table border=\"1\" class=\"dataframe\">\n",
       "  <thead>\n",
       "    <tr style=\"text-align: right;\">\n",
       "      <th></th>\n",
       "      <th>Session</th>\n",
       "      <th>Tactilo</th>\n",
       "      <th>Mean Amplitude</th>\n",
       "    </tr>\n",
       "  </thead>\n",
       "  <tbody>\n",
       "    <tr>\n",
       "      <th>count</th>\n",
       "      <td>17.000000</td>\n",
       "      <td>17.0</td>\n",
       "      <td>17.000000</td>\n",
       "    </tr>\n",
       "    <tr>\n",
       "      <th>mean</th>\n",
       "      <td>13.764706</td>\n",
       "      <td>3.5</td>\n",
       "      <td>1.889695</td>\n",
       "    </tr>\n",
       "    <tr>\n",
       "      <th>std</th>\n",
       "      <td>8.692881</td>\n",
       "      <td>0.0</td>\n",
       "      <td>0.670982</td>\n",
       "    </tr>\n",
       "    <tr>\n",
       "      <th>min</th>\n",
       "      <td>1.000000</td>\n",
       "      <td>3.5</td>\n",
       "      <td>0.284451</td>\n",
       "    </tr>\n",
       "    <tr>\n",
       "      <th>25%</th>\n",
       "      <td>6.000000</td>\n",
       "      <td>3.5</td>\n",
       "      <td>1.563265</td>\n",
       "    </tr>\n",
       "    <tr>\n",
       "      <th>50%</th>\n",
       "      <td>14.000000</td>\n",
       "      <td>3.5</td>\n",
       "      <td>1.849616</td>\n",
       "    </tr>\n",
       "    <tr>\n",
       "      <th>75%</th>\n",
       "      <td>22.000000</td>\n",
       "      <td>3.5</td>\n",
       "      <td>2.346576</td>\n",
       "    </tr>\n",
       "    <tr>\n",
       "      <th>max</th>\n",
       "      <td>26.000000</td>\n",
       "      <td>3.5</td>\n",
       "      <td>2.905299</td>\n",
       "    </tr>\n",
       "  </tbody>\n",
       "</table>\n",
       "</div>"
      ],
      "text/plain": [
       "         Session  Tactilo  Mean Amplitude\n",
       "count  17.000000     17.0       17.000000\n",
       "mean   13.764706      3.5        1.889695\n",
       "std     8.692881      0.0        0.670982\n",
       "min     1.000000      3.5        0.284451\n",
       "25%     6.000000      3.5        1.563265\n",
       "50%    14.000000      3.5        1.849616\n",
       "75%    22.000000      3.5        2.346576\n",
       "max    26.000000      3.5        2.905299"
      ]
     },
     "execution_count": 45,
     "metadata": {},
     "output_type": "execute_result"
    }
   ],
   "source": [
    "t.describe()"
   ]
  },
  {
   "cell_type": "code",
   "execution_count": null,
   "id": "3bcec679",
   "metadata": {
    "pycharm": {
     "name": "#%%\n"
    }
   },
   "outputs": [],
   "source": []
  }
 ],
 "metadata": {
  "kernelspec": {
   "display_name": "Python 3 (ipykernel)",
   "language": "python",
   "name": "python3"
  },
  "language_info": {
   "codemirror_mode": {
    "name": "ipython",
    "version": 3
   },
   "file_extension": ".py",
   "mimetype": "text/x-python",
   "name": "python",
   "nbconvert_exporter": "python",
   "pygments_lexer": "ipython3",
   "version": "3.7.13"
  }
 },
 "nbformat": 4,
 "nbformat_minor": 5
}